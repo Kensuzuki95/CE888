{
  "nbformat": 4,
  "nbformat_minor": 0,
  "metadata": {
    "colab": {
      "name": "bootstrap.ipynb",
      "provenance": [],
      "collapsed_sections": [],
      "toc_visible": true
    },
    "kernelspec": {
      "display_name": "Python 3",
      "language": "python",
      "name": "python3"
    },
    "language_info": {
      "codemirror_mode": {
        "name": "ipython",
        "version": 3
      },
      "file_extension": ".py",
      "mimetype": "text/x-python",
      "name": "python",
      "nbconvert_exporter": "python",
      "pygments_lexer": "ipython3",
      "version": "3.7.6"
    },
    "pycharm": {
      "stem_cell": {
        "cell_type": "raw",
        "metadata": {
          "collapsed": false
        },
        "source": []
      }
    }
  },
  "cells": [
    {
      "cell_type": "markdown",
      "metadata": {
        "id": "nCi_99yMYIb1"
      },
      "source": [
        "In this notebook you'll create your own bootstrap function following the bootstrap algorithm (check the lecture notes!)"
      ]
    },
    {
      "cell_type": "code",
      "metadata": {
        "id": "LY5zujI2YC37",
        "pycharm": {
          "name": "#%%# Imports\n"
        }
      },
      "source": [
        "import matplotlib\n",
        "import pandas as pd\n",
        "import seaborn as sns\n",
        "import numpy as np\n",
        "import random"
      ],
      "execution_count": 1,
      "outputs": []
    },
    {
      "cell_type": "code",
      "metadata": {
        "id": "Eqkwj4SMY38t",
        "colab": {
          "base_uri": "https://localhost:8080/"
        },
        "outputId": "6651dda4-e578-4dc3-d651-e013d7c9cfa5"
      },
      "source": [
        "# Load the data\n",
        "df = pd.read_csv('https://raw.githubusercontent.com/albanda/CE888/master/lab2%20-%20bootstrap/customers.csv')\n",
        "data = df.values.T[1]\n",
        "data"
      ],
      "execution_count": 2,
      "outputs": [
        {
          "output_type": "execute_result",
          "data": {
            "text/plain": [
              "array([ 2.,  8., 20., 13.,  5.,  9., 10.,  8., 22., 10.,  2.,  4.,  7.,\n",
              "        9.])"
            ]
          },
          "metadata": {
            "tags": []
          },
          "execution_count": 2
        }
      ]
    },
    {
      "cell_type": "code",
      "metadata": {
        "id": "h_DERw8vpuoC",
        "colab": {
          "base_uri": "https://localhost:8080/",
          "height": 483
        },
        "outputId": "c0420fa7-9495-4f24-a296-d34c3f86086e"
      },
      "source": [
        "df"
      ],
      "execution_count": 3,
      "outputs": [
        {
          "output_type": "execute_result",
          "data": {
            "text/html": [
              "<div>\n",
              "<style scoped>\n",
              "    .dataframe tbody tr th:only-of-type {\n",
              "        vertical-align: middle;\n",
              "    }\n",
              "\n",
              "    .dataframe tbody tr th {\n",
              "        vertical-align: top;\n",
              "    }\n",
              "\n",
              "    .dataframe thead th {\n",
              "        text-align: right;\n",
              "    }\n",
              "</style>\n",
              "<table border=\"1\" class=\"dataframe\">\n",
              "  <thead>\n",
              "    <tr style=\"text-align: right;\">\n",
              "      <th></th>\n",
              "      <th>Day</th>\n",
              "      <th>Millons of pounds in sales</th>\n",
              "    </tr>\n",
              "  </thead>\n",
              "  <tbody>\n",
              "    <tr>\n",
              "      <th>0</th>\n",
              "      <td>1</td>\n",
              "      <td>2.0</td>\n",
              "    </tr>\n",
              "    <tr>\n",
              "      <th>1</th>\n",
              "      <td>2</td>\n",
              "      <td>8.0</td>\n",
              "    </tr>\n",
              "    <tr>\n",
              "      <th>2</th>\n",
              "      <td>3</td>\n",
              "      <td>20.0</td>\n",
              "    </tr>\n",
              "    <tr>\n",
              "      <th>3</th>\n",
              "      <td>4</td>\n",
              "      <td>13.0</td>\n",
              "    </tr>\n",
              "    <tr>\n",
              "      <th>4</th>\n",
              "      <td>5</td>\n",
              "      <td>5.0</td>\n",
              "    </tr>\n",
              "    <tr>\n",
              "      <th>5</th>\n",
              "      <td>6</td>\n",
              "      <td>9.0</td>\n",
              "    </tr>\n",
              "    <tr>\n",
              "      <th>6</th>\n",
              "      <td>7</td>\n",
              "      <td>10.0</td>\n",
              "    </tr>\n",
              "    <tr>\n",
              "      <th>7</th>\n",
              "      <td>8</td>\n",
              "      <td>8.0</td>\n",
              "    </tr>\n",
              "    <tr>\n",
              "      <th>8</th>\n",
              "      <td>9</td>\n",
              "      <td>22.0</td>\n",
              "    </tr>\n",
              "    <tr>\n",
              "      <th>9</th>\n",
              "      <td>10</td>\n",
              "      <td>10.0</td>\n",
              "    </tr>\n",
              "    <tr>\n",
              "      <th>10</th>\n",
              "      <td>11</td>\n",
              "      <td>2.0</td>\n",
              "    </tr>\n",
              "    <tr>\n",
              "      <th>11</th>\n",
              "      <td>12</td>\n",
              "      <td>4.0</td>\n",
              "    </tr>\n",
              "    <tr>\n",
              "      <th>12</th>\n",
              "      <td>13</td>\n",
              "      <td>7.0</td>\n",
              "    </tr>\n",
              "    <tr>\n",
              "      <th>13</th>\n",
              "      <td>14</td>\n",
              "      <td>9.0</td>\n",
              "    </tr>\n",
              "  </tbody>\n",
              "</table>\n",
              "</div>"
            ],
            "text/plain": [
              "    Day   Millons of pounds in sales\n",
              "0     1                          2.0\n",
              "1     2                          8.0\n",
              "2     3                         20.0\n",
              "3     4                         13.0\n",
              "4     5                          5.0\n",
              "5     6                          9.0\n",
              "6     7                         10.0\n",
              "7     8                          8.0\n",
              "8     9                         22.0\n",
              "9    10                         10.0\n",
              "10   11                          2.0\n",
              "11   12                          4.0\n",
              "12   13                          7.0\n",
              "13   14                          9.0"
            ]
          },
          "metadata": {
            "tags": []
          },
          "execution_count": 3
        }
      ]
    },
    {
      "cell_type": "code",
      "metadata": {
        "id": "Gxvc_bScYC4H",
        "pycharm": {
          "name": "#%%\n"
        }
      },
      "source": [
        "# Checking the notes from the lecture, create here your own bootstrap function:\n",
        "# 1. Sample from the input array x to create an array of samples of shape (n_bootstraps, sample_size)\n",
        "# Hint: Check the function random.choice() on Numpy\n",
        "# 2. Calculate and save the mean of the array (this is \"data_mean\" that is returned by the function)\n",
        "# 3. Calculate the mean from each bootstrap (i.e., row) and store it.\n",
        "# (This should be an array of n_bootstraps values)\n",
        "# 4. Calculate the lower and upper bounds for a 95% CI (hint: check the percentile function on Numpy)\n",
        "# 5. Return data_mean, and the lower and upper bounds of your interval\n",
        "\n",
        "def bootstrap_mean(x, sample_size, n_bootstraps):\n",
        "  mean = []\n",
        "  for i in range(0, n_bootstraps):\n",
        "    sample_n = np.random.choice(x, sample_size)\n",
        "    mean.append(np.mean(sample_n))\n",
        "  data_mean = np.mean(mean)\n",
        "  lower = np.percentile(mean, 2.5)\n",
        "  upper = np.percentile(mean, 97.5)\n",
        "  return data_mean, lower, upper"
      ],
      "execution_count": 4,
      "outputs": []
    },
    {
      "cell_type": "code",
      "metadata": {
        "id": "IOPF3hiu2yUn",
        "colab": {
          "base_uri": "https://localhost:8080/"
        },
        "outputId": "09a18dee-31e7-4a50-e79d-9db2d34913a7"
      },
      "source": [
        "X = data\n",
        "sample_size = data.shape[0]\n",
        "n_bootstraps = 10\n",
        "#np.random.choice(X, sample_size, (n_bootstraps))\n",
        "np.random.choice(X ,size = (n_bootstraps, sample_size))"
      ],
      "execution_count": 5,
      "outputs": [
        {
          "output_type": "execute_result",
          "data": {
            "text/plain": [
              "array([[ 8.,  9., 10., 13., 20.,  9., 10.,  2.,  9.,  9.,  2.,  9., 10.,\n",
              "        22.],\n",
              "       [ 2., 20.,  8.,  5., 10., 20.,  9.,  9.,  9., 10.,  8., 20., 20.,\n",
              "        10.],\n",
              "       [ 2., 22.,  2.,  8.,  9.,  8.,  9.,  2., 20., 20.,  9.,  2.,  4.,\n",
              "         8.],\n",
              "       [20., 10.,  8.,  4., 13.,  8.,  8.,  9.,  8., 10., 10.,  8.,  9.,\n",
              "         9.],\n",
              "       [10.,  2.,  2., 10.,  7., 22., 13.,  4., 20., 13.,  5.,  2., 20.,\n",
              "         7.],\n",
              "       [ 9.,  2.,  2.,  2., 20., 20.,  5., 22., 13.,  7.,  5.,  5.,  2.,\n",
              "         2.],\n",
              "       [10., 13.,  5.,  9.,  9.,  9.,  2., 13.,  9.,  2., 20.,  4., 22.,\n",
              "        10.],\n",
              "       [13., 10.,  9.,  8.,  8., 10.,  9.,  2., 20., 22.,  9.,  7.,  8.,\n",
              "         2.],\n",
              "       [ 8.,  2., 10.,  5.,  8., 20.,  2.,  9.,  7.,  2.,  9.,  2.,  9.,\n",
              "        10.],\n",
              "       [ 9., 10., 20., 10.,  9.,  2., 22.,  5.,  7.,  8., 13.,  2.,  2.,\n",
              "         2.]])"
            ]
          },
          "metadata": {
            "tags": []
          },
          "execution_count": 5
        }
      ]
    },
    {
      "cell_type": "code",
      "metadata": {
        "id": "AN7sEOcMYC4P",
        "pycharm": {
          "name": "#%%\n"
        },
        "colab": {
          "base_uri": "https://localhost:8080/",
          "height": 454
        },
        "outputId": "5224ac11-9862-4061-aebc-8ee7b970ac7a"
      },
      "source": [
        "# Call your bootstrap function and plot the results\n",
        "\n",
        "boots = []\n",
        "for i in range(100, 50000, 1000): #Range between 100 to 5000, count by 1000\n",
        "    boot = bootstrap_mean(data, data.shape[0], i)\n",
        "    boots.append([i, boot[0], \"mean\"])\n",
        "    boots.append([i, boot[1], \"lower\"])\n",
        "    boots.append([i, boot[2], \"upper\"])\n",
        "\n",
        "df_boot = pd.DataFrame(boots, columns=['Bootstrap Iterations', 'Mean', \"Value\"])\n",
        "sns_plot = sns.lmplot(df_boot.columns[0], df_boot.columns[1], data=df_boot, fit_reg=False, hue=\"Value\")\n",
        "\n",
        "sns_plot.axes[0, 0].set_ylim(0,)\n",
        "sns_plot.axes[0, 0].set_xlim(0, 50000)\n"
      ],
      "execution_count": 6,
      "outputs": [
        {
          "output_type": "stream",
          "text": [
            "/usr/local/lib/python3.7/dist-packages/seaborn/_decorators.py:43: FutureWarning: Pass the following variables as keyword args: x, y. From version 0.12, the only valid positional argument will be `data`, and passing other arguments without an explicit keyword will result in an error or misinterpretation.\n",
            "  FutureWarning\n"
          ],
          "name": "stderr"
        },
        {
          "output_type": "execute_result",
          "data": {
            "text/plain": [
              "(0.0, 50000.0)"
            ]
          },
          "metadata": {
            "tags": []
          },
          "execution_count": 6
        },
        {
          "output_type": "display_data",
          "data": {
            "image/png": "[encoded data removed]",
            "text/plain": [
              "<Figure size 425.125x360 with 1 Axes>"
            ]
          },
          "metadata": {
            "tags": [],
            "needs_background": "light"
          }
        }
      ]
    },
    {
      "cell_type": "code",
      "metadata": {
        "id": "V-WzYTBklury",
        "colab": {
          "base_uri": "https://localhost:8080/",
          "height": 235
        },
        "outputId": "aaf19db4-6908-45b7-8100-e9c99c419075"
      },
      "source": [
        "#Check the content of the above generated DataFrame\n",
        "df_boot.head(6)"
      ],
      "execution_count": 7,
      "outputs": [
        {
          "output_type": "execute_result",
          "data": {
            "text/html": [
              "<div>\n",
              "<style scoped>\n",
              "    .dataframe tbody tr th:only-of-type {\n",
              "        vertical-align: middle;\n",
              "    }\n",
              "\n",
              "    .dataframe tbody tr th {\n",
              "        vertical-align: top;\n",
              "    }\n",
              "\n",
              "    .dataframe thead th {\n",
              "        text-align: right;\n",
              "    }\n",
              "</style>\n",
              "<table border=\"1\" class=\"dataframe\">\n",
              "  <thead>\n",
              "    <tr style=\"text-align: right;\">\n",
              "      <th></th>\n",
              "      <th>Bootstrap Iterations</th>\n",
              "      <th>Mean</th>\n",
              "      <th>Value</th>\n",
              "    </tr>\n",
              "  </thead>\n",
              "  <tbody>\n",
              "    <tr>\n",
              "      <th>0</th>\n",
              "      <td>100</td>\n",
              "      <td>9.381429</td>\n",
              "      <td>mean</td>\n",
              "    </tr>\n",
              "    <tr>\n",
              "      <th>1</th>\n",
              "      <td>100</td>\n",
              "      <td>6.391071</td>\n",
              "      <td>lower</td>\n",
              "    </tr>\n",
              "    <tr>\n",
              "      <th>2</th>\n",
              "      <td>100</td>\n",
              "      <td>12.360714</td>\n",
              "      <td>upper</td>\n",
              "    </tr>\n",
              "    <tr>\n",
              "      <th>3</th>\n",
              "      <td>1100</td>\n",
              "      <td>9.213442</td>\n",
              "      <td>mean</td>\n",
              "    </tr>\n",
              "    <tr>\n",
              "      <th>4</th>\n",
              "      <td>1100</td>\n",
              "      <td>6.214286</td>\n",
              "      <td>lower</td>\n",
              "    </tr>\n",
              "    <tr>\n",
              "      <th>5</th>\n",
              "      <td>1100</td>\n",
              "      <td>12.500000</td>\n",
              "      <td>upper</td>\n",
              "    </tr>\n",
              "  </tbody>\n",
              "</table>\n",
              "</div>"
            ],
            "text/plain": [
              "   Bootstrap Iterations       Mean  Value\n",
              "0                   100   9.381429   mean\n",
              "1                   100   6.391071  lower\n",
              "2                   100  12.360714  upper\n",
              "3                  1100   9.213442   mean\n",
              "4                  1100   6.214286  lower\n",
              "5                  1100  12.500000  upper"
            ]
          },
          "metadata": {
            "tags": []
          },
          "execution_count": 7
        }
      ]
    },
    {
      "cell_type": "markdown",
      "metadata": {
        "id": "MjtP4e2_YC4V"
      },
      "source": [
        "\n",
        "Now, modify the bootstrap function you created above so that you can pass your desired confidence interval as a parameter.\n",
        "\n"
      ]
    },
    {
      "cell_type": "code",
      "metadata": {
        "id": "3K9j0FuGYhHs"
      },
      "source": [
        "#Import spicy.stats to create custom confidence interval\n",
        "import numpy as np\n",
        "import scipy.stats as st\n",
        "\n",
        "def bootstrap_mean_ci(sample, sample_size, n_bootstraps, ci): #Use confidence interval by percentage [0% =< ci =< 100%]\n",
        "  mean = []\n",
        "  for i in range(0, n_bootstraps):\n",
        "    sample_n = np.random.choice(sample, sample_size)\n",
        "    mean.append(np.mean(sample_n))\n",
        "\n",
        "  #Create custom confidence interval for permutated numpy array using Spicy.stats\n",
        "  perm_ci = st.t.interval(alpha= (ci/100), df=len(mean)-1, loc=np.mean(mean), scale=st.sem(mean))\n",
        "\n",
        "  #Calculate mean, lower and upper bound\n",
        "  data_mean = np.mean(perm_ci)  \n",
        "  lower = np.percentile(mean, ((100 - ci)/2))\n",
        "  upper = np.percentile(mean, (ci + (100 - ci)/2))\n",
        "  return data_mean, lower, upper"
      ],
      "execution_count": 8,
      "outputs": []
    },
    {
      "cell_type": "code",
      "metadata": {
        "id": "uDnjq08GYl-C",
        "colab": {
          "base_uri": "https://localhost:8080/",
          "height": 454
        },
        "outputId": "92df1e38-ea0d-4704-da97-f72036c34277"
      },
      "source": [
        "boots = []\n",
        "for i in range(100, 50000, 1000):\n",
        "    boot = bootstrap_mean_ci(data, data.shape[0], i, 80)\n",
        "    boots.append([i, boot[0], \"mean\"])\n",
        "    boots.append([i, boot[1], \"lower\"])\n",
        "    boots.append([i, boot[2], \"upper\"])\n",
        "\n",
        "df_boot = pd.DataFrame(boots, columns=['Boostrap Iterations', 'Mean', \"Value\"])\n",
        "sns_plot = sns.lmplot(df_boot.columns[0], df_boot.columns[1], data=df_boot, fit_reg=False, hue=\"Value\")\n",
        "\n",
        "sns_plot.axes[0, 0].set_ylim(0,)\n",
        "sns_plot.axes[0, 0].set_xlim(0, 50000)\n",
        "\n",
        "#sns_plot.savefig(\"bootstrap_confidence_80.pdf\", bbox_inches='tight')\n"
      ],
      "execution_count": 9,
      "outputs": [
        {
          "output_type": "stream",
          "text": [
            "/usr/local/lib/python3.7/dist-packages/seaborn/_decorators.py:43: FutureWarning: Pass the following variables as keyword args: x, y. From version 0.12, the only valid positional argument will be `data`, and passing other arguments without an explicit keyword will result in an error or misinterpretation.\n",
            "  FutureWarning\n"
          ],
          "name": "stderr"
        },
        {
          "output_type": "execute_result",
          "data": {
            "text/plain": [
              "(0.0, 50000.0)"
            ]
          },
          "metadata": {
            "tags": []
          },
          "execution_count": 9
        },
        {
          "output_type": "display_data",
          "data": {
            "image/png": "[encoded data removed]",
            "text/plain": [
              "<Figure size 425.125x360 with 1 Axes>"
            ]
          },
          "metadata": {
            "tags": [],
            "needs_background": "light"
          }
        }
      ]
    },
    {
      "cell_type": "code",
      "metadata": {
        "id": "SJv3fBekxIDo",
        "colab": {
          "base_uri": "https://localhost:8080/",
          "height": 235
        },
        "outputId": "99c3c1c0-342d-47b9-80d9-5728764a77d5"
      },
      "source": [
        "df_boot.tail(6)"
      ],
      "execution_count": 10,
      "outputs": [
        {
          "output_type": "execute_result",
          "data": {
            "text/html": [
              "<div>\n",
              "<style scoped>\n",
              "    .dataframe tbody tr th:only-of-type {\n",
              "        vertical-align: middle;\n",
              "    }\n",
              "\n",
              "    .dataframe tbody tr th {\n",
              "        vertical-align: top;\n",
              "    }\n",
              "\n",
              "    .dataframe thead th {\n",
              "        text-align: right;\n",
              "    }\n",
              "</style>\n",
              "<table border=\"1\" class=\"dataframe\">\n",
              "  <thead>\n",
              "    <tr style=\"text-align: right;\">\n",
              "      <th></th>\n",
              "      <th>Boostrap Iterations</th>\n",
              "      <th>Mean</th>\n",
              "      <th>Value</th>\n",
              "    </tr>\n",
              "  </thead>\n",
              "  <tbody>\n",
              "    <tr>\n",
              "      <th>144</th>\n",
              "      <td>48100</td>\n",
              "      <td>9.217134</td>\n",
              "      <td>mean</td>\n",
              "    </tr>\n",
              "    <tr>\n",
              "      <th>145</th>\n",
              "      <td>48100</td>\n",
              "      <td>7.285714</td>\n",
              "      <td>lower</td>\n",
              "    </tr>\n",
              "    <tr>\n",
              "      <th>146</th>\n",
              "      <td>48100</td>\n",
              "      <td>11.214286</td>\n",
              "      <td>upper</td>\n",
              "    </tr>\n",
              "    <tr>\n",
              "      <th>147</th>\n",
              "      <td>49100</td>\n",
              "      <td>9.210358</td>\n",
              "      <td>mean</td>\n",
              "    </tr>\n",
              "    <tr>\n",
              "      <th>148</th>\n",
              "      <td>49100</td>\n",
              "      <td>7.285714</td>\n",
              "      <td>lower</td>\n",
              "    </tr>\n",
              "    <tr>\n",
              "      <th>149</th>\n",
              "      <td>49100</td>\n",
              "      <td>11.214286</td>\n",
              "      <td>upper</td>\n",
              "    </tr>\n",
              "  </tbody>\n",
              "</table>\n",
              "</div>"
            ],
            "text/plain": [
              "     Boostrap Iterations       Mean  Value\n",
              "144                48100   9.217134   mean\n",
              "145                48100   7.285714  lower\n",
              "146                48100  11.214286  upper\n",
              "147                49100   9.210358   mean\n",
              "148                49100   7.285714  lower\n",
              "149                49100  11.214286  upper"
            ]
          },
          "metadata": {
            "tags": []
          },
          "execution_count": 10
        }
      ]
    },
    {
      "cell_type": "code",
      "metadata": {
        "id": "nm5jLhSbpGPi",
        "colab": {
          "base_uri": "https://localhost:8080/"
        },
        "outputId": "bffccdee-5f42-497b-c88a-8da7dac5c377"
      },
      "source": [
        "import numpy as np\n",
        "import scipy.stats as st\n",
        "\n",
        "#define sample data\n",
        "data1 = [12, 12, 13, 13, 15, 16, 17, 22, 23, 25, 26, 27, 28, 28, 29]\n",
        "\n",
        "#create 95% confidence interval for population mean weight\n",
        "st.t.interval(alpha=0.95, df=len(data1)-1, loc=np.mean(data1), scale=st.sem(data1))\n",
        "\n",
        "#(16.758, 24.042)"
      ],
      "execution_count": 11,
      "outputs": [
        {
          "output_type": "execute_result",
          "data": {
            "text/plain": [
              "(16.75776979778498, 24.042230202215016)"
            ]
          },
          "metadata": {
            "tags": []
          },
          "execution_count": 11
        }
      ]
    },
    {
      "cell_type": "code",
      "metadata": {
        "colab": {
          "base_uri": "https://localhost:8080/"
        },
        "id": "fbQBBHQ2h-of",
        "outputId": "f57f775b-d13f-4462-b4ab-4d1ea6681b2d"
      },
      "source": [
        "bootstrap_mean_ci(data, data.shape[0], 10000, 80)"
      ],
      "execution_count": 12,
      "outputs": [
        {
          "output_type": "execute_result",
          "data": {
            "text/plain": [
              "(9.203121428571428, 7.285714285714286, 11.214285714285714)"
            ]
          },
          "metadata": {
            "tags": []
          },
          "execution_count": 12
        }
      ]
    },
    {
      "cell_type": "code",
      "metadata": {
        "id": "hBpiBa_1rRlB"
      },
      "source": [
        "#Claculate standard deviation\n",
        "def bootstrap_st_ci(sample, sample_size, n_bootstraps, ci):\n",
        "  standard_deviation = []\n",
        "  for i in range(0, n_bootstraps):\n",
        "    sample_n = np.random.choice(sample, sample_size)\n",
        "    standard_deviation.append(np.std(sample_n))\n",
        "  standard_deviation_mean = np.mean(standard_deviation)\n",
        "  lower = np.percentile(standard_deviation, (100-ci)/2)\n",
        "  upper = np.percentile(standard_deviation, ((100-ci)/2+ci))\n",
        "  return standard_deviation_mean, lower, upper"
      ],
      "execution_count": 13,
      "outputs": []
    },
    {
      "cell_type": "code",
      "metadata": {
        "colab": {
          "base_uri": "https://localhost:8080/"
        },
        "id": "yg8JbLTJk5vU",
        "outputId": "9736a5f6-f809-44f5-bfb7-0369c327427a"
      },
      "source": [
        "bootstrap_st_ci(data, data.shape[0], 10000, 90)"
      ],
      "execution_count": 57,
      "outputs": [
        {
          "output_type": "execute_result",
          "data": {
            "text/plain": [
              "(5.336940246537389, 3.02017019862426, 7.087337799729813)"
            ]
          },
          "metadata": {
            "tags": []
          },
          "execution_count": 57
        }
      ]
    },
    {
      "cell_type": "markdown",
      "metadata": {
        "id": "qjNgXW6wdd7r"
      },
      "source": [
        "# Vehicles dataset\n",
        "\n",
        "Now let's work on a different dataset, which is stored in the vehicles.csv file.\n"
      ]
    },
    {
      "cell_type": "code",
      "metadata": {
        "id": "avWv4ipFdpka",
        "colab": {
          "base_uri": "https://localhost:8080/",
          "height": 308
        },
        "outputId": "5cca4a53-64f6-43ef-aec2-f198fb3882d4"
      },
      "source": [
        "# Load and visualise the vehicles dataset\n",
        "# To load the dataset: https://neptune.ai/blog/google-colab-dealing-with-files (check section \"Load individual files directly from GitHub\")\n",
        "df_vehicles = pd.read_csv('https://raw.githubusercontent.com/albanda/CE888/master/lab2%20-%20bootstrap/vehicles.csv')\n",
        "data_vehicles = df_vehicles.values.T[1]\n",
        "df_vehicles\n",
        "\n",
        "# Note that the current and new fleets are in different columns and have different lengths, so bear this in mind when you're plotting.\n",
        "# You can create separate scatterplots for the two fleets, as you would with the histograms, \n",
        "# or plot them both in one plot (but not one against the other).\n",
        "import matplotlib.pyplot as plt\n",
        "plt.style.use('seaborn-whitegrid')\n",
        "import numpy as np\n",
        "\n",
        "fig, (ax1, ax2) = plt.subplots(1, 2)\n",
        "fig.suptitle('Vehicles Dataset Distribution')\n",
        "ax1.plot(df_vehicles['Current fleet'], 'o', color='black')\n",
        "ax1.set_title('Current fleet')\n",
        "ax2.plot(df_vehicles['New Fleet'], 'o', color='black')\n",
        "ax2.set_title('New fleet')\n",
        "#plt.plot(df_vehicles['Current fleet'], 'o', color='black')"
      ],
      "execution_count": 16,
      "outputs": [
        {
          "output_type": "execute_result",
          "data": {
            "text/plain": [
              "Text(0.5, 1.0, 'New fleet')"
            ]
          },
          "metadata": {
            "tags": []
          },
          "execution_count": 16
        },
        {
          "output_type": "display_data",
          "data": {
            "image/png": "[encoded data removed]",
            "text/plain": [
              "<Figure size 432x288 with 2 Axes>"
            ]
          },
          "metadata": {
            "tags": []
          }
        }
      ]
    },
    {
      "cell_type": "markdown",
      "metadata": {
        "id": "B5d0tXDpIEj8"
      },
      "source": [
        "## Compare the two fleets\n",
        "\n",
        "The business analysts come up a comparison algorithm that requires the upper and lower bounds for the mean in order to say which fleet is better.\n",
        "1. Calculate the mean of both samples.\n",
        "2. Using the bootstrap function that you created:\n",
        "    - Construct the 95% CI of the mean of the current fleet.\n",
        "    - Construct the 95% CI of the mean of the new fleet.\n",
        "    - Are they comparable? (i.e., is one better than the other?) -- you can do this with a permutation test (check the lecture notes!)"
      ]
    },
    {
      "cell_type": "code",
      "metadata": {
        "id": "po4mp6zRHC0m",
        "colab": {
          "base_uri": "https://localhost:8080/"
        },
        "outputId": "ce03849c-535d-45ba-cf09-e3d9eb85d465"
      },
      "source": [
        "# Calculate the mean of both samples.\n",
        "print(df_vehicles['Current fleet'].mean())\n",
        "print(df_vehicles['New Fleet'].mean())"
      ],
      "execution_count": 17,
      "outputs": [
        {
          "output_type": "stream",
          "text": [
            "20.14457831325301\n",
            "30.481012658227847\n"
          ],
          "name": "stdout"
        }
      ]
    },
    {
      "cell_type": "code",
      "metadata": {
        "colab": {
          "base_uri": "https://localhost:8080/"
        },
        "id": "aLENgu1ri8BY",
        "outputId": "2662f689-7f32-46a4-a287-0feeaea05205"
      },
      "source": [
        "#def bootstrap_mean_ci(sample, sample_size, n_bootstraps, ci)\n",
        "bootstrap_mean_ci(df_vehicles['Current fleet'].dropna().to_list(), df_vehicles['Current fleet'].dropna().shape[0], 10000, 92)"
      ],
      "execution_count": 54,
      "outputs": [
        {
          "output_type": "execute_result",
          "data": {
            "text/plain": [
              "(20.148992771084338, 19.44176706827309, 20.867630522088348)"
            ]
          },
          "metadata": {
            "tags": []
          },
          "execution_count": 54
        }
      ]
    },
    {
      "cell_type": "code",
      "metadata": {
        "colab": {
          "base_uri": "https://localhost:8080/"
        },
        "id": "uVF_MSJhkqzZ",
        "outputId": "8fda3828-77b5-4e53-cd8d-55bd6d07b37c"
      },
      "source": [
        "bootstrap_mean_ci(df_vehicles['Current fleet'].dropna().to_list(), df_vehicles['Current fleet'].dropna().shape[0], 10000, 80)"
      ],
      "execution_count": 56,
      "outputs": [
        {
          "output_type": "execute_result",
          "data": {
            "text/plain": [
              "(20.146875903614458, 19.6425702811245, 20.662650602409638)"
            ]
          },
          "metadata": {
            "tags": []
          },
          "execution_count": 56
        }
      ]
    },
    {
      "cell_type": "code",
      "metadata": {
        "colab": {
          "base_uri": "https://localhost:8080/"
        },
        "id": "Y4-ZJlZ7uqlG",
        "outputId": "86bac430-6d14-417d-a827-a26af4a40f53"
      },
      "source": [
        "#def bootstrap_st_ci(sample, sample_size, n_bootstraps, ci):\n",
        "bootstrap_st_ci(df_vehicles['New Fleet'].dropna().to_list(), df_vehicles['New Fleet'].dropna().shape[0], 10000, 73)"
      ],
      "execution_count": 58,
      "outputs": [
        {
          "output_type": "execute_result",
          "data": {
            "text/plain": [
              "(6.019989888493149, 5.520700001362805, 6.523923533586115)"
            ]
          },
          "metadata": {
            "tags": []
          },
          "execution_count": 58
        }
      ]
    },
    {
      "cell_type": "code",
      "metadata": {
        "id": "MkxvDZG4HC0n"
      },
      "source": [
        "# Create your own function for a permutation test here (you will need it for the lab quiz!):\n",
        "def permut_test(sample1, sample2, n_permutations):\n",
        "  n = 0\n",
        "  diff = np.mean(sample2) - np.mean(sample1)\n",
        "  concat = np.concatenate([sample1, sample2])\n",
        "  for i in range(n_permutations):\n",
        "    perm = np.random.permutation(concat)\n",
        "    pold = perm[:int(len(sample1))]\n",
        "    pnew = perm[int(len(sample1)):]\n",
        "    d_perm = np.mean(pnew) - np.mean(pold)\n",
        "    if d_perm > diff:\n",
        "      n=n+1\n",
        "  pvalue = n/n_permutations\n",
        "  return pvalue"
      ],
      "execution_count": 21,
      "outputs": []
    },
    {
      "cell_type": "code",
      "metadata": {
        "colab": {
          "base_uri": "https://localhost:8080/"
        },
        "id": "V21YmlRUmZp3",
        "outputId": "64fadb4a-e482-4ab1-d1cc-03b19da68dc2"
      },
      "source": [
        "cur_fleet = df_vehicles['Current fleet'].dropna().to_list()\n",
        "new_fleet = df_vehicles['New Fleet'].dropna().to_list()\n",
        "\n",
        "pvalue = permut_test(cur_fleet, new_fleet, 30000)\n",
        "print(pvalue)"
      ],
      "execution_count": 50,
      "outputs": [
        {
          "output_type": "stream",
          "text": [
            "0.0\n"
          ],
          "name": "stdout"
        }
      ]
    },
    {
      "cell_type": "markdown",
      "metadata": {
        "id": "yHH4Qh7vinPN"
      },
      "source": [
        "# Voting Dataset"
      ]
    },
    {
      "cell_type": "code",
      "metadata": {
        "id": "ZgAiufNHii9d"
      },
      "source": [
        "# The variables below represent the percentages of democratic votes in Pennsylvania and Ohio (one value for each state).\n",
        "dem_share_PA = [60.08, 40.64, 36.07, 41.21, 31.04, 43.78, 44.08, 46.85, 44.71, 46.15, 63.10, 52.20, 43.18, 40.24, 39.92, 47.87, 37.77, 40.11, 49.85, 48.61, 38.62, 54.25, 34.84, 47.75, 43.82, 55.97, 58.23, 42.97, 42.38, 36.11, 37.53, 42.65, 50.96, 47.43, 56.24, 45.60, 46.39, 35.22, 48.56, 32.97, 57.88, 36.05, 37.72, 50.36, 32.12, 41.55, 54.66, 57.81, 54.58, 32.88, 54.37, 40.45, 47.61, 60.49, 43.11, 27.32, 44.03, 33.56, 37.26, 54.64, 43.12, 25.34, 49.79, 83.56, 40.09, 60.81, 49.81]\n",
        "dem_share_OH = [56.94, 50.46, 65.99, 45.88, 42.23, 45.26, 57.01, 53.61, 59.10, 61.48, 43.43, 44.69, 54.59, 48.36, 45.89, 48.62, 43.92, 38.23, 28.79, 63.57, 38.07, 40.18, 43.05, 41.56, 42.49, 36.06, 52.76, 46.07, 39.43, 39.26, 47.47, 27.92, 38.01, 45.45, 29.07, 28.94, 51.28, 50.10, 39.84, 36.43, 35.71, 31.47, 47.01, 40.10, 48.76, 31.56, 39.86, 45.31, 35.47, 51.38, 46.33, 48.73, 41.77, 41.32, 48.46, 53.14, 34.01, 54.74, 40.67, 38.96, 46.29, 38.25, 6.80, 31.75, 46.33, 44.90, 33.57, 38.10, 39.67, 40.47, 49.44, 37.62, 36.71, 46.73, 42.20, 53.16, 52.40, 58.36, 68.02, 38.53, 34.58, 69.64, 60.50, 53.53, 36.54, 49.58, 41.97, 38.11]"
      ],
      "execution_count": 23,
      "outputs": []
    },
    {
      "cell_type": "code",
      "metadata": {
        "id": "Fat0_z9Mn6wy"
      },
      "source": [
        "df_dem_share_PA = pd.DataFrame(dem_share_PA, columns=['vote_share'])\n",
        "df_dem_share_OH = pd.DataFrame(dem_share_OH, columns=['vote_share'])"
      ],
      "execution_count": 24,
      "outputs": []
    },
    {
      "cell_type": "code",
      "metadata": {
        "colab": {
          "base_uri": "https://localhost:8080/"
        },
        "id": "kncQDKXJoNvj",
        "outputId": "7e2864ef-9518-4f50-c7c9-b5d4b06b7922"
      },
      "source": [
        "df_dem_share_PA.size"
      ],
      "execution_count": 25,
      "outputs": [
        {
          "output_type": "execute_result",
          "data": {
            "text/plain": [
              "67"
            ]
          },
          "metadata": {
            "tags": []
          },
          "execution_count": 25
        }
      ]
    },
    {
      "cell_type": "code",
      "metadata": {
        "colab": {
          "base_uri": "https://localhost:8080/"
        },
        "id": "VwrZN0c7oTVo",
        "outputId": "31393da7-8df5-436c-f5dc-0529b5c530d7"
      },
      "source": [
        "df_dem_share_OH.size"
      ],
      "execution_count": 26,
      "outputs": [
        {
          "output_type": "execute_result",
          "data": {
            "text/plain": [
              "88"
            ]
          },
          "metadata": {
            "tags": []
          },
          "execution_count": 26
        }
      ]
    },
    {
      "cell_type": "code",
      "metadata": {
        "colab": {
          "base_uri": "https://localhost:8080/"
        },
        "id": "C1gV45I-piee",
        "outputId": "95da23f4-a816-4f4c-a8e9-41e6d43bd3bc"
      },
      "source": [
        "bootstrap_mean_ci(df_dem_share_OH['vote_share'], df_dem_share_OH.size, 20000, 95)"
      ],
      "execution_count": 60,
      "outputs": [
        {
          "output_type": "execute_result",
          "data": {
            "text/plain": [
              "(44.33092555681818, 42.266653409090914, 46.37321306818182)"
            ]
          },
          "metadata": {
            "tags": []
          },
          "execution_count": 60
        }
      ]
    },
    {
      "cell_type": "code",
      "metadata": {
        "colab": {
          "base_uri": "https://localhost:8080/"
        },
        "id": "ShaC3eq1oftY",
        "outputId": "2de67352-460a-48ff-dd22-de6f5155733f"
      },
      "source": [
        "bootstrap_mean_ci(df_dem_share_PA['vote_share'], df_dem_share_PA.size, 20000, 95)"
      ],
      "execution_count": 61,
      "outputs": [
        {
          "output_type": "execute_result",
          "data": {
            "text/plain": [
              "(45.481168783582085, 43.21639179104478, 47.86777985074625)"
            ]
          },
          "metadata": {
            "tags": []
          },
          "execution_count": 61
        }
      ]
    },
    {
      "cell_type": "code",
      "metadata": {
        "colab": {
          "base_uri": "https://localhost:8080/"
        },
        "id": "U096Xvuwp62C",
        "outputId": "f808f5d4-c50b-4b60-993f-888ded168551"
      },
      "source": [
        "pvalue = permut_test(df_dem_share_OH['vote_share'], df_dem_share_PA['vote_share'], 10000)\n",
        "print(pvalue)"
      ],
      "execution_count": 59,
      "outputs": [
        {
          "output_type": "stream",
          "text": [
            "0.2254\n"
          ],
          "name": "stdout"
        }
      ]
    }
  ]
}