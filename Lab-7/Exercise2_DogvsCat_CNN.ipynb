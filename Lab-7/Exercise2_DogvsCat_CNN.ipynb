{
  "nbformat": 4,
  "nbformat_minor": 0,
  "metadata": {
    "colab": {
      "name": "Exercise2_DogvsCat_CNN.ipynb",
      "provenance": [],
      "collapsed_sections": [],
      "toc_visible": true,
      "include_colab_link": true
    },
    "kernelspec": {
      "name": "python3",
      "display_name": "Python 3"
    },
    "accelerator": "GPU"
  },
  "cells": [
    {
      "cell_type": "markdown",
      "metadata": {
        "id": "view-in-github",
        "colab_type": "text"
      },
      "source": [
        "<a href=\"https://colab.research.google.com/github/Kensuzuki95/CE888/blob/main/Lab-7/Exercise2_DogvsCat_CNN.ipynb\" target=\"_parent\"><img src=\"https://colab.research.google.com/assets/colab-badge.svg\" alt=\"Open In Colab\"/></a>"
      ]
    },
    {
      "cell_type": "markdown",
      "metadata": {
        "id": "qTh9DiKVslsJ"
      },
      "source": [
        "## Dogs vs. Cats \n",
        "\n",
        "In this competition, you'll write an algorithm to classify whether images contain either a dog or a cat.  This is easy for humans, dogs, and cats. Your computer will find it a bit more difficult.\n",
        "\n",
        "![alt text](https://miro.medium.com/max/3000/1*bhFifratH9DjKqMBTeQG5A.gif)\n",
        "\n",
        "Ref: https://medium.com/@thegrigorian/rolling-in-the-deep-cnn-c8d3f7108c8c"
      ]
    },
    {
      "cell_type": "markdown",
      "metadata": {
        "id": "RSBI-_mSSY1g"
      },
      "source": [
        "Get your API Key from Kaggle using following steps:\n",
        "1. Login to [Kaggle](https://www.kaggle.com/) or Register if you don't have account\n",
        "2. Open Dataset (https://www.kaggle.com/c/dogs-vs-cats/rules) and accept terms and condition. \n",
        "3. On the top right corner click on your Icon and go to accounts and press a button \"Create New API Token\". It will download a JSON file containing your username and key. \n",
        "4. Now, paste both below. \n"
      ]
    },
    {
      "cell_type": "code",
      "metadata": {
        "id": "YmXSOc0tZIGA",
        "colab": {
          "base_uri": "https://localhost:8080/"
        },
        "outputId": "df31f2f2-d7c5-44ea-846d-463591ba270d"
      },
      "source": [
        "import os\n",
        "os.environ['KAGGLE_USERNAME'] = \"kennysuzuki95\" # username from the json file\n",
        "os.environ['KAGGLE_KEY'] = \"737345af5338b66eab950f64880b76a0\" # key from the json file\n",
        "!kaggle competitions download -c dogs-vs-cats # api copied from kaggle (https://www.kaggle.com/c/dogs-vs-cats/data)"
      ],
      "execution_count": 42,
      "outputs": [
        {
          "output_type": "stream",
          "text": [
            "Warning: Looks like you're using an outdated API Version, please consider updating (server 1.5.12 / client 1.5.4)\n",
            "train.zip: Skipping, found more recently modified local copy (use --force to force download)\n",
            "test1.zip: Skipping, found more recently modified local copy (use --force to force download)\n",
            "sampleSubmission.csv: Skipping, found more recently modified local copy (use --force to force download)\n"
          ],
          "name": "stdout"
        }
      ]
    },
    {
      "cell_type": "code",
      "metadata": {
        "id": "PiwIL8d1n7eS",
        "colab": {
          "base_uri": "https://localhost:8080/"
        },
        "outputId": "b9db62d3-a73c-4c17-9dc8-b807df95ef3c"
      },
      "source": [
        "# Unzip training data\n",
        "from zipfile import ZipFile\n",
        "file_name = \"/content/train.zip\"\n",
        "with ZipFile(file_name, 'r') as zip:\n",
        "  zip.extractall()\n",
        "  print('done')"
      ],
      "execution_count": 43,
      "outputs": [
        {
          "output_type": "stream",
          "text": [
            "done\n"
          ],
          "name": "stdout"
        }
      ]
    },
    {
      "cell_type": "code",
      "metadata": {
        "id": "sa2Bj5i7pPKV",
        "colab": {
          "base_uri": "https://localhost:8080/"
        },
        "outputId": "ef0445c2-c0b9-41df-a921-62d4981b9bf2"
      },
      "source": [
        "# Get all the paths\n",
        "data_dir_list = os.listdir('/content/train')\n",
        "#print(data_dir_list)\n",
        "path, dirs, files = next(os.walk(\"/content/train\"))\n",
        "file_count = len(files)\n",
        "print(file_count)"
      ],
      "execution_count": 44,
      "outputs": [
        {
          "output_type": "stream",
          "text": [
            "25000\n"
          ],
          "name": "stdout"
        }
      ]
    },
    {
      "cell_type": "code",
      "metadata": {
        "id": "0ERlHkfHqpK8"
      },
      "source": [
        "# Make new base directory\n",
        "original_dataset_dir = '/content/train'\n",
        "base_dir = '/content/cats_and_dogs_small'\n",
        "os.mkdir(base_dir)"
      ],
      "execution_count": null,
      "outputs": []
    },
    {
      "cell_type": "code",
      "metadata": {
        "id": "AANB1UJ6rQhM"
      },
      "source": [
        "train_dir = os.path.join(base_dir, 'train')\n",
        "os.mkdir(train_dir)\n",
        "\n",
        "validation_dir = os.path.join(base_dir, 'validation')\n",
        "os.mkdir(validation_dir)\n",
        "\n",
        "test_dir = os.path.join(base_dir, 'test')\n",
        "os.mkdir(test_dir)\n",
        "\n",
        "train_cats_dir = os.path.join(train_dir, 'cats')\n",
        "os.mkdir(train_cats_dir)\n",
        "\n",
        "train_dogs_dir = os.path.join(train_dir, 'dogs')\n",
        "os.mkdir(train_dogs_dir)\n",
        "\n",
        "validation_cats_dir = os.path.join(validation_dir, 'cats')\n",
        "os.mkdir(validation_cats_dir)\n",
        "\n",
        "validation_dogs_dir = os.path.join(validation_dir, 'dogs')\n",
        "os.mkdir(validation_dogs_dir)\n",
        "\n",
        "test_cats_dir = os.path.join(test_dir, 'cats')\n",
        "os.mkdir(test_cats_dir)\n",
        "\n",
        "test_dogs_dir = os.path.join(test_dir, 'dogs')\n",
        "os.mkdir(test_dogs_dir)"
      ],
      "execution_count": null,
      "outputs": []
    },
    {
      "cell_type": "code",
      "metadata": {
        "id": "ULRgL9s9rV8T"
      },
      "source": [
        "import shutil\n",
        "fnames = ['cat.{}.jpg'.format(i) for i in range(1000)]\n",
        "for fname in fnames:\n",
        "    src = os.path.join(original_dataset_dir, fname)\n",
        "    dst = os.path.join(train_cats_dir, fname)\n",
        "    #print(src,dst)\n",
        "    shutil.copyfile(src, dst)\n",
        "    \n",
        "fnames = ['cat.{}.jpg'.format(i) for i in range(1000, 1500)]\n",
        "for fname in fnames:\n",
        "    src = os.path.join(original_dataset_dir, fname)\n",
        "    dst = os.path.join(validation_cats_dir, fname)\n",
        "    shutil.copyfile(src, dst)\n",
        "\n",
        "fnames = ['cat.{}.jpg'.format(i) for i in range(1500, 2000)]\n",
        "for fname in fnames:\n",
        "    src = os.path.join(original_dataset_dir, fname)\n",
        "    dst = os.path.join(test_cats_dir, fname)\n",
        "    shutil.copyfile(src, dst)\n",
        "    \n",
        "fnames = ['dog.{}.jpg'.format(i) for i in range(1000)]\n",
        "for fname in fnames:\n",
        "    src = os.path.join(original_dataset_dir, fname)\n",
        "    dst = os.path.join(train_dogs_dir, fname)\n",
        "    shutil.copyfile(src, dst)\n",
        "\n",
        "fnames = ['dog.{}.jpg'.format(i) for i in range(1000, 1500)]\n",
        "for fname in fnames:\n",
        "    src = os.path.join(original_dataset_dir, fname)\n",
        "    dst = os.path.join(validation_dogs_dir, fname)\n",
        "    shutil.copyfile(src, dst)\n",
        "\n",
        "fnames = ['dog.{}.jpg'.format(i) for i in range(1500, 2000)]\n",
        "for fname in fnames:\n",
        "    src = os.path.join(original_dataset_dir, fname)\n",
        "    dst = os.path.join(test_dogs_dir, fname)\n",
        "    shutil.copyfile(src, dst)"
      ],
      "execution_count": 8,
      "outputs": []
    },
    {
      "cell_type": "code",
      "metadata": {
        "id": "ul3XAbIyr7vC",
        "colab": {
          "base_uri": "https://localhost:8080/"
        },
        "outputId": "b34254e2-537c-428e-8eac-7d4471f99743"
      },
      "source": [
        "print('total training cat images:', len(os.listdir(train_cats_dir)))\n",
        "print('total training dog images:', len(os.listdir(train_dogs_dir)))\n",
        "print('total validation cat images:', len(os.listdir(validation_cats_dir)))\n",
        "\n",
        "print('total validation dog images:', len(os.listdir(validation_dogs_dir)))\n",
        "print('total test cat images:', len(os.listdir(test_cats_dir)))\n",
        "print('total test dog images:', len(os.listdir(test_dogs_dir)))"
      ],
      "execution_count": 9,
      "outputs": [
        {
          "output_type": "stream",
          "text": [
            "total training cat images: 1000\n",
            "total training dog images: 1000\n",
            "total validation cat images: 500\n",
            "total validation dog images: 500\n",
            "total test cat images: 500\n",
            "total test dog images: 500\n"
          ],
          "name": "stdout"
        }
      ]
    },
    {
      "cell_type": "code",
      "metadata": {
        "id": "o9yTA21_r-ma",
        "colab": {
          "base_uri": "https://localhost:8080/"
        },
        "outputId": "609fa711-7fd9-464d-930f-19cd7f5655e6"
      },
      "source": [
        "from keras import layers\n",
        "from keras import models\n",
        "\n",
        "model = models.Sequential()\n",
        "model.add(layers.Conv2D(32, (3, 3), activation='relu', input_shape=(150, 150, 3)))\n",
        "model.add(layers.MaxPooling2D((2, 2)))\n",
        "model.add(layers.Conv2D(64, (3, 3), activation='relu'))\n",
        "model.add(layers.MaxPooling2D((2, 2)))\n",
        "model.add(layers.Conv2D(128, (3, 3), activation='relu'))\n",
        "model.add(layers.MaxPooling2D((2, 2)))\n",
        "model.add(layers.Conv2D(128, (3, 3), activation='relu'))\n",
        "model.add(layers.MaxPooling2D((2, 2)))\n",
        "model.add(layers.Flatten())\n",
        "model.add(layers.Dense(512, activation='relu'))\n",
        "model.add(layers.Dense(1, activation='sigmoid'))\n",
        "model.summary()"
      ],
      "execution_count": 10,
      "outputs": [
        {
          "output_type": "stream",
          "text": [
            "Model: \"sequential\"\n",
            "_________________________________________________________________\n",
            "Layer (type)                 Output Shape              Param #   \n",
            "=================================================================\n",
            "conv2d (Conv2D)              (None, 148, 148, 32)      896       \n",
            "_________________________________________________________________\n",
            "max_pooling2d (MaxPooling2D) (None, 74, 74, 32)        0         \n",
            "_________________________________________________________________\n",
            "conv2d_1 (Conv2D)            (None, 72, 72, 64)        18496     \n",
            "_________________________________________________________________\n",
            "max_pooling2d_1 (MaxPooling2 (None, 36, 36, 64)        0         \n",
            "_________________________________________________________________\n",
            "conv2d_2 (Conv2D)            (None, 34, 34, 128)       73856     \n",
            "_________________________________________________________________\n",
            "max_pooling2d_2 (MaxPooling2 (None, 17, 17, 128)       0         \n",
            "_________________________________________________________________\n",
            "conv2d_3 (Conv2D)            (None, 15, 15, 128)       147584    \n",
            "_________________________________________________________________\n",
            "max_pooling2d_3 (MaxPooling2 (None, 7, 7, 128)         0         \n",
            "_________________________________________________________________\n",
            "flatten (Flatten)            (None, 6272)              0         \n",
            "_________________________________________________________________\n",
            "dense (Dense)                (None, 512)               3211776   \n",
            "_________________________________________________________________\n",
            "dense_1 (Dense)              (None, 1)                 513       \n",
            "=================================================================\n",
            "Total params: 3,453,121\n",
            "Trainable params: 3,453,121\n",
            "Non-trainable params: 0\n",
            "_________________________________________________________________\n"
          ],
          "name": "stdout"
        }
      ]
    },
    {
      "cell_type": "code",
      "metadata": {
        "id": "2mG8wekxsBVS"
      },
      "source": [
        "from keras import optimizers\n",
        "model.compile(loss='binary_crossentropy', \n",
        "              optimizer=optimizers.RMSprop(lr=1e-4),\n",
        "              metrics=['acc'])"
      ],
      "execution_count": 11,
      "outputs": []
    },
    {
      "cell_type": "markdown",
      "metadata": {
        "id": "7zS4Klm8qWp6"
      },
      "source": [
        "## Using ImageDataGenerator to read images from directories\n",
        "As you know by now, data should be formatted into appropriately preprocessed floatingpoint tensors before being fed into the network. Currently, the data sits on a drive as JPEG files, so the steps for getting it into the network are roughly as follows:\n",
        "\n",
        "* Read the picture files.\n",
        "* Decode the JPEG content to RGB grids of pixels.\n",
        "* Convert these into floating-point tensors.\n",
        "* Rescale the pixel values (between 0 and 255) to the [0, 1] interval (as you know, neural networks prefer to deal with small input values).\n",
        "\n",
        "It may seem a bit daunting, but fortunately Keras has utilities to take care of these steps automatically. Keras has a module with image-processing helper tools, located at keras.preprocessing.image. In particular, it contains the class ImageDataGenerator,which lets you quickly set up Python generators that can automatically turn image files on disk into batches of preprocessed tensors."
      ]
    },
    {
      "cell_type": "code",
      "metadata": {
        "id": "XJ7XU7t9sEh6",
        "colab": {
          "base_uri": "https://localhost:8080/"
        },
        "outputId": "158fdd27-8fcd-441b-c4dc-f3c65ab45cbb"
      },
      "source": [
        "from keras.preprocessing.image import ImageDataGenerator\n",
        "\n",
        "train_datagen = ImageDataGenerator(rescale=1./255)\n",
        "test_datagen = ImageDataGenerator(rescale=1./255)\n",
        "\n",
        "train_generator = train_datagen.flow_from_directory(train_dir,\n",
        "                                                    target_size=(150, 150), \n",
        "                                                    batch_size=20,\n",
        "                                                    class_mode='binary')\n",
        "\n",
        "validation_generator = test_datagen.flow_from_directory(validation_dir,\n",
        "                                                        target_size=(150, 150),\n",
        "                                                        batch_size=20,\n",
        "                                                        class_mode='binary')"
      ],
      "execution_count": 12,
      "outputs": [
        {
          "output_type": "stream",
          "text": [
            "Found 2000 images belonging to 2 classes.\n",
            "Found 1000 images belonging to 2 classes.\n"
          ],
          "name": "stdout"
        }
      ]
    },
    {
      "cell_type": "markdown",
      "metadata": {
        "id": "SEgLywySqm4u"
      },
      "source": [
        "Let’s fit the model to the data using the generator. You do so using the fit_generator method, the equivalent of fit for data generators like this one. It expects as its first argument a Python generator that will yield batches of inputs and targets indefinitely,like this one does. Because the data is being generated endlessly, the Keras model needs to know how many samples to draw from the generator before declaring anepoch over. This is the role of the `steps_per_epoch` argument: after having drawn `steps_per_epoch` batches from the generator—that is, after having run for `steps_per_epoch` gradient descent steps—the fitting process will go to the next epoch. In this case, batches are 20 samples, so it will take 100 batches until you see your target of 2,000 samples.\n",
        "\n",
        "When using fit_generator, you can pass a validation_data argument, much as with the fit method. It’s important to note that this argument is allowed to be a data generator, but it could also be a tuple of Numpy arrays. If you pass a generator as validation_data, then this generator is expected to yield batches of validation data endlessly; thus you should also specify the validation_steps argument, which tells the process how many batches to draw from the validation generator for evaluation."
      ]
    },
    {
      "cell_type": "code",
      "metadata": {
        "id": "yMyfPphJsJG6",
        "colab": {
          "base_uri": "https://localhost:8080/"
        },
        "outputId": "eea14596-1efb-4255-d9a2-0c9a2fc5624c"
      },
      "source": [
        "history = model.fit_generator(train_generator,\n",
        "                              steps_per_epoch=100,\n",
        "                              epochs=30,\n",
        "                              validation_data=validation_generator,\n",
        "                              validation_steps=10)"
      ],
      "execution_count": 13,
      "outputs": [
        {
          "output_type": "stream",
          "text": [
            "/usr/local/lib/python3.7/dist-packages/tensorflow/python/keras/engine/training.py:1844: UserWarning: `Model.fit_generator` is deprecated and will be removed in a future version. Please use `Model.fit`, which supports generators.\n",
            "  warnings.warn('`Model.fit_generator` is deprecated and '\n"
          ],
          "name": "stderr"
        },
        {
          "output_type": "stream",
          "text": [
            "Epoch 1/30\n",
            "100/100 [==============================] - 39s 77ms/step - loss: 0.6982 - acc: 0.5178 - val_loss: 0.6766 - val_acc: 0.6250\n",
            "Epoch 2/30\n",
            "100/100 [==============================] - 7s 73ms/step - loss: 0.6606 - acc: 0.6068 - val_loss: 0.7094 - val_acc: 0.5300\n",
            "Epoch 3/30\n",
            "100/100 [==============================] - 7s 72ms/step - loss: 0.6399 - acc: 0.6348 - val_loss: 0.6562 - val_acc: 0.6150\n",
            "Epoch 4/30\n",
            "100/100 [==============================] - 7s 72ms/step - loss: 0.5947 - acc: 0.6763 - val_loss: 0.6007 - val_acc: 0.6550\n",
            "Epoch 5/30\n",
            "100/100 [==============================] - 7s 72ms/step - loss: 0.5576 - acc: 0.7156 - val_loss: 0.5549 - val_acc: 0.7000\n",
            "Epoch 6/30\n",
            "100/100 [==============================] - 7s 72ms/step - loss: 0.5213 - acc: 0.7412 - val_loss: 0.5261 - val_acc: 0.7250\n",
            "Epoch 7/30\n",
            "100/100 [==============================] - 7s 72ms/step - loss: 0.5020 - acc: 0.7408 - val_loss: 0.5486 - val_acc: 0.7200\n",
            "Epoch 8/30\n",
            "100/100 [==============================] - 7s 72ms/step - loss: 0.4561 - acc: 0.7871 - val_loss: 0.5964 - val_acc: 0.7050\n",
            "Epoch 9/30\n",
            "100/100 [==============================] - 7s 74ms/step - loss: 0.4418 - acc: 0.7952 - val_loss: 0.5177 - val_acc: 0.7400\n",
            "Epoch 10/30\n",
            "100/100 [==============================] - 7s 72ms/step - loss: 0.3947 - acc: 0.8229 - val_loss: 0.6758 - val_acc: 0.6900\n",
            "Epoch 11/30\n",
            "100/100 [==============================] - 7s 73ms/step - loss: 0.4115 - acc: 0.8130 - val_loss: 0.5964 - val_acc: 0.7200\n",
            "Epoch 12/30\n",
            "100/100 [==============================] - 7s 72ms/step - loss: 0.3652 - acc: 0.8382 - val_loss: 0.5794 - val_acc: 0.7100\n",
            "Epoch 13/30\n",
            "100/100 [==============================] - 7s 72ms/step - loss: 0.3539 - acc: 0.8486 - val_loss: 0.5489 - val_acc: 0.7500\n",
            "Epoch 14/30\n",
            "100/100 [==============================] - 7s 72ms/step - loss: 0.3245 - acc: 0.8665 - val_loss: 0.5561 - val_acc: 0.7300\n",
            "Epoch 15/30\n",
            "100/100 [==============================] - 7s 72ms/step - loss: 0.2888 - acc: 0.8830 - val_loss: 0.6530 - val_acc: 0.7050\n",
            "Epoch 16/30\n",
            "100/100 [==============================] - 7s 72ms/step - loss: 0.2669 - acc: 0.8918 - val_loss: 0.5564 - val_acc: 0.7500\n",
            "Epoch 17/30\n",
            "100/100 [==============================] - 7s 74ms/step - loss: 0.2409 - acc: 0.9071 - val_loss: 0.5975 - val_acc: 0.7450\n",
            "Epoch 18/30\n",
            "100/100 [==============================] - 7s 73ms/step - loss: 0.2241 - acc: 0.9119 - val_loss: 0.9467 - val_acc: 0.6450\n",
            "Epoch 19/30\n",
            "100/100 [==============================] - 7s 73ms/step - loss: 0.2206 - acc: 0.9155 - val_loss: 0.7714 - val_acc: 0.6900\n",
            "Epoch 20/30\n",
            "100/100 [==============================] - 7s 71ms/step - loss: 0.1915 - acc: 0.9268 - val_loss: 0.5778 - val_acc: 0.7250\n",
            "Epoch 21/30\n",
            "100/100 [==============================] - 7s 71ms/step - loss: 0.1701 - acc: 0.9395 - val_loss: 0.7713 - val_acc: 0.7150\n",
            "Epoch 22/30\n",
            "100/100 [==============================] - 7s 73ms/step - loss: 0.1620 - acc: 0.9454 - val_loss: 0.7902 - val_acc: 0.7250\n",
            "Epoch 23/30\n",
            "100/100 [==============================] - 7s 71ms/step - loss: 0.1324 - acc: 0.9534 - val_loss: 0.6307 - val_acc: 0.7600\n",
            "Epoch 24/30\n",
            "100/100 [==============================] - 7s 72ms/step - loss: 0.1319 - acc: 0.9570 - val_loss: 0.8146 - val_acc: 0.7250\n",
            "Epoch 25/30\n",
            "100/100 [==============================] - 7s 73ms/step - loss: 0.1122 - acc: 0.9591 - val_loss: 0.8295 - val_acc: 0.7450\n",
            "Epoch 26/30\n",
            "100/100 [==============================] - 7s 73ms/step - loss: 0.0823 - acc: 0.9758 - val_loss: 0.9475 - val_acc: 0.6750\n",
            "Epoch 27/30\n",
            "100/100 [==============================] - 7s 74ms/step - loss: 0.0723 - acc: 0.9809 - val_loss: 0.9308 - val_acc: 0.7000\n",
            "Epoch 28/30\n",
            "100/100 [==============================] - 7s 73ms/step - loss: 0.0740 - acc: 0.9769 - val_loss: 1.3305 - val_acc: 0.6550\n",
            "Epoch 29/30\n",
            "100/100 [==============================] - 7s 73ms/step - loss: 0.0576 - acc: 0.9823 - val_loss: 1.1578 - val_acc: 0.6950\n",
            "Epoch 30/30\n",
            "100/100 [==============================] - 7s 73ms/step - loss: 0.0493 - acc: 0.9835 - val_loss: 0.9974 - val_acc: 0.7200\n"
          ],
          "name": "stdout"
        }
      ]
    },
    {
      "cell_type": "code",
      "metadata": {
        "id": "MZaZ2HWZsNUi",
        "colab": {
          "base_uri": "https://localhost:8080/",
          "height": 545
        },
        "outputId": "555113b6-0c99-4ffc-a43b-a1cedbeab57e"
      },
      "source": [
        "model.save('cats_and_dogs_small_1.h5')\n",
        "\n",
        "import matplotlib.pyplot as plt\n",
        "\n",
        "acc = history.history['acc']\n",
        "val_acc = history.history['val_acc']\n",
        "loss = history.history['loss']\n",
        "val_loss = history.history['val_loss']\n",
        "\n",
        "epochs = range(1, len(acc) + 1)\n",
        "\n",
        "plt.plot(epochs, acc, 'bo', label='Training acc')\n",
        "plt.plot(epochs, val_acc, 'b', label='Validation acc')\n",
        "plt.title('Training and validation accuracy')\n",
        "plt.legend()\n",
        "\n",
        "plt.figure()\n",
        "\n",
        "plt.plot(epochs, loss, 'bo', label='Training loss')\n",
        "plt.plot(epochs, val_loss, 'b', label='Validation loss')\n",
        "plt.title('Training and validation loss')\n",
        "plt.legend()\n",
        "\n",
        "plt.show()"
      ],
      "execution_count": 14,
      "outputs": [
        {
          "output_type": "display_data",
          "data": {
            "image/png": "[encoded data removed]",
            "text/plain": [
              "<Figure size 432x288 with 1 Axes>"
            ]
          },
          "metadata": {
            "tags": [],
            "needs_background": "light"
          }
        },
        {
          "output_type": "display_data",
          "data": {
            "image/png": "[encoded data removed]",
            "text/plain": [
              "<Figure size 432x288 with 1 Axes>"
            ]
          },
          "metadata": {
            "tags": [],
            "needs_background": "light"
          }
        }
      ]
    },
    {
      "cell_type": "markdown",
      "metadata": {
        "id": "XKZmXmBcq_8-"
      },
      "source": [
        "## Convolutional Networks with Dropout\n",
        "\n",
        "![alt text](https://camo.githubusercontent.com/ee6fa1073247cd2c3d241300caf110d7a7541bc5/68747470733a2f2f63646e2d696d616765732d312e6d656469756d2e636f6d2f6d61782f3830302f312a4972644a355067684439596f4f7956415137334d4a772e676966)\n",
        "\n",
        "Ref: https://github.com/mneha4/Training-Neural-Nets---Guidelines"
      ]
    },
    {
      "cell_type": "code",
      "metadata": {
        "id": "wu3cqeYQrDeN"
      },
      "source": [
        "model = models.Sequential()\n",
        "model.add(layers.Conv2D(32, (3, 3), activation='relu',\n",
        "input_shape=(150, 150, 3)))\n",
        "model.add(layers.MaxPooling2D((2, 2)))\n",
        "model.add(layers.Conv2D(64, (3, 3), activation='relu'))\n",
        "model.add(layers.MaxPooling2D((2, 2)))\n",
        "model.add(layers.Conv2D(128, (3, 3), activation='relu'))\n",
        "model.add(layers.MaxPooling2D((2, 2)))\n",
        "model.add(layers.Conv2D(128, (3, 3), activation='relu'))\n",
        "model.add(layers.MaxPooling2D((2, 2)))\n",
        "model.add(layers.Flatten())\n",
        "model.add(layers.Dropout(0.5))\n",
        "model.add(layers.Dense(512, activation='relu'))\n",
        "model.add(layers.Dense(1, activation='sigmoid'))\n",
        "\n",
        "model.compile(loss='binary_crossentropy',\n",
        "              optimizer=optimizers.RMSprop(lr=1e-4),\n",
        "              metrics=['acc'])"
      ],
      "execution_count": 15,
      "outputs": []
    },
    {
      "cell_type": "code",
      "metadata": {
        "id": "QSeLpvY0rH7F",
        "colab": {
          "base_uri": "https://localhost:8080/"
        },
        "outputId": "96e34017-0a71-4c51-d0a4-6f5c4d0ba8ae"
      },
      "source": [
        "\n",
        "train_datagen = ImageDataGenerator(rescale=1./255,\n",
        "                                   rotation_range=40,\n",
        "                                   width_shift_range=0.2,\n",
        "                                   height_shift_range=0.2,\n",
        "                                   shear_range=0.2,\n",
        "                                   zoom_range=0.2,\n",
        "                                   horizontal_flip=True,)\n",
        "\n",
        "test_datagen = ImageDataGenerator(rescale=1./255)\n",
        "\n",
        "train_generator = train_datagen.flow_from_directory(train_dir,\n",
        "                                                    target_size=(150, 150),\n",
        "                                                    batch_size=32,\n",
        "                                                    class_mode='binary')\n",
        "\n",
        "validation_generator = test_datagen.flow_from_directory(validation_dir,\n",
        "                                                        target_size=(150, 150),\n",
        "                                                        batch_size=32,\n",
        "                                                        class_mode='binary')\n",
        "\n",
        "history = model.fit_generator(train_generator,\n",
        "                              steps_per_epoch=100,\n",
        "                              epochs=20,\n",
        "                              validation_data=validation_generator,\n",
        "                              validation_steps=50)"
      ],
      "execution_count": 16,
      "outputs": [
        {
          "output_type": "stream",
          "text": [
            "Found 2000 images belonging to 2 classes.\n",
            "Found 1000 images belonging to 2 classes.\n"
          ],
          "name": "stdout"
        },
        {
          "output_type": "stream",
          "text": [
            "/usr/local/lib/python3.7/dist-packages/tensorflow/python/keras/engine/training.py:1844: UserWarning: `Model.fit_generator` is deprecated and will be removed in a future version. Please use `Model.fit`, which supports generators.\n",
            "  warnings.warn('`Model.fit_generator` is deprecated and '\n"
          ],
          "name": "stderr"
        },
        {
          "output_type": "stream",
          "text": [
            "Epoch 1/20\n",
            " 63/100 [=================>............] - ETA: 9s - loss: 0.7029 - acc: 0.5216WARNING:tensorflow:Your input ran out of data; interrupting training. Make sure that your dataset or generator can generate at least `steps_per_epoch * epochs` batches (in this case, 2000 batches). You may need to use the repeat() function when building your dataset.\n",
            "WARNING:tensorflow:Your input ran out of data; interrupting training. Make sure that your dataset or generator can generate at least `steps_per_epoch * epochs` batches (in this case, 50 batches). You may need to use the repeat() function when building your dataset.\n",
            "100/100 [==============================] - 20s 191ms/step - loss: 0.7012 - acc: 0.5158 - val_loss: 0.6858 - val_acc: 0.5350\n"
          ],
          "name": "stdout"
        }
      ]
    },
    {
      "cell_type": "markdown",
      "metadata": {
        "id": "BRdU5yrkUF_b"
      },
      "source": [
        "# Task 2:\n",
        "\n",
        "We have used Dropout to enhance the performance of the CNN model. Can you please use whatever you like to further enhance the performance from `val_acc: 0.7506`? "
      ]
    },
    {
      "cell_type": "markdown",
      "metadata": {
        "id": "Gx2pWqu7sUQA"
      },
      "source": [
        "## Create a new model\n",
        "\n",
        "- Model modified from Towards Data Science: [\"The 4 Convolutional Neural Network Models That Can Classify Your Fashion Images\"](https://towardsdatascience.com/the-4-convolutional-neural-network-models-that-can-classify-your-fashion-images-9fe7f3e5399d)\n",
        "  - The proposed CNN model in the webpage was used for classifying Fashion Images"
      ]
    },
    {
      "cell_type": "code",
      "metadata": {
        "colab": {
          "base_uri": "https://localhost:8080/"
        },
        "id": "isST-oZSohbB",
        "outputId": "6b7962ee-e6d8-45d8-cb65-1aa0358be219"
      },
      "source": [
        "# Import libraries\n",
        "from keras.utils import to_categorical\n",
        "from sklearn.model_selection import train_test_split\n",
        "\n",
        "from keras.models import Sequential\n",
        "from keras.layers import Dense, Dropout, Flatten\n",
        "from keras.layers import Conv2D, MaxPooling2D\n",
        "\n",
        "# Create the CNN model\n",
        "cnn3 = Sequential()\n",
        "cnn3.add(Conv2D(32, kernel_size=(3, 3), activation='relu', input_shape=(150, 150, 3)))\n",
        "cnn3.add(MaxPooling2D((2, 2)))\n",
        "cnn3.add(Dropout(0.25))\n",
        "\n",
        "cnn3.add(Conv2D(64, kernel_size=(3, 3), activation='relu'))\n",
        "cnn3.add(MaxPooling2D(pool_size=(2, 2)))\n",
        "cnn3.add(Dropout(0.25))\n",
        "\n",
        "cnn3.add(Conv2D(128, kernel_size=(3, 3), activation='relu'))\n",
        "#cnn3.add(MaxPooling2D(pool_size=(2, 2)))\n",
        "cnn3.add(Dropout(0.4))\n",
        "\n",
        "cnn3.add(Flatten())\n",
        "\n",
        "cnn3.add(Dense(512, activation='relu'))\n",
        "cnn3.add(Dropout(0.3))\n",
        "cnn3.add(Dense(1, activation='sigmoid'))\n",
        "\n",
        "model = cnn3\n",
        "model.summary()"
      ],
      "execution_count": 35,
      "outputs": [
        {
          "output_type": "stream",
          "text": [
            "Model: \"sequential_10\"\n",
            "_________________________________________________________________\n",
            "Layer (type)                 Output Shape              Param #   \n",
            "=================================================================\n",
            "conv2d_29 (Conv2D)           (None, 148, 148, 32)      896       \n",
            "_________________________________________________________________\n",
            "max_pooling2d_23 (MaxPooling (None, 74, 74, 32)        0         \n",
            "_________________________________________________________________\n",
            "dropout_29 (Dropout)         (None, 74, 74, 32)        0         \n",
            "_________________________________________________________________\n",
            "conv2d_30 (Conv2D)           (None, 72, 72, 64)        18496     \n",
            "_________________________________________________________________\n",
            "max_pooling2d_24 (MaxPooling (None, 36, 36, 64)        0         \n",
            "_________________________________________________________________\n",
            "dropout_30 (Dropout)         (None, 36, 36, 64)        0         \n",
            "_________________________________________________________________\n",
            "conv2d_31 (Conv2D)           (None, 34, 34, 128)       73856     \n",
            "_________________________________________________________________\n",
            "dropout_31 (Dropout)         (None, 34, 34, 128)       0         \n",
            "_________________________________________________________________\n",
            "flatten_9 (Flatten)          (None, 147968)            0         \n",
            "_________________________________________________________________\n",
            "dense_18 (Dense)             (None, 512)               75760128  \n",
            "_________________________________________________________________\n",
            "dropout_32 (Dropout)         (None, 512)               0         \n",
            "_________________________________________________________________\n",
            "dense_19 (Dense)             (None, 1)                 513       \n",
            "=================================================================\n",
            "Total params: 75,853,889\n",
            "Trainable params: 75,853,889\n",
            "Non-trainable params: 0\n",
            "_________________________________________________________________\n"
          ],
          "name": "stdout"
        }
      ]
    },
    {
      "cell_type": "code",
      "metadata": {
        "id": "669m2mBQqhon"
      },
      "source": [
        "from keras import optimizers\n",
        "model.compile(loss='binary_crossentropy', \n",
        "              optimizer=optimizers.RMSprop(lr=1e-4),\n",
        "              metrics=['acc'])"
      ],
      "execution_count": 36,
      "outputs": []
    },
    {
      "cell_type": "markdown",
      "metadata": {
        "id": "bkJNm7DXuEfe"
      },
      "source": [
        "## Train the new model"
      ]
    },
    {
      "cell_type": "code",
      "metadata": {
        "colab": {
          "base_uri": "https://localhost:8080/"
        },
        "id": "b-hYZEnFtCCf",
        "outputId": "43b8b283-ab74-4952-dcb3-c052dfdad0f3"
      },
      "source": [
        "history = model.fit_generator(train_generator,\n",
        "                              steps_per_epoch=50,\n",
        "                              epochs=30,\n",
        "                              validation_data=validation_generator,\n",
        "                              validation_steps=10)"
      ],
      "execution_count": 50,
      "outputs": [
        {
          "output_type": "stream",
          "text": [
            "/usr/local/lib/python3.7/dist-packages/tensorflow/python/keras/engine/training.py:1844: UserWarning: `Model.fit_generator` is deprecated and will be removed in a future version. Please use `Model.fit`, which supports generators.\n",
            "  warnings.warn('`Model.fit_generator` is deprecated and '\n"
          ],
          "name": "stderr"
        },
        {
          "output_type": "stream",
          "text": [
            "Epoch 1/30\n",
            "50/50 [==============================] - 14s 281ms/step - loss: 0.6907 - acc: 0.5227 - val_loss: 0.6897 - val_acc: 0.5750\n",
            "Epoch 2/30\n",
            "50/50 [==============================] - 14s 281ms/step - loss: 0.6866 - acc: 0.5423 - val_loss: 0.6840 - val_acc: 0.5656\n",
            "Epoch 3/30\n",
            "50/50 [==============================] - 14s 277ms/step - loss: 0.6780 - acc: 0.5707 - val_loss: 0.6726 - val_acc: 0.6187\n",
            "Epoch 4/30\n",
            "50/50 [==============================] - 14s 279ms/step - loss: 0.6769 - acc: 0.5530 - val_loss: 0.6746 - val_acc: 0.5781\n",
            "Epoch 5/30\n",
            "50/50 [==============================] - 14s 280ms/step - loss: 0.6696 - acc: 0.5688 - val_loss: 0.6644 - val_acc: 0.6187\n",
            "Epoch 6/30\n",
            "50/50 [==============================] - 14s 277ms/step - loss: 0.6696 - acc: 0.5795 - val_loss: 0.6619 - val_acc: 0.6281\n",
            "Epoch 7/30\n",
            "50/50 [==============================] - 14s 279ms/step - loss: 0.6633 - acc: 0.5884 - val_loss: 0.6618 - val_acc: 0.6156\n",
            "Epoch 8/30\n",
            "50/50 [==============================] - 14s 277ms/step - loss: 0.6502 - acc: 0.6124 - val_loss: 0.6293 - val_acc: 0.6656\n",
            "Epoch 9/30\n",
            "50/50 [==============================] - 14s 279ms/step - loss: 0.6439 - acc: 0.6181 - val_loss: 0.6289 - val_acc: 0.6625\n",
            "Epoch 10/30\n",
            "50/50 [==============================] - 14s 276ms/step - loss: 0.6396 - acc: 0.6218 - val_loss: 0.6551 - val_acc: 0.5938\n",
            "Epoch 11/30\n",
            "50/50 [==============================] - 14s 282ms/step - loss: 0.6413 - acc: 0.6250 - val_loss: 0.6320 - val_acc: 0.6469\n",
            "Epoch 12/30\n",
            "50/50 [==============================] - 14s 282ms/step - loss: 0.6382 - acc: 0.6244 - val_loss: 0.6493 - val_acc: 0.6219\n",
            "Epoch 13/30\n",
            "50/50 [==============================] - 14s 277ms/step - loss: 0.6367 - acc: 0.6370 - val_loss: 0.6454 - val_acc: 0.6062\n",
            "Epoch 14/30\n",
            "50/50 [==============================] - 14s 280ms/step - loss: 0.6357 - acc: 0.6250 - val_loss: 0.6186 - val_acc: 0.6406\n",
            "Epoch 15/30\n",
            "50/50 [==============================] - 14s 278ms/step - loss: 0.6313 - acc: 0.6389 - val_loss: 0.6005 - val_acc: 0.7188\n",
            "Epoch 16/30\n",
            "50/50 [==============================] - 14s 278ms/step - loss: 0.6210 - acc: 0.6465 - val_loss: 0.6217 - val_acc: 0.6531\n",
            "Epoch 17/30\n",
            "50/50 [==============================] - 14s 275ms/step - loss: 0.6192 - acc: 0.6452 - val_loss: 0.6085 - val_acc: 0.6844\n",
            "Epoch 18/30\n",
            "50/50 [==============================] - 14s 277ms/step - loss: 0.6110 - acc: 0.6711 - val_loss: 0.6142 - val_acc: 0.6656\n",
            "Epoch 19/30\n",
            "50/50 [==============================] - 14s 278ms/step - loss: 0.6101 - acc: 0.6648 - val_loss: 0.5980 - val_acc: 0.6844\n",
            "Epoch 20/30\n",
            "50/50 [==============================] - 14s 278ms/step - loss: 0.6095 - acc: 0.6644 - val_loss: 0.5819 - val_acc: 0.6938\n",
            "Epoch 21/30\n",
            "50/50 [==============================] - 14s 278ms/step - loss: 0.6035 - acc: 0.6761 - val_loss: 0.5859 - val_acc: 0.6594\n",
            "Epoch 22/30\n",
            "50/50 [==============================] - 14s 279ms/step - loss: 0.6047 - acc: 0.6562 - val_loss: 0.6211 - val_acc: 0.6625\n",
            "Epoch 23/30\n",
            "50/50 [==============================] - 14s 278ms/step - loss: 0.6180 - acc: 0.6705 - val_loss: 0.6240 - val_acc: 0.6344\n",
            "Epoch 24/30\n",
            "50/50 [==============================] - 14s 280ms/step - loss: 0.5906 - acc: 0.6837 - val_loss: 0.6252 - val_acc: 0.6344\n",
            "Epoch 25/30\n",
            "50/50 [==============================] - 14s 277ms/step - loss: 0.5923 - acc: 0.6913 - val_loss: 0.5620 - val_acc: 0.6844\n",
            "Epoch 26/30\n",
            "50/50 [==============================] - 14s 279ms/step - loss: 0.6014 - acc: 0.6742 - val_loss: 0.5862 - val_acc: 0.6781\n",
            "Epoch 27/30\n",
            "50/50 [==============================] - 14s 279ms/step - loss: 0.5888 - acc: 0.6818 - val_loss: 0.5640 - val_acc: 0.6969\n",
            "Epoch 28/30\n",
            "50/50 [==============================] - 14s 279ms/step - loss: 0.5963 - acc: 0.6875 - val_loss: 0.6003 - val_acc: 0.6500\n",
            "Epoch 29/30\n",
            "50/50 [==============================] - 14s 278ms/step - loss: 0.5896 - acc: 0.6900 - val_loss: 0.5860 - val_acc: 0.6844\n",
            "Epoch 30/30\n",
            "50/50 [==============================] - 14s 280ms/step - loss: 0.5860 - acc: 0.6862 - val_loss: 0.5883 - val_acc: 0.6656\n"
          ],
          "name": "stdout"
        }
      ]
    },
    {
      "cell_type": "markdown",
      "metadata": {
        "id": "XNLB7ETEuHzd"
      },
      "source": [
        "## Visualize the result produced by the new model\n",
        "\n",
        "- The validation accuracy produced by the new model which is specialied in classifying fashion types failed produce a better result than the original model in this notebook\n",
        "- The interesting point of this model is that the validation accuracy kept improving corresponding to the improvement in the training dataset.\n",
        "  - This may indicate that increasing the number of epochs could potentially improve the validation accuracy"
      ]
    },
    {
      "cell_type": "code",
      "metadata": {
        "colab": {
          "base_uri": "https://localhost:8080/",
          "height": 545
        },
        "id": "STVuAczEtvm-",
        "outputId": "6567414d-ceef-4165-ddd0-886c510a04e1"
      },
      "source": [
        "model.save('cats_and_dogs_small_1.h5')\n",
        "\n",
        "import matplotlib.pyplot as plt\n",
        "\n",
        "acc = history.history['acc']\n",
        "val_acc = history.history['val_acc']\n",
        "loss = history.history['loss']\n",
        "val_loss = history.history['val_loss']\n",
        "\n",
        "epochs = range(1, len(acc) + 1)\n",
        "\n",
        "plt.plot(epochs, acc, 'bo', label='Training acc')\n",
        "plt.plot(epochs, val_acc, 'b', label='Validation acc')\n",
        "plt.title('Training and validation accuracy')\n",
        "plt.legend()\n",
        "\n",
        "plt.figure()\n",
        "\n",
        "plt.plot(epochs, loss, 'bo', label='Training loss')\n",
        "plt.plot(epochs, val_loss, 'b', label='Validation loss')\n",
        "plt.title('Training and validation loss')\n",
        "plt.legend()\n",
        "\n",
        "plt.show()"
      ],
      "execution_count": 51,
      "outputs": [
        {
          "output_type": "display_data",
          "data": {
            "image/png": "[encoded data removed]",
            "text/plain": [
              "<Figure size 432x288 with 1 Axes>"
            ]
          },
          "metadata": {
            "tags": [],
            "needs_background": "light"
          }
        },
        {
          "output_type": "display_data",
          "data": {
            "image/png": "[encoded data removed]",
            "text/plain": [
              "<Figure size 432x288 with 1 Axes>"
            ]
          },
          "metadata": {
            "tags": [],
            "needs_background": "light"
          }
        }
      ]
    }
  ]
}