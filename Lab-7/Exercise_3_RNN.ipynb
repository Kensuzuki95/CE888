{
  "nbformat": 4,
  "nbformat_minor": 0,
  "metadata": {
    "kernelspec": {
      "display_name": "Python 3",
      "language": "python",
      "name": "python3"
    },
    "language_info": {
      "codemirror_mode": {
        "name": "ipython",
        "version": 3
      },
      "file_extension": ".py",
      "mimetype": "text/x-python",
      "name": "python",
      "nbconvert_exporter": "python",
      "pygments_lexer": "ipython3",
      "version": "3.6.5"
    },
    "colab": {
      "name": "Exercise_3_RNN.ipynb",
      "provenance": [],
      "collapsed_sections": [],
      "toc_visible": true,
      "include_colab_link": true
    },
    "accelerator": "GPU"
  },
  "cells": [
    {
      "cell_type": "markdown",
      "metadata": {
        "id": "view-in-github",
        "colab_type": "text"
      },
      "source": [
        "<a href=\"https://colab.research.google.com/github/Kensuzuki95/CE888/blob/main/Lab-7/Exercise_3_RNN.ipynb\" target=\"_parent\"><img src=\"https://colab.research.google.com/assets/colab-badge.svg\" alt=\"Open In Colab\"/></a>"
      ]
    },
    {
      "cell_type": "code",
      "metadata": {
        "id": "2OEAdhW0qjg9",
        "colab": {
          "base_uri": "https://localhost:8080/",
          "height": 35
        },
        "outputId": "0215ad66-f9bf-41ff-daa8-8be778c037fa"
      },
      "source": [
        "import keras\n",
        "keras.__version__"
      ],
      "execution_count": 8,
      "outputs": [
        {
          "output_type": "execute_result",
          "data": {
            "application/vnd.google.colaboratory.intrinsic+json": {
              "type": "string"
            },
            "text/plain": [
              "'2.4.3'"
            ]
          },
          "metadata": {
            "tags": []
          },
          "execution_count": 8
        }
      ]
    },
    {
      "cell_type": "code",
      "metadata": {
        "id": "TYsNtFxgqjhC",
        "colab": {
          "base_uri": "https://localhost:8080/"
        },
        "outputId": "9bb3d0ca-7a42-4623-d0a3-7ea451d5c74e"
      },
      "source": [
        "from keras.preprocessing.text import Tokenizer\n",
        "samples = ['The cat sat on the mat.', 'The dog ate my homework.']\n",
        "\n",
        "# We create a tokenizer, configured to only take into account the top-1000 most common words\n",
        "tokenizer = Tokenizer(num_words=1000)\n",
        "\n",
        "# This builds the word index\n",
        "tokenizer.fit_on_texts(samples)\n",
        "\n",
        "# This turns strings into lists of integer indices.\n",
        "sequences = tokenizer.texts_to_sequences(samples)\n",
        "\n",
        "# You could also directly get the one-hot binary representations.\n",
        "# Note that other vectorization modes than one-hot encoding are supported!\n",
        "one_hot_results = tokenizer.texts_to_matrix(samples, mode='binary')\n",
        "\n",
        "# This is how you can recover the word index that was computed\n",
        "word_index = tokenizer.word_index\n",
        "print('Found %s unique tokens.' % len(word_index))"
      ],
      "execution_count": 9,
      "outputs": [
        {
          "output_type": "stream",
          "text": [
            "Found 9 unique tokens.\n"
          ],
          "name": "stdout"
        }
      ]
    },
    {
      "cell_type": "code",
      "metadata": {
        "id": "_1bFuvqKqjhF",
        "colab": {
          "base_uri": "https://localhost:8080/"
        },
        "outputId": "641063a9-113a-49c6-ecee-4d1a00a51af0"
      },
      "source": [
        "one_hot_results"
      ],
      "execution_count": 10,
      "outputs": [
        {
          "output_type": "execute_result",
          "data": {
            "text/plain": [
              "array([[0., 1., 1., ..., 0., 0., 0.],\n",
              "       [0., 1., 0., ..., 0., 0., 0.]])"
            ]
          },
          "metadata": {
            "tags": []
          },
          "execution_count": 10
        }
      ]
    },
    {
      "cell_type": "markdown",
      "metadata": {
        "id": "95o1mdJkqjhI"
      },
      "source": [
        "Using word-embeddings "
      ]
    },
    {
      "cell_type": "code",
      "metadata": {
        "id": "DSAIqfdoqjhJ",
        "colab": {
          "base_uri": "https://localhost:8080/"
        },
        "outputId": "8c9b7f7c-2777-4750-c59d-75a215383d36"
      },
      "source": [
        "from keras.datasets import imdb\n",
        "from keras.preprocessing import sequence\n",
        "\n",
        "max_features = 10000\n",
        "maxlen = 500\n",
        "batch_size = 32\n",
        "print('Loading data...')\n",
        "(input_train, y_train), (input_test, y_test) = imdb.load_data(num_words=max_features)\n",
        "print(len(input_train), 'train sequences')\n",
        "print(len(input_test), 'test sequences')\n",
        "print('Pad sequences (samples x time)')\n",
        "input_train = sequence.pad_sequences(input_train, maxlen=maxlen)\n",
        "input_test = sequence.pad_sequences(input_test, maxlen=maxlen)\n",
        "print('input_train shape:', input_train.shape)\n",
        "print('input_test shape:', input_test.shape)"
      ],
      "execution_count": 11,
      "outputs": [
        {
          "output_type": "stream",
          "text": [
            "Loading data...\n"
          ],
          "name": "stdout"
        },
        {
          "output_type": "stream",
          "text": [
            "<string>:6: VisibleDeprecationWarning: Creating an ndarray from ragged nested sequences (which is a list-or-tuple of lists-or-tuples-or ndarrays with different lengths or shapes) is deprecated. If you meant to do this, you must specify 'dtype=object' when creating the ndarray\n",
            "/usr/local/lib/python3.7/dist-packages/tensorflow/python/keras/datasets/imdb.py:159: VisibleDeprecationWarning: Creating an ndarray from ragged nested sequences (which is a list-or-tuple of lists-or-tuples-or ndarrays with different lengths or shapes) is deprecated. If you meant to do this, you must specify 'dtype=object' when creating the ndarray\n",
            "  x_train, y_train = np.array(xs[:idx]), np.array(labels[:idx])\n",
            "/usr/local/lib/python3.7/dist-packages/tensorflow/python/keras/datasets/imdb.py:160: VisibleDeprecationWarning: Creating an ndarray from ragged nested sequences (which is a list-or-tuple of lists-or-tuples-or ndarrays with different lengths or shapes) is deprecated. If you meant to do this, you must specify 'dtype=object' when creating the ndarray\n",
            "  x_test, y_test = np.array(xs[idx:]), np.array(labels[idx:])\n"
          ],
          "name": "stderr"
        },
        {
          "output_type": "stream",
          "text": [
            "25000 train sequences\n",
            "25000 test sequences\n",
            "Pad sequences (samples x time)\n",
            "input_train shape: (25000, 500)\n",
            "input_test shape: (25000, 500)\n"
          ],
          "name": "stdout"
        }
      ]
    },
    {
      "cell_type": "markdown",
      "metadata": {
        "id": "5ssh97qDqjhM"
      },
      "source": [
        "### Training the model with Embedding and SimpleRNN layers"
      ]
    },
    {
      "cell_type": "code",
      "metadata": {
        "id": "t_lIlBilqjhN",
        "colab": {
          "base_uri": "https://localhost:8080/"
        },
        "outputId": "b2ab9601-3078-4b13-e2ac-22b0072e2c3b"
      },
      "source": [
        "from keras import layers\n",
        "from keras import models\n",
        "from keras.layers import Dense\n",
        "from keras.layers import Embedding, SimpleRNN\n",
        "\n",
        "model = models.Sequential()\n",
        "model.add(Embedding(max_features, 32))\n",
        "model.add(SimpleRNN(32))\n",
        "model.add(Dense(1, activation='sigmoid'))\n",
        "model.summary()\n",
        "model.compile(optimizer='rmsprop', loss='binary_crossentropy', metrics=['acc'])\n",
        "history = model.fit(input_train, y_train, \n",
        "                    epochs=10,\n",
        "                    batch_size=128,\n",
        "                    validation_split=0.2)\n"
      ],
      "execution_count": 12,
      "outputs": [
        {
          "output_type": "stream",
          "text": [
            "Model: \"sequential_1\"\n",
            "_________________________________________________________________\n",
            "Layer (type)                 Output Shape              Param #   \n",
            "=================================================================\n",
            "embedding_1 (Embedding)      (None, None, 32)          320000    \n",
            "_________________________________________________________________\n",
            "simple_rnn_1 (SimpleRNN)     (None, 32)                2080      \n",
            "_________________________________________________________________\n",
            "dense_1 (Dense)              (None, 1)                 33        \n",
            "=================================================================\n",
            "Total params: 322,113\n",
            "Trainable params: 322,113\n",
            "Non-trainable params: 0\n",
            "_________________________________________________________________\n",
            "Epoch 1/10\n",
            "157/157 [==============================] - 76s 476ms/step - loss: 0.6851 - acc: 0.5443 - val_loss: 0.5147 - val_acc: 0.8026\n",
            "Epoch 2/10\n",
            "157/157 [==============================] - 74s 472ms/step - loss: 0.4677 - acc: 0.7986 - val_loss: 0.3669 - val_acc: 0.8476\n",
            "Epoch 3/10\n",
            "157/157 [==============================] - 74s 471ms/step - loss: 0.3213 - acc: 0.8723 - val_loss: 0.7405 - val_acc: 0.6964\n",
            "Epoch 4/10\n",
            "157/157 [==============================] - 75s 479ms/step - loss: 0.2689 - acc: 0.8949 - val_loss: 0.5396 - val_acc: 0.7788\n",
            "Epoch 5/10\n",
            "157/157 [==============================] - 74s 471ms/step - loss: 0.2199 - acc: 0.9180 - val_loss: 0.3895 - val_acc: 0.8686\n",
            "Epoch 6/10\n",
            "157/157 [==============================] - 73s 468ms/step - loss: 0.1945 - acc: 0.9273 - val_loss: 0.3626 - val_acc: 0.8374\n",
            "Epoch 7/10\n",
            "157/157 [==============================] - 75s 477ms/step - loss: 0.1500 - acc: 0.9484 - val_loss: 0.3730 - val_acc: 0.8388\n",
            "Epoch 8/10\n",
            "157/157 [==============================] - 73s 464ms/step - loss: 0.1255 - acc: 0.9577 - val_loss: 0.3603 - val_acc: 0.8646\n",
            "Epoch 9/10\n",
            "157/157 [==============================] - 73s 466ms/step - loss: 0.1023 - acc: 0.9635 - val_loss: 0.4168 - val_acc: 0.8392\n",
            "Epoch 10/10\n",
            "157/157 [==============================] - 73s 465ms/step - loss: 0.0964 - acc: 0.9683 - val_loss: 0.4797 - val_acc: 0.7960\n"
          ],
          "name": "stdout"
        }
      ]
    },
    {
      "cell_type": "code",
      "metadata": {
        "id": "w03gEZ2RqjhQ",
        "colab": {
          "base_uri": "https://localhost:8080/",
          "height": 545
        },
        "outputId": "bb18850e-ec2a-45f1-a91d-a16fdbd18044"
      },
      "source": [
        "import matplotlib.pyplot as plt\n",
        "\n",
        "acc = history.history['acc']\n",
        "val_acc = history.history['val_acc']\n",
        "loss = history.history['loss']\n",
        "val_loss = history.history['val_loss']\n",
        "\n",
        "epochs = range(1, len(acc) + 1)\n",
        "\n",
        "plt.plot(epochs, acc, 'bo', label='Training acc')\n",
        "plt.plot(epochs, val_acc, 'b', label='Validation acc')\n",
        "plt.title('Training and validation accuracy')\n",
        "plt.legend()\n",
        "\n",
        "plt.figure()\n",
        "\n",
        "plt.plot(epochs, loss, 'bo', label='Training loss')\n",
        "plt.plot(epochs, val_loss, 'b', label='Validation loss')\n",
        "plt.title('Training and validation loss')\n",
        "plt.legend()\n",
        "\n",
        "plt.show()"
      ],
      "execution_count": 13,
      "outputs": [
        {
          "output_type": "display_data",
          "data": {
            "image/png": "[encoded data removed]",
            "text/plain": [
              "<Figure size 432x288 with 1 Axes>"
            ]
          },
          "metadata": {
            "tags": [],
            "needs_background": "light"
          }
        },
        {
          "output_type": "display_data",
          "data": {
            "image/png": "[encoded data removed]",
            "text/plain": [
              "<Figure size 432x288 with 1 Axes>"
            ]
          },
          "metadata": {
            "tags": [],
            "needs_background": "light"
          }
        }
      ]
    },
    {
      "cell_type": "markdown",
      "metadata": {
        "id": "mz8CfgKcqjhT"
      },
      "source": [
        "### Training the model with Embedding and SimpleRNN layers"
      ]
    },
    {
      "cell_type": "code",
      "metadata": {
        "id": "U_wjH-KGqjhU",
        "colab": {
          "base_uri": "https://localhost:8080/"
        },
        "outputId": "5593270c-6484-4650-c358-820641911a19"
      },
      "source": [
        "from keras.layers import LSTM\n",
        "\n",
        "model = models.Sequential()\n",
        "model.add(Embedding(max_features, 32))\n",
        "model.add(LSTM(32))\n",
        "model.add(Dense(1, activation='sigmoid'))\n",
        "model.compile(optimizer='rmsprop',\n",
        "loss='binary_crossentropy',\n",
        "metrics=['acc'])\n",
        "history = model.fit(input_train, y_train,\n",
        "                    epochs=10,\n",
        "                    batch_size=128,\n",
        "                    validation_split=0.2)"
      ],
      "execution_count": 16,
      "outputs": [
        {
          "output_type": "stream",
          "text": [
            "Epoch 1/10\n",
            "157/157 [==============================] - 43s 94ms/step - loss: 0.6071 - acc: 0.6610 - val_loss: 0.3473 - val_acc: 0.8560\n",
            "Epoch 2/10\n",
            "157/157 [==============================] - 14s 91ms/step - loss: 0.3136 - acc: 0.8770 - val_loss: 0.3817 - val_acc: 0.8306\n",
            "Epoch 3/10\n",
            "157/157 [==============================] - 14s 91ms/step - loss: 0.2372 - acc: 0.9115 - val_loss: 0.3823 - val_acc: 0.8576\n",
            "Epoch 4/10\n",
            "157/157 [==============================] - 14s 91ms/step - loss: 0.2046 - acc: 0.9267 - val_loss: 0.2838 - val_acc: 0.8876\n",
            "Epoch 5/10\n",
            "157/157 [==============================] - 14s 91ms/step - loss: 0.1649 - acc: 0.9412 - val_loss: 0.3187 - val_acc: 0.8896\n",
            "Epoch 6/10\n",
            "157/157 [==============================] - 14s 91ms/step - loss: 0.1556 - acc: 0.9470 - val_loss: 0.3352 - val_acc: 0.8848\n",
            "Epoch 7/10\n",
            "157/157 [==============================] - 14s 91ms/step - loss: 0.1365 - acc: 0.9523 - val_loss: 0.3559 - val_acc: 0.8834\n",
            "Epoch 8/10\n",
            "157/157 [==============================] - 14s 92ms/step - loss: 0.1282 - acc: 0.9569 - val_loss: 0.3513 - val_acc: 0.8774\n",
            "Epoch 9/10\n",
            "157/157 [==============================] - 14s 92ms/step - loss: 0.1080 - acc: 0.9616 - val_loss: 0.4611 - val_acc: 0.8544\n",
            "Epoch 10/10\n",
            "157/157 [==============================] - 14s 92ms/step - loss: 0.1186 - acc: 0.9590 - val_loss: 0.3394 - val_acc: 0.8836\n"
          ],
          "name": "stdout"
        }
      ]
    },
    {
      "cell_type": "code",
      "metadata": {
        "id": "HU4eGq-DqjhX",
        "colab": {
          "base_uri": "https://localhost:8080/",
          "height": 545
        },
        "outputId": "cb195f4c-18bb-4397-9436-2a6ed12b0e96"
      },
      "source": [
        "import matplotlib.pyplot as plt\n",
        "\n",
        "acc = history.history['acc']\n",
        "val_acc = history.history['val_acc']\n",
        "loss = history.history['loss']\n",
        "val_loss = history.history['val_loss']\n",
        "\n",
        "epochs = range(1, len(acc) + 1)\n",
        "\n",
        "plt.plot(epochs, acc, 'bo', label='Training acc')\n",
        "plt.plot(epochs, val_acc, 'b', label='Validation acc')\n",
        "plt.title('Training and validation accuracy')\n",
        "plt.legend()\n",
        "\n",
        "plt.figure()\n",
        "\n",
        "plt.plot(epochs, loss, 'bo', label='Training loss')\n",
        "plt.plot(epochs, val_loss, 'b', label='Validation loss')\n",
        "plt.title('Training and validation loss')\n",
        "plt.legend()\n",
        "\n",
        "plt.show()"
      ],
      "execution_count": 17,
      "outputs": [
        {
          "output_type": "display_data",
          "data": {
            "image/png": "[encoded data removed]",
            "text/plain": [
              "<Figure size 432x288 with 1 Axes>"
            ]
          },
          "metadata": {
            "tags": [],
            "needs_background": "light"
          }
        },
        {
          "output_type": "display_data",
          "data": {
            "image/png": "[encoded data removed]",
            "text/plain": [
              "<Figure size 432x288 with 1 Axes>"
            ]
          },
          "metadata": {
            "tags": [],
            "needs_background": "light"
          }
        }
      ]
    },
    {
      "cell_type": "markdown",
      "metadata": {
        "id": "r69U5tFUZ82R"
      },
      "source": [
        "### Task 3: \n",
        "\n",
        "Please consider this Time Series Prediction with LSTM Recurrent Neural Networks. We can see that the LSTM model in the code below has an average error of about 23 passengers (in thousands) on the training dataset, and about 53 passengers (in thousands) on the test dataset. Not that bad. Can you please improve the performance?\n",
        "\n",
        "#### Dataset Discription\n",
        "The problem we are going to look at in this post is the International Airline Passengers prediction problem.\n",
        "This is a problem where, given a year and a month, the task is to predict the number of international airline passengers in units of 1,000. The data ranges from January 1949 to December 1960, or 12 years, with 144 observations.\n",
        "\n"
      ]
    },
    {
      "cell_type": "code",
      "metadata": {
        "colab": {
          "base_uri": "https://localhost:8080/",
          "height": 1000
        },
        "id": "w1vSusoyatCW",
        "outputId": "3b42a968-b359-4711-b202-7d59baaaadf9"
      },
      "source": [
        "import numpy\n",
        "import math\n",
        "import matplotlib.pyplot as plt\n",
        "from pandas import read_csv\n",
        "from keras.models import Sequential\n",
        "from keras.layers import Dense\n",
        "from keras.layers import LSTM\n",
        "from sklearn.preprocessing import MinMaxScaler\n",
        "from sklearn.metrics import mean_squared_error\n",
        "# convert an array of values into a dataset matrix\n",
        "def create_dataset(dataset, look_back=1):\n",
        "\tdataX, dataY = [], []\n",
        "\tfor i in range(len(dataset)-look_back-1):\n",
        "\t\ta = dataset[i:(i+look_back), 0]\n",
        "\t\tdataX.append(a)\n",
        "\t\tdataY.append(dataset[i + look_back, 0])\n",
        "\treturn numpy.array(dataX), numpy.array(dataY)\n",
        "# fix random seed for reproducibility\n",
        "numpy.random.seed(7)\n",
        "# load the dataset\n",
        "dataframe = read_csv('https://raw.githubusercontent.com/jbrownlee/Datasets/master/airline-passengers.csv', usecols=[1], engine='python')\n",
        "dataset = dataframe.values\n",
        "dataset = dataset.astype('float32')\n",
        "# normalize the dataset\n",
        "scaler = MinMaxScaler(feature_range=(0, 1))\n",
        "dataset = scaler.fit_transform(dataset)\n",
        "# split into train and test sets\n",
        "train_size = int(len(dataset) * 0.67)\n",
        "test_size = len(dataset) - train_size\n",
        "train, test = dataset[0:train_size,:], dataset[train_size:len(dataset),:]\n",
        "# reshape into X=t and Y=t+1\n",
        "look_back = 1\n",
        "trainX, trainY = create_dataset(train, look_back)\n",
        "testX, testY = create_dataset(test, look_back)\n",
        "# reshape input to be [samples, time steps, features]\n",
        "trainX = numpy.reshape(trainX, (trainX.shape[0], 1, trainX.shape[1]))\n",
        "testX = numpy.reshape(testX, (testX.shape[0], 1, testX.shape[1]))\n",
        "# create and fit the LSTM network\n",
        "model = Sequential()\n",
        "model.add(LSTM(4, input_shape=(1, look_back)))\n",
        "model.add(Dense(1))\n",
        "model.compile(loss='mean_squared_error', optimizer='adam')\n",
        "model.fit(trainX, trainY, epochs=100, batch_size=1, verbose=2)\n",
        "# make predictions\n",
        "trainPredict = model.predict(trainX)\n",
        "testPredict = model.predict(testX)\n",
        "# invert predictions\n",
        "trainPredict = scaler.inverse_transform(trainPredict)\n",
        "trainY = scaler.inverse_transform([trainY])\n",
        "testPredict = scaler.inverse_transform(testPredict)\n",
        "testY = scaler.inverse_transform([testY])\n",
        "# calculate root mean squared error\n",
        "trainScore = math.sqrt(mean_squared_error(trainY[0], trainPredict[:,0]))\n",
        "print('Train Score: %.2f RMSE' % (trainScore))\n",
        "testScore = math.sqrt(mean_squared_error(testY[0], testPredict[:,0]))\n",
        "print('Test Score: %.2f RMSE' % (testScore))\n",
        "# shift train predictions for plotting\n",
        "trainPredictPlot = numpy.empty_like(dataset)\n",
        "trainPredictPlot[:, :] = numpy.nan\n",
        "trainPredictPlot[look_back:len(trainPredict)+look_back, :] = trainPredict\n",
        "# shift test predictions for plotting\n",
        "testPredictPlot = numpy.empty_like(dataset)\n",
        "testPredictPlot[:, :] = numpy.nan\n",
        "testPredictPlot[len(trainPredict)+(look_back*2)+1:len(dataset)-1, :] = testPredict\n",
        "# plot baseline and predictions\n",
        "plt.plot(scaler.inverse_transform(dataset))\n",
        "plt.plot(trainPredictPlot)\n",
        "plt.plot(testPredictPlot)\n",
        "plt.show()"
      ],
      "execution_count": 11,
      "outputs": [
        {
          "output_type": "stream",
          "text": [
            "Epoch 1/100\n",
            "94/94 - 1s - loss: 0.0558\n",
            "Epoch 2/100\n",
            "94/94 - 0s - loss: 0.0294\n",
            "Epoch 3/100\n",
            "94/94 - 0s - loss: 0.0211\n",
            "Epoch 4/100\n",
            "94/94 - 0s - loss: 0.0190\n",
            "Epoch 5/100\n",
            "94/94 - 0s - loss: 0.0179\n",
            "Epoch 6/100\n",
            "94/94 - 0s - loss: 0.0170\n",
            "Epoch 7/100\n",
            "94/94 - 0s - loss: 0.0161\n",
            "Epoch 8/100\n",
            "94/94 - 0s - loss: 0.0152\n",
            "Epoch 9/100\n",
            "94/94 - 0s - loss: 0.0143\n",
            "Epoch 10/100\n",
            "94/94 - 0s - loss: 0.0132\n",
            "Epoch 11/100\n",
            "94/94 - 0s - loss: 0.0122\n",
            "Epoch 12/100\n",
            "94/94 - 0s - loss: 0.0112\n",
            "Epoch 13/100\n",
            "94/94 - 0s - loss: 0.0102\n",
            "Epoch 14/100\n",
            "94/94 - 0s - loss: 0.0091\n",
            "Epoch 15/100\n",
            "94/94 - 0s - loss: 0.0081\n",
            "Epoch 16/100\n",
            "94/94 - 0s - loss: 0.0070\n",
            "Epoch 17/100\n",
            "94/94 - 0s - loss: 0.0061\n",
            "Epoch 18/100\n",
            "94/94 - 0s - loss: 0.0053\n",
            "Epoch 19/100\n",
            "94/94 - 0s - loss: 0.0046\n",
            "Epoch 20/100\n",
            "94/94 - 0s - loss: 0.0040\n",
            "Epoch 21/100\n",
            "94/94 - 0s - loss: 0.0035\n",
            "Epoch 22/100\n",
            "94/94 - 0s - loss: 0.0030\n",
            "Epoch 23/100\n",
            "94/94 - 0s - loss: 0.0028\n",
            "Epoch 24/100\n",
            "94/94 - 0s - loss: 0.0025\n",
            "Epoch 25/100\n",
            "94/94 - 0s - loss: 0.0023\n",
            "Epoch 26/100\n",
            "94/94 - 0s - loss: 0.0022\n",
            "Epoch 27/100\n",
            "94/94 - 0s - loss: 0.0021\n",
            "Epoch 28/100\n",
            "94/94 - 0s - loss: 0.0021\n",
            "Epoch 29/100\n",
            "94/94 - 0s - loss: 0.0020\n",
            "Epoch 30/100\n",
            "94/94 - 0s - loss: 0.0021\n",
            "Epoch 31/100\n",
            "94/94 - 0s - loss: 0.0021\n",
            "Epoch 32/100\n",
            "94/94 - 0s - loss: 0.0020\n",
            "Epoch 33/100\n",
            "94/94 - 0s - loss: 0.0021\n",
            "Epoch 34/100\n",
            "94/94 - 0s - loss: 0.0021\n",
            "Epoch 35/100\n",
            "94/94 - 0s - loss: 0.0021\n",
            "Epoch 36/100\n",
            "94/94 - 0s - loss: 0.0020\n",
            "Epoch 37/100\n",
            "94/94 - 0s - loss: 0.0021\n",
            "Epoch 38/100\n",
            "94/94 - 0s - loss: 0.0021\n",
            "Epoch 39/100\n",
            "94/94 - 0s - loss: 0.0021\n",
            "Epoch 40/100\n",
            "94/94 - 0s - loss: 0.0020\n",
            "Epoch 41/100\n",
            "94/94 - 0s - loss: 0.0021\n",
            "Epoch 42/100\n",
            "94/94 - 0s - loss: 0.0021\n",
            "Epoch 43/100\n",
            "94/94 - 0s - loss: 0.0021\n",
            "Epoch 44/100\n",
            "94/94 - 0s - loss: 0.0021\n",
            "Epoch 45/100\n",
            "94/94 - 0s - loss: 0.0020\n",
            "Epoch 46/100\n",
            "94/94 - 0s - loss: 0.0021\n",
            "Epoch 47/100\n",
            "94/94 - 0s - loss: 0.0021\n",
            "Epoch 48/100\n",
            "94/94 - 0s - loss: 0.0020\n",
            "Epoch 49/100\n",
            "94/94 - 0s - loss: 0.0020\n",
            "Epoch 50/100\n",
            "94/94 - 0s - loss: 0.0021\n",
            "Epoch 51/100\n",
            "94/94 - 0s - loss: 0.0020\n",
            "Epoch 52/100\n",
            "94/94 - 0s - loss: 0.0021\n",
            "Epoch 53/100\n",
            "94/94 - 0s - loss: 0.0020\n",
            "Epoch 54/100\n",
            "94/94 - 0s - loss: 0.0020\n",
            "Epoch 55/100\n",
            "94/94 - 0s - loss: 0.0020\n",
            "Epoch 56/100\n",
            "94/94 - 0s - loss: 0.0021\n",
            "Epoch 57/100\n",
            "94/94 - 0s - loss: 0.0020\n",
            "Epoch 58/100\n",
            "94/94 - 0s - loss: 0.0020\n",
            "Epoch 59/100\n",
            "94/94 - 0s - loss: 0.0021\n",
            "Epoch 60/100\n",
            "94/94 - 0s - loss: 0.0020\n",
            "Epoch 61/100\n",
            "94/94 - 0s - loss: 0.0020\n",
            "Epoch 62/100\n",
            "94/94 - 0s - loss: 0.0020\n",
            "Epoch 63/100\n",
            "94/94 - 0s - loss: 0.0021\n",
            "Epoch 64/100\n",
            "94/94 - 0s - loss: 0.0020\n",
            "Epoch 65/100\n",
            "94/94 - 0s - loss: 0.0020\n",
            "Epoch 66/100\n",
            "94/94 - 0s - loss: 0.0021\n",
            "Epoch 67/100\n",
            "94/94 - 0s - loss: 0.0021\n",
            "Epoch 68/100\n",
            "94/94 - 0s - loss: 0.0020\n",
            "Epoch 69/100\n",
            "94/94 - 0s - loss: 0.0021\n",
            "Epoch 70/100\n",
            "94/94 - 0s - loss: 0.0020\n",
            "Epoch 71/100\n",
            "94/94 - 0s - loss: 0.0020\n",
            "Epoch 72/100\n",
            "94/94 - 0s - loss: 0.0020\n",
            "Epoch 73/100\n",
            "94/94 - 0s - loss: 0.0020\n",
            "Epoch 74/100\n",
            "94/94 - 0s - loss: 0.0020\n",
            "Epoch 75/100\n",
            "94/94 - 0s - loss: 0.0021\n",
            "Epoch 76/100\n",
            "94/94 - 0s - loss: 0.0021\n",
            "Epoch 77/100\n",
            "94/94 - 0s - loss: 0.0020\n",
            "Epoch 78/100\n",
            "94/94 - 0s - loss: 0.0021\n",
            "Epoch 79/100\n",
            "94/94 - 0s - loss: 0.0021\n",
            "Epoch 80/100\n",
            "94/94 - 0s - loss: 0.0020\n",
            "Epoch 81/100\n",
            "94/94 - 0s - loss: 0.0020\n",
            "Epoch 82/100\n",
            "94/94 - 0s - loss: 0.0020\n",
            "Epoch 83/100\n",
            "94/94 - 0s - loss: 0.0020\n",
            "Epoch 84/100\n",
            "94/94 - 0s - loss: 0.0020\n",
            "Epoch 85/100\n",
            "94/94 - 0s - loss: 0.0020\n",
            "Epoch 86/100\n",
            "94/94 - 0s - loss: 0.0020\n",
            "Epoch 87/100\n",
            "94/94 - 0s - loss: 0.0020\n",
            "Epoch 88/100\n",
            "94/94 - 0s - loss: 0.0021\n",
            "Epoch 89/100\n",
            "94/94 - 0s - loss: 0.0020\n",
            "Epoch 90/100\n",
            "94/94 - 0s - loss: 0.0021\n",
            "Epoch 91/100\n",
            "94/94 - 0s - loss: 0.0019\n",
            "Epoch 92/100\n",
            "94/94 - 0s - loss: 0.0020\n",
            "Epoch 93/100\n",
            "94/94 - 0s - loss: 0.0020\n",
            "Epoch 94/100\n",
            "94/94 - 0s - loss: 0.0020\n",
            "Epoch 95/100\n",
            "94/94 - 0s - loss: 0.0020\n",
            "Epoch 96/100\n",
            "94/94 - 0s - loss: 0.0021\n",
            "Epoch 97/100\n",
            "94/94 - 0s - loss: 0.0020\n",
            "Epoch 98/100\n",
            "94/94 - 0s - loss: 0.0020\n",
            "Epoch 99/100\n",
            "94/94 - 0s - loss: 0.0021\n",
            "Epoch 100/100\n",
            "94/94 - 0s - loss: 0.0020\n",
            "Train Score: 22.73 RMSE\n",
            "Test Score: 49.03 RMSE\n"
          ],
          "name": "stdout"
        },
        {
          "output_type": "display_data",
          "data": {
            "image/png": "[encoded data removed]",
            "text/plain": [
              "<Figure size 432x288 with 1 Axes>"
            ]
          },
          "metadata": {
            "tags": [],
            "needs_background": "light"
          }
        }
      ]
    },
    {
      "cell_type": "markdown",
      "metadata": {
        "id": "cJ8gfvKRe42Y"
      },
      "source": [
        "### Create New Model\n",
        "\n",
        "- The  New model is inspired by a LSTM model used for stock price prediction\n",
        "  - The original source code could be found from this webpage ['Using a Keras Long Short-Term Memory (LSTM) Model to Predict Stock Prices'](https://www.kdnuggets.com/2018/11/keras-long-short-term-memory-lstm-model-predict-stock-prices.html)\n",
        "- The New model produced a slightly improved results compared to the intial model shown above\n",
        "  - New Model: `Train Score: 25.14 RMSE Test Score: 49.32 RMSE`\n",
        "  - Original Model: `Train Score: 22.73 RMSE Test Score: 49.03 RMSE`"
      ]
    },
    {
      "cell_type": "code",
      "metadata": {
        "colab": {
          "base_uri": "https://localhost:8080/"
        },
        "id": "H3SiRRTrjpGI",
        "outputId": "11982cd5-88dd-4b6a-f51b-6d61fa60ad37"
      },
      "source": [
        "regressor = Sequential()\n",
        "\n",
        "regressor.add(LSTM(units = 50, return_sequences = True, input_shape = (trainX.shape[1], 1)))\n",
        "regressor.add(Dropout(0.2))\n",
        "\n",
        "regressor.add(LSTM(units = 50, return_sequences = True))\n",
        "regressor.add(Dropout(0.2))\n",
        "\n",
        "regressor.add(LSTM(units = 50, return_sequences = True))\n",
        "regressor.add(Dropout(0.2))\n",
        "\n",
        "regressor.add(LSTM(units = 50))\n",
        "regressor.add(Dropout(0.2))\n",
        "\n",
        "regressor.add(Dense(units = 1))\n",
        "\n",
        "regressor.compile(optimizer = 'adam', loss = 'mean_squared_error')\n",
        "model = regressor\n",
        "print(model.summary())"
      ],
      "execution_count": 19,
      "outputs": [
        {
          "output_type": "stream",
          "text": [
            "Model: \"sequential_16\"\n",
            "_________________________________________________________________\n",
            "Layer (type)                 Output Shape              Param #   \n",
            "=================================================================\n",
            "lstm_18 (LSTM)               (None, 1, 50)             10400     \n",
            "_________________________________________________________________\n",
            "dropout_8 (Dropout)          (None, 1, 50)             0         \n",
            "_________________________________________________________________\n",
            "lstm_19 (LSTM)               (None, 1, 50)             20200     \n",
            "_________________________________________________________________\n",
            "dropout_9 (Dropout)          (None, 1, 50)             0         \n",
            "_________________________________________________________________\n",
            "lstm_20 (LSTM)               (None, 1, 50)             20200     \n",
            "_________________________________________________________________\n",
            "dropout_10 (Dropout)         (None, 1, 50)             0         \n",
            "_________________________________________________________________\n",
            "lstm_21 (LSTM)               (None, 50)                20200     \n",
            "_________________________________________________________________\n",
            "dropout_11 (Dropout)         (None, 50)                0         \n",
            "_________________________________________________________________\n",
            "dense_17 (Dense)             (None, 1)                 51        \n",
            "=================================================================\n",
            "Total params: 71,051\n",
            "Trainable params: 71,051\n",
            "Non-trainable params: 0\n",
            "_________________________________________________________________\n",
            "None\n"
          ],
          "name": "stdout"
        }
      ]
    },
    {
      "cell_type": "code",
      "metadata": {
        "colab": {
          "base_uri": "https://localhost:8080/",
          "height": 1000
        },
        "id": "jUFMNA6zj7xJ",
        "outputId": "e3275e7d-609d-474e-8d3e-eefebf957d29"
      },
      "source": [
        "import numpy\n",
        "import math\n",
        "import matplotlib.pyplot as plt\n",
        "from pandas import read_csv\n",
        "from keras.models import Sequential\n",
        "from keras.layers import Dense\n",
        "from keras.layers import LSTM\n",
        "from sklearn.preprocessing import MinMaxScaler\n",
        "from sklearn.metrics import mean_squared_error\n",
        "# convert an array of values into a dataset matrix\n",
        "def create_dataset(dataset, look_back=1):\n",
        "\tdataX, dataY = [], []\n",
        "\tfor i in range(len(dataset)-look_back-1):\n",
        "\t\ta = dataset[i:(i+look_back), 0]\n",
        "\t\tdataX.append(a)\n",
        "\t\tdataY.append(dataset[i + look_back, 0])\n",
        "\treturn numpy.array(dataX), numpy.array(dataY)\n",
        "# fix random seed for reproducibility\n",
        "numpy.random.seed(7)\n",
        "# load the dataset\n",
        "dataframe = read_csv('https://raw.githubusercontent.com/jbrownlee/Datasets/master/airline-passengers.csv', usecols=[1], engine='python')\n",
        "dataset = dataframe.values\n",
        "dataset = dataset.astype('float32')\n",
        "# normalize the dataset\n",
        "scaler = MinMaxScaler(feature_range=(0, 1))\n",
        "dataset = scaler.fit_transform(dataset)\n",
        "# split into train and test sets\n",
        "train_size = int(len(dataset) * 0.67)\n",
        "test_size = len(dataset) - train_size\n",
        "train, test = dataset[0:train_size,:], dataset[train_size:len(dataset),:]\n",
        "# reshape into X=t and Y=t+1\n",
        "look_back = 1\n",
        "trainX, trainY = create_dataset(train, look_back)\n",
        "testX, testY = create_dataset(test, look_back)\n",
        "# reshape input to be [samples, time steps, features]\n",
        "trainX = numpy.reshape(trainX, (trainX.shape[0], 1, trainX.shape[1]))\n",
        "testX = numpy.reshape(testX, (testX.shape[0], 1, testX.shape[1]))\n",
        "\n",
        "## input and fit the new LSTM network\n",
        "regressor = Sequential()\n",
        "regressor.add(LSTM(units = 50, return_sequences = True, input_shape = (trainX.shape[1], 1)))\n",
        "regressor.add(Dropout(0.2))\n",
        "regressor.add(LSTM(units = 50, return_sequences = True))\n",
        "regressor.add(Dropout(0.2))\n",
        "regressor.add(LSTM(units = 50, return_sequences = True))\n",
        "regressor.add(Dropout(0.2))\n",
        "regressor.add(LSTM(units = 50))\n",
        "regressor.add(Dropout(0.2))\n",
        "regressor.add(Dense(units = 1))\n",
        "regressor.compile(optimizer = 'adam', loss = 'mean_squared_error')\n",
        "model = regressor\n",
        "print(model.summary())\n",
        "model.fit(trainX, trainY, epochs=100, batch_size=1, verbose=2)\n",
        "\n",
        "# make predictions\n",
        "trainPredict = model.predict(trainX)\n",
        "testPredict = model.predict(testX)\n",
        "# invert predictions\n",
        "trainPredict = scaler.inverse_transform(trainPredict)\n",
        "trainY = scaler.inverse_transform([trainY])\n",
        "testPredict = scaler.inverse_transform(testPredict)\n",
        "testY = scaler.inverse_transform([testY])\n",
        "# calculate root mean squared error\n",
        "trainScore = math.sqrt(mean_squared_error(trainY[0], trainPredict[:,0]))\n",
        "print('Train Score: %.2f RMSE' % (trainScore))\n",
        "testScore = math.sqrt(mean_squared_error(testY[0], testPredict[:,0]))\n",
        "print('Test Score: %.2f RMSE' % (testScore))\n",
        "# shift train predictions for plotting\n",
        "trainPredictPlot = numpy.empty_like(dataset)\n",
        "trainPredictPlot[:, :] = numpy.nan\n",
        "trainPredictPlot[look_back:len(trainPredict)+look_back, :] = trainPredict\n",
        "# shift test predictions for plotting\n",
        "testPredictPlot = numpy.empty_like(dataset)\n",
        "testPredictPlot[:, :] = numpy.nan\n",
        "testPredictPlot[len(trainPredict)+(look_back*2)+1:len(dataset)-1, :] = testPredict\n",
        "# plot baseline and predictions\n",
        "plt.plot(scaler.inverse_transform(dataset))\n",
        "plt.plot(trainPredictPlot)\n",
        "plt.plot(testPredictPlot)\n",
        "plt.show()"
      ],
      "execution_count": 20,
      "outputs": [
        {
          "output_type": "stream",
          "text": [
            "Model: \"sequential_17\"\n",
            "_________________________________________________________________\n",
            "Layer (type)                 Output Shape              Param #   \n",
            "=================================================================\n",
            "lstm_22 (LSTM)               (None, 1, 50)             10400     \n",
            "_________________________________________________________________\n",
            "dropout_12 (Dropout)         (None, 1, 50)             0         \n",
            "_________________________________________________________________\n",
            "lstm_23 (LSTM)               (None, 1, 50)             20200     \n",
            "_________________________________________________________________\n",
            "dropout_13 (Dropout)         (None, 1, 50)             0         \n",
            "_________________________________________________________________\n",
            "lstm_24 (LSTM)               (None, 1, 50)             20200     \n",
            "_________________________________________________________________\n",
            "dropout_14 (Dropout)         (None, 1, 50)             0         \n",
            "_________________________________________________________________\n",
            "lstm_25 (LSTM)               (None, 50)                20200     \n",
            "_________________________________________________________________\n",
            "dropout_15 (Dropout)         (None, 50)                0         \n",
            "_________________________________________________________________\n",
            "dense_18 (Dense)             (None, 1)                 51        \n",
            "=================================================================\n",
            "Total params: 71,051\n",
            "Trainable params: 71,051\n",
            "Non-trainable params: 0\n",
            "_________________________________________________________________\n",
            "None\n",
            "Epoch 1/100\n",
            "94/94 - 4s - loss: 0.0296\n",
            "Epoch 2/100\n",
            "94/94 - 0s - loss: 0.0171\n",
            "Epoch 3/100\n",
            "94/94 - 0s - loss: 0.0109\n",
            "Epoch 4/100\n",
            "94/94 - 0s - loss: 0.0044\n",
            "Epoch 5/100\n",
            "94/94 - 0s - loss: 0.0046\n",
            "Epoch 6/100\n",
            "94/94 - 0s - loss: 0.0031\n",
            "Epoch 7/100\n",
            "94/94 - 0s - loss: 0.0035\n",
            "Epoch 8/100\n",
            "94/94 - 0s - loss: 0.0027\n",
            "Epoch 9/100\n",
            "94/94 - 0s - loss: 0.0031\n",
            "Epoch 10/100\n",
            "94/94 - 0s - loss: 0.0033\n",
            "Epoch 11/100\n",
            "94/94 - 0s - loss: 0.0044\n",
            "Epoch 12/100\n",
            "94/94 - 0s - loss: 0.0031\n",
            "Epoch 13/100\n",
            "94/94 - 0s - loss: 0.0031\n",
            "Epoch 14/100\n",
            "94/94 - 0s - loss: 0.0036\n",
            "Epoch 15/100\n",
            "94/94 - 0s - loss: 0.0028\n",
            "Epoch 16/100\n",
            "94/94 - 0s - loss: 0.0040\n",
            "Epoch 17/100\n",
            "94/94 - 0s - loss: 0.0026\n",
            "Epoch 18/100\n",
            "94/94 - 0s - loss: 0.0033\n",
            "Epoch 19/100\n",
            "94/94 - 0s - loss: 0.0029\n",
            "Epoch 20/100\n",
            "94/94 - 0s - loss: 0.0030\n",
            "Epoch 21/100\n",
            "94/94 - 0s - loss: 0.0033\n",
            "Epoch 22/100\n",
            "94/94 - 0s - loss: 0.0025\n",
            "Epoch 23/100\n",
            "94/94 - 0s - loss: 0.0035\n",
            "Epoch 24/100\n",
            "94/94 - 0s - loss: 0.0027\n",
            "Epoch 25/100\n",
            "94/94 - 0s - loss: 0.0026\n",
            "Epoch 26/100\n",
            "94/94 - 0s - loss: 0.0025\n",
            "Epoch 27/100\n",
            "94/94 - 0s - loss: 0.0038\n",
            "Epoch 28/100\n",
            "94/94 - 0s - loss: 0.0033\n",
            "Epoch 29/100\n",
            "94/94 - 0s - loss: 0.0029\n",
            "Epoch 30/100\n",
            "94/94 - 0s - loss: 0.0031\n",
            "Epoch 31/100\n",
            "94/94 - 0s - loss: 0.0029\n",
            "Epoch 32/100\n",
            "94/94 - 0s - loss: 0.0033\n",
            "Epoch 33/100\n",
            "94/94 - 0s - loss: 0.0028\n",
            "Epoch 34/100\n",
            "94/94 - 0s - loss: 0.0025\n",
            "Epoch 35/100\n",
            "94/94 - 0s - loss: 0.0024\n",
            "Epoch 36/100\n",
            "94/94 - 0s - loss: 0.0029\n",
            "Epoch 37/100\n",
            "94/94 - 0s - loss: 0.0026\n",
            "Epoch 38/100\n",
            "94/94 - 0s - loss: 0.0031\n",
            "Epoch 39/100\n",
            "94/94 - 0s - loss: 0.0034\n",
            "Epoch 40/100\n",
            "94/94 - 0s - loss: 0.0041\n",
            "Epoch 41/100\n",
            "94/94 - 0s - loss: 0.0026\n",
            "Epoch 42/100\n",
            "94/94 - 0s - loss: 0.0033\n",
            "Epoch 43/100\n",
            "94/94 - 0s - loss: 0.0030\n",
            "Epoch 44/100\n",
            "94/94 - 0s - loss: 0.0030\n",
            "Epoch 45/100\n",
            "94/94 - 0s - loss: 0.0029\n",
            "Epoch 46/100\n",
            "94/94 - 0s - loss: 0.0027\n",
            "Epoch 47/100\n",
            "94/94 - 0s - loss: 0.0023\n",
            "Epoch 48/100\n",
            "94/94 - 0s - loss: 0.0025\n",
            "Epoch 49/100\n",
            "94/94 - 0s - loss: 0.0034\n",
            "Epoch 50/100\n",
            "94/94 - 0s - loss: 0.0028\n",
            "Epoch 51/100\n",
            "94/94 - 0s - loss: 0.0026\n",
            "Epoch 52/100\n",
            "94/94 - 0s - loss: 0.0028\n",
            "Epoch 53/100\n",
            "94/94 - 0s - loss: 0.0031\n",
            "Epoch 54/100\n",
            "94/94 - 0s - loss: 0.0030\n",
            "Epoch 55/100\n",
            "94/94 - 0s - loss: 0.0025\n",
            "Epoch 56/100\n",
            "94/94 - 0s - loss: 0.0024\n",
            "Epoch 57/100\n",
            "94/94 - 0s - loss: 0.0036\n",
            "Epoch 58/100\n",
            "94/94 - 0s - loss: 0.0031\n",
            "Epoch 59/100\n",
            "94/94 - 0s - loss: 0.0024\n",
            "Epoch 60/100\n",
            "94/94 - 0s - loss: 0.0033\n",
            "Epoch 61/100\n",
            "94/94 - 0s - loss: 0.0033\n",
            "Epoch 62/100\n",
            "94/94 - 0s - loss: 0.0026\n",
            "Epoch 63/100\n",
            "94/94 - 0s - loss: 0.0031\n",
            "Epoch 64/100\n",
            "94/94 - 0s - loss: 0.0024\n",
            "Epoch 65/100\n",
            "94/94 - 0s - loss: 0.0028\n",
            "Epoch 66/100\n",
            "94/94 - 0s - loss: 0.0027\n",
            "Epoch 67/100\n",
            "94/94 - 0s - loss: 0.0029\n",
            "Epoch 68/100\n",
            "94/94 - 0s - loss: 0.0025\n",
            "Epoch 69/100\n",
            "94/94 - 0s - loss: 0.0027\n",
            "Epoch 70/100\n",
            "94/94 - 0s - loss: 0.0025\n",
            "Epoch 71/100\n",
            "94/94 - 0s - loss: 0.0036\n",
            "Epoch 72/100\n",
            "94/94 - 0s - loss: 0.0030\n",
            "Epoch 73/100\n",
            "94/94 - 0s - loss: 0.0028\n",
            "Epoch 74/100\n",
            "94/94 - 0s - loss: 0.0030\n",
            "Epoch 75/100\n",
            "94/94 - 0s - loss: 0.0029\n",
            "Epoch 76/100\n",
            "94/94 - 0s - loss: 0.0023\n",
            "Epoch 77/100\n",
            "94/94 - 0s - loss: 0.0031\n",
            "Epoch 78/100\n",
            "94/94 - 0s - loss: 0.0024\n",
            "Epoch 79/100\n",
            "94/94 - 0s - loss: 0.0023\n",
            "Epoch 80/100\n",
            "94/94 - 0s - loss: 0.0027\n",
            "Epoch 81/100\n",
            "94/94 - 0s - loss: 0.0031\n",
            "Epoch 82/100\n",
            "94/94 - 0s - loss: 0.0026\n",
            "Epoch 83/100\n",
            "94/94 - 0s - loss: 0.0029\n",
            "Epoch 84/100\n",
            "94/94 - 0s - loss: 0.0027\n",
            "Epoch 85/100\n",
            "94/94 - 0s - loss: 0.0030\n",
            "Epoch 86/100\n",
            "94/94 - 0s - loss: 0.0024\n",
            "Epoch 87/100\n",
            "94/94 - 0s - loss: 0.0030\n",
            "Epoch 88/100\n",
            "94/94 - 0s - loss: 0.0028\n",
            "Epoch 89/100\n",
            "94/94 - 0s - loss: 0.0025\n",
            "Epoch 90/100\n",
            "94/94 - 0s - loss: 0.0025\n",
            "Epoch 91/100\n",
            "94/94 - 0s - loss: 0.0025\n",
            "Epoch 92/100\n",
            "94/94 - 0s - loss: 0.0029\n",
            "Epoch 93/100\n",
            "94/94 - 0s - loss: 0.0028\n",
            "Epoch 94/100\n",
            "94/94 - 0s - loss: 0.0024\n",
            "Epoch 95/100\n",
            "94/94 - 0s - loss: 0.0028\n",
            "Epoch 96/100\n",
            "94/94 - 0s - loss: 0.0030\n",
            "Epoch 97/100\n",
            "94/94 - 0s - loss: 0.0028\n",
            "Epoch 98/100\n",
            "94/94 - 0s - loss: 0.0027\n",
            "Epoch 99/100\n",
            "94/94 - 0s - loss: 0.0022\n",
            "Epoch 100/100\n",
            "94/94 - 0s - loss: 0.0029\n",
            "Train Score: 25.14 RMSE\n",
            "Test Score: 49.32 RMSE\n"
          ],
          "name": "stdout"
        },
        {
          "output_type": "display_data",
          "data": {
            "image/png": "[encoded data removed]",
            "text/plain": [
              "<Figure size 432x288 with 1 Axes>"
            ]
          },
          "metadata": {
            "tags": [],
            "needs_background": "light"
          }
        }
      ]
    }
  ]
}