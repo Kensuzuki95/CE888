{
  "nbformat": 4,
  "nbformat_minor": 0,
  "metadata": {
    "colab": {
      "name": "Lab_6_Task7.ipynb",
      "provenance": [],
      "collapsed_sections": [],
      "toc_visible": true,
      "mount_file_id": "1-h_lPV2HIRJB5aGNzHCNaS9ubMQ6PZcN",
      "authorship_tag": "ABX9TyPfEjY4JyPTqUibQTohcg2O",
      "include_colab_link": true
    },
    "kernelspec": {
      "name": "python3",
      "display_name": "Python 3"
    },
    "language_info": {
      "name": "python"
    }
  },
  "cells": [
    {
      "cell_type": "markdown",
      "metadata": {
        "id": "view-in-github",
        "colab_type": "text"
      },
      "source": [
        "<a href=\"https://colab.research.google.com/github/Kensuzuki95/CE888/blob/main/Lab-6/Lab_6_Task7.ipynb\" target=\"_parent\"><img src=\"https://colab.research.google.com/assets/colab-badge.svg\" alt=\"Open In Colab\"/></a>"
      ]
    },
    {
      "cell_type": "markdown",
      "metadata": {
        "id": "FHww_hXdsVb_"
      },
      "source": [
        "# Lab 6:\n",
        "\n",
        "## Task 7: To complete this task, please create a new notebook in Google Colab. \n",
        "\n",
        "Note: Please create a new notebook for this task.\n",
        "\n",
        "Your data is stored in Lab_6/Data folder. There are two .csv files: 1) Country-data.csv and 2) data-dictionary.csv. Please explore the data and use any clustering method to find the list of countries, which can categorised as follows:\n",
        "\n",
        "| S.No      | Categories |\n",
        "| ----------- | ----------- |\n",
        "| 1   | under-developing country |\n",
        "| 2   | developing country       |\n",
        "| 3   | developed country        |\n",
        "\n",
        "\n",
        "Note: please justify your reason, why and how you have concluded your answer. "
      ]
    },
    {
      "cell_type": "markdown",
      "metadata": {
        "id": "tJeSw_Cll8-P"
      },
      "source": [
        "## Laod Necesarry Libraries"
      ]
    },
    {
      "cell_type": "code",
      "metadata": {
        "id": "ow9KaLn7lpQA"
      },
      "source": [
        "import numpy as np\n",
        "import pandas as pd\n",
        "import seaborn as sns\n",
        "import matplotlib.pyplot as plt \n",
        "from sklearn import cluster, datasets, metrics\n",
        "from sklearn.preprocessing import StandardScaler"
      ],
      "execution_count": 1,
      "outputs": []
    },
    {
      "cell_type": "markdown",
      "metadata": {
        "id": "7X9t9oN4mM-6"
      },
      "source": [
        "## Load the Datasets"
      ]
    },
    {
      "cell_type": "code",
      "metadata": {
        "colab": {
          "base_uri": "https://localhost:8080/"
        },
        "id": "bDi8cCCAl722",
        "outputId": "c8cb0535-a491-4323-a420-4b0cf153d68b"
      },
      "source": [
        "# Datasets are uploaded to GoogleDrive and imported using GoogleDrive\n",
        "country_data = pd.read_csv(\"/content/drive/MyDrive/CE888 Data Science for Decision Making/Country-data.csv\")\n",
        "country_data.info()"
      ],
      "execution_count": 11,
      "outputs": [
        {
          "output_type": "stream",
          "text": [
            "<class 'pandas.core.frame.DataFrame'>\n",
            "RangeIndex: 167 entries, 0 to 166\n",
            "Data columns (total 10 columns):\n",
            " #   Column      Non-Null Count  Dtype  \n",
            "---  ------      --------------  -----  \n",
            " 0   country     167 non-null    object \n",
            " 1   child_mort  167 non-null    float64\n",
            " 2   exports     167 non-null    float64\n",
            " 3   health      167 non-null    float64\n",
            " 4   imports     167 non-null    float64\n",
            " 5   income      167 non-null    int64  \n",
            " 6   inflation   167 non-null    float64\n",
            " 7   life_expec  167 non-null    float64\n",
            " 8   total_fer   167 non-null    float64\n",
            " 9   gdpp        167 non-null    int64  \n",
            "dtypes: float64(7), int64(2), object(1)\n",
            "memory usage: 13.2+ KB\n"
          ],
          "name": "stdout"
        }
      ]
    },
    {
      "cell_type": "code",
      "metadata": {
        "colab": {
          "base_uri": "https://localhost:8080/",
          "height": 359
        },
        "id": "9TmPi8dRoZPy",
        "outputId": "cd45d52a-7734-474b-ef9c-7b3b96241597"
      },
      "source": [
        "df_dict = pd.read_csv(\"/content/drive/MyDrive/CE888 Data Science for Decision Making/data-dictionary.csv\")\n",
        "df_dict"
      ],
      "execution_count": 23,
      "outputs": [
        {
          "output_type": "execute_result",
          "data": {
            "text/html": [
              "<div>\n",
              "<style scoped>\n",
              "    .dataframe tbody tr th:only-of-type {\n",
              "        vertical-align: middle;\n",
              "    }\n",
              "\n",
              "    .dataframe tbody tr th {\n",
              "        vertical-align: top;\n",
              "    }\n",
              "\n",
              "    .dataframe thead th {\n",
              "        text-align: right;\n",
              "    }\n",
              "</style>\n",
              "<table border=\"1\" class=\"dataframe\">\n",
              "  <thead>\n",
              "    <tr style=\"text-align: right;\">\n",
              "      <th></th>\n",
              "      <th>Column Name</th>\n",
              "      <th>Description</th>\n",
              "    </tr>\n",
              "  </thead>\n",
              "  <tbody>\n",
              "    <tr>\n",
              "      <th>0</th>\n",
              "      <td>country</td>\n",
              "      <td>Name of the country</td>\n",
              "    </tr>\n",
              "    <tr>\n",
              "      <th>1</th>\n",
              "      <td>child_mort</td>\n",
              "      <td>Death of children under 5 years of age per 100...</td>\n",
              "    </tr>\n",
              "    <tr>\n",
              "      <th>2</th>\n",
              "      <td>exports</td>\n",
              "      <td>Exports of goods and services per capita. Give...</td>\n",
              "    </tr>\n",
              "    <tr>\n",
              "      <th>3</th>\n",
              "      <td>health</td>\n",
              "      <td>Total health spending per capita. Given as %ag...</td>\n",
              "    </tr>\n",
              "    <tr>\n",
              "      <th>4</th>\n",
              "      <td>imports</td>\n",
              "      <td>Imports of goods and services per capita. Give...</td>\n",
              "    </tr>\n",
              "    <tr>\n",
              "      <th>5</th>\n",
              "      <td>Income</td>\n",
              "      <td>Net income per person</td>\n",
              "    </tr>\n",
              "    <tr>\n",
              "      <th>6</th>\n",
              "      <td>Inflation</td>\n",
              "      <td>The measurement of the annual growth rate of t...</td>\n",
              "    </tr>\n",
              "    <tr>\n",
              "      <th>7</th>\n",
              "      <td>life_expec</td>\n",
              "      <td>The average number of years a new born child w...</td>\n",
              "    </tr>\n",
              "    <tr>\n",
              "      <th>8</th>\n",
              "      <td>total_fer</td>\n",
              "      <td>The number of children that would be born to e...</td>\n",
              "    </tr>\n",
              "    <tr>\n",
              "      <th>9</th>\n",
              "      <td>gdpp</td>\n",
              "      <td>The GDP per capita. Calculated as the Total GD...</td>\n",
              "    </tr>\n",
              "  </tbody>\n",
              "</table>\n",
              "</div>"
            ],
            "text/plain": [
              "  Column Name                                        Description\n",
              "0     country                                Name of the country\n",
              "1  child_mort  Death of children under 5 years of age per 100...\n",
              "2     exports  Exports of goods and services per capita. Give...\n",
              "3      health  Total health spending per capita. Given as %ag...\n",
              "4     imports  Imports of goods and services per capita. Give...\n",
              "5      Income                              Net income per person\n",
              "6   Inflation  The measurement of the annual growth rate of t...\n",
              "7  life_expec  The average number of years a new born child w...\n",
              "8   total_fer  The number of children that would be born to e...\n",
              "9        gdpp  The GDP per capita. Calculated as the Total GD..."
            ]
          },
          "metadata": {
            "tags": []
          },
          "execution_count": 23
        }
      ]
    },
    {
      "cell_type": "markdown",
      "metadata": {
        "id": "l_JFwpyAqiAh"
      },
      "source": [
        "## Which variables to use to cateogorize into 3 countries\n",
        "\n",
        "| S.No      | Categories |\n",
        "| ----------- | ----------- |\n",
        "| 1   | under-developing country |\n",
        "| 2   | developing country       |\n",
        "| 3   | developed country        |"
      ]
    },
    {
      "cell_type": "code",
      "metadata": {
        "id": "-H00O15ypi9z"
      },
      "source": [
        "from sklearn.cluster import KMeans\n",
        "\n",
        "X = country_data[['child_mort', 'exports', 'health', 'imports', 'income',\n",
        "                   'inflation', 'life_expec', 'total_fer', 'gdpp']]         #Extracting the variables\n",
        "\n",
        "from sklearn.preprocessing import StandardScaler\n",
        "sc = StandardScaler()\n",
        "X_std = sc.fit_transform(X)"
      ],
      "execution_count": 21,
      "outputs": []
    },
    {
      "cell_type": "markdown",
      "metadata": {
        "id": "JtktoX2cpgle"
      },
      "source": [
        "## Conduct K-Means Clustering"
      ]
    },
    {
      "cell_type": "code",
      "metadata": {
        "colab": {
          "base_uri": "https://localhost:8080/"
        },
        "id": "AFLSRyypp8o2",
        "outputId": "a767eda8-37d1-487d-ce78-37479758574f"
      },
      "source": [
        "# Set number of clusters to 3 (Set Random state for reproducability)\n",
        "km = KMeans(n_clusters=3, random_state=99).fit(X_std)\n",
        "km.labels_"
      ],
      "execution_count": 39,
      "outputs": [
        {
          "output_type": "execute_result",
          "data": {
            "text/plain": [
              "array([0, 2, 2, 0, 2, 2, 2, 1, 1, 2, 2, 1, 2, 2, 2, 1, 2, 0, 2, 2, 2, 0,\n",
              "       2, 1, 2, 0, 0, 2, 0, 1, 2, 0, 0, 2, 2, 2, 0, 0, 0, 2, 0, 2, 1, 1,\n",
              "       1, 2, 2, 2, 2, 0, 0, 2, 2, 1, 1, 0, 0, 2, 1, 0, 1, 2, 2, 0, 0, 2,\n",
              "       0, 2, 1, 2, 2, 2, 0, 1, 1, 1, 2, 1, 2, 2, 0, 0, 1, 2, 0, 2, 2, 0,\n",
              "       0, 2, 2, 1, 2, 0, 0, 2, 2, 0, 1, 0, 2, 2, 2, 2, 2, 2, 0, 2, 0, 2,\n",
              "       1, 1, 0, 0, 1, 2, 0, 2, 2, 2, 2, 2, 1, 1, 2, 2, 0, 2, 2, 0, 2, 2,\n",
              "       0, 1, 1, 1, 2, 0, 1, 1, 2, 2, 0, 2, 1, 1, 2, 0, 2, 0, 0, 2, 2, 2,\n",
              "       2, 0, 2, 1, 1, 1, 2, 2, 2, 2, 2, 0, 0], dtype=int32)"
            ]
          },
          "metadata": {
            "tags": []
          },
          "execution_count": 39
        }
      ]
    },
    {
      "cell_type": "code",
      "metadata": {
        "colab": {
          "base_uri": "https://localhost:8080/",
          "height": 419
        },
        "id": "d7kX4ldOqxvH",
        "outputId": "47391561-1991-4291-b1ce-3e2d781525a9"
      },
      "source": [
        "# Add Predicted Catogires column to the main dataset|\n",
        "country_data['Predicted Categories'] = km.labels_\n",
        "country_data"
      ],
      "execution_count": 36,
      "outputs": [
        {
          "output_type": "execute_result",
          "data": {
            "text/html": [
              "<div>\n",
              "<style scoped>\n",
              "    .dataframe tbody tr th:only-of-type {\n",
              "        vertical-align: middle;\n",
              "    }\n",
              "\n",
              "    .dataframe tbody tr th {\n",
              "        vertical-align: top;\n",
              "    }\n",
              "\n",
              "    .dataframe thead th {\n",
              "        text-align: right;\n",
              "    }\n",
              "</style>\n",
              "<table border=\"1\" class=\"dataframe\">\n",
              "  <thead>\n",
              "    <tr style=\"text-align: right;\">\n",
              "      <th></th>\n",
              "      <th>country</th>\n",
              "      <th>child_mort</th>\n",
              "      <th>exports</th>\n",
              "      <th>health</th>\n",
              "      <th>imports</th>\n",
              "      <th>income</th>\n",
              "      <th>inflation</th>\n",
              "      <th>life_expec</th>\n",
              "      <th>total_fer</th>\n",
              "      <th>gdpp</th>\n",
              "      <th>Predicted Categories</th>\n",
              "    </tr>\n",
              "  </thead>\n",
              "  <tbody>\n",
              "    <tr>\n",
              "      <th>0</th>\n",
              "      <td>Afghanistan</td>\n",
              "      <td>90.2</td>\n",
              "      <td>10.0</td>\n",
              "      <td>7.58</td>\n",
              "      <td>44.9</td>\n",
              "      <td>1610</td>\n",
              "      <td>9.44</td>\n",
              "      <td>56.2</td>\n",
              "      <td>5.82</td>\n",
              "      <td>553</td>\n",
              "      <td>0</td>\n",
              "    </tr>\n",
              "    <tr>\n",
              "      <th>1</th>\n",
              "      <td>Albania</td>\n",
              "      <td>16.6</td>\n",
              "      <td>28.0</td>\n",
              "      <td>6.55</td>\n",
              "      <td>48.6</td>\n",
              "      <td>9930</td>\n",
              "      <td>4.49</td>\n",
              "      <td>76.3</td>\n",
              "      <td>1.65</td>\n",
              "      <td>4090</td>\n",
              "      <td>2</td>\n",
              "    </tr>\n",
              "    <tr>\n",
              "      <th>2</th>\n",
              "      <td>Algeria</td>\n",
              "      <td>27.3</td>\n",
              "      <td>38.4</td>\n",
              "      <td>4.17</td>\n",
              "      <td>31.4</td>\n",
              "      <td>12900</td>\n",
              "      <td>16.10</td>\n",
              "      <td>76.5</td>\n",
              "      <td>2.89</td>\n",
              "      <td>4460</td>\n",
              "      <td>2</td>\n",
              "    </tr>\n",
              "    <tr>\n",
              "      <th>3</th>\n",
              "      <td>Angola</td>\n",
              "      <td>119.0</td>\n",
              "      <td>62.3</td>\n",
              "      <td>2.85</td>\n",
              "      <td>42.9</td>\n",
              "      <td>5900</td>\n",
              "      <td>22.40</td>\n",
              "      <td>60.1</td>\n",
              "      <td>6.16</td>\n",
              "      <td>3530</td>\n",
              "      <td>0</td>\n",
              "    </tr>\n",
              "    <tr>\n",
              "      <th>4</th>\n",
              "      <td>Antigua and Barbuda</td>\n",
              "      <td>10.3</td>\n",
              "      <td>45.5</td>\n",
              "      <td>6.03</td>\n",
              "      <td>58.9</td>\n",
              "      <td>19100</td>\n",
              "      <td>1.44</td>\n",
              "      <td>76.8</td>\n",
              "      <td>2.13</td>\n",
              "      <td>12200</td>\n",
              "      <td>2</td>\n",
              "    </tr>\n",
              "    <tr>\n",
              "      <th>...</th>\n",
              "      <td>...</td>\n",
              "      <td>...</td>\n",
              "      <td>...</td>\n",
              "      <td>...</td>\n",
              "      <td>...</td>\n",
              "      <td>...</td>\n",
              "      <td>...</td>\n",
              "      <td>...</td>\n",
              "      <td>...</td>\n",
              "      <td>...</td>\n",
              "      <td>...</td>\n",
              "    </tr>\n",
              "    <tr>\n",
              "      <th>162</th>\n",
              "      <td>Vanuatu</td>\n",
              "      <td>29.2</td>\n",
              "      <td>46.6</td>\n",
              "      <td>5.25</td>\n",
              "      <td>52.7</td>\n",
              "      <td>2950</td>\n",
              "      <td>2.62</td>\n",
              "      <td>63.0</td>\n",
              "      <td>3.50</td>\n",
              "      <td>2970</td>\n",
              "      <td>2</td>\n",
              "    </tr>\n",
              "    <tr>\n",
              "      <th>163</th>\n",
              "      <td>Venezuela</td>\n",
              "      <td>17.1</td>\n",
              "      <td>28.5</td>\n",
              "      <td>4.91</td>\n",
              "      <td>17.6</td>\n",
              "      <td>16500</td>\n",
              "      <td>45.90</td>\n",
              "      <td>75.4</td>\n",
              "      <td>2.47</td>\n",
              "      <td>13500</td>\n",
              "      <td>2</td>\n",
              "    </tr>\n",
              "    <tr>\n",
              "      <th>164</th>\n",
              "      <td>Vietnam</td>\n",
              "      <td>23.3</td>\n",
              "      <td>72.0</td>\n",
              "      <td>6.84</td>\n",
              "      <td>80.2</td>\n",
              "      <td>4490</td>\n",
              "      <td>12.10</td>\n",
              "      <td>73.1</td>\n",
              "      <td>1.95</td>\n",
              "      <td>1310</td>\n",
              "      <td>2</td>\n",
              "    </tr>\n",
              "    <tr>\n",
              "      <th>165</th>\n",
              "      <td>Yemen</td>\n",
              "      <td>56.3</td>\n",
              "      <td>30.0</td>\n",
              "      <td>5.18</td>\n",
              "      <td>34.4</td>\n",
              "      <td>4480</td>\n",
              "      <td>23.60</td>\n",
              "      <td>67.5</td>\n",
              "      <td>4.67</td>\n",
              "      <td>1310</td>\n",
              "      <td>0</td>\n",
              "    </tr>\n",
              "    <tr>\n",
              "      <th>166</th>\n",
              "      <td>Zambia</td>\n",
              "      <td>83.1</td>\n",
              "      <td>37.0</td>\n",
              "      <td>5.89</td>\n",
              "      <td>30.9</td>\n",
              "      <td>3280</td>\n",
              "      <td>14.00</td>\n",
              "      <td>52.0</td>\n",
              "      <td>5.40</td>\n",
              "      <td>1460</td>\n",
              "      <td>0</td>\n",
              "    </tr>\n",
              "  </tbody>\n",
              "</table>\n",
              "<p>167 rows × 11 columns</p>\n",
              "</div>"
            ],
            "text/plain": [
              "                 country  child_mort  ...   gdpp  Predicted Categories\n",
              "0            Afghanistan        90.2  ...    553                     0\n",
              "1                Albania        16.6  ...   4090                     2\n",
              "2                Algeria        27.3  ...   4460                     2\n",
              "3                 Angola       119.0  ...   3530                     0\n",
              "4    Antigua and Barbuda        10.3  ...  12200                     2\n",
              "..                   ...         ...  ...    ...                   ...\n",
              "162              Vanuatu        29.2  ...   2970                     2\n",
              "163            Venezuela        17.1  ...  13500                     2\n",
              "164              Vietnam        23.3  ...   1310                     2\n",
              "165                Yemen        56.3  ...   1310                     0\n",
              "166               Zambia        83.1  ...   1460                     0\n",
              "\n",
              "[167 rows x 11 columns]"
            ]
          },
          "metadata": {
            "tags": []
          },
          "execution_count": 36
        }
      ]
    },
    {
      "cell_type": "code",
      "metadata": {
        "colab": {
          "base_uri": "https://localhost:8080/",
          "height": 419
        },
        "id": "mJbqcc0QshW4",
        "outputId": "0d85beff-ae8a-4406-89d2-877d8fb3a63c"
      },
      "source": [
        "def clustering(column_list, col_name):\n",
        "  column_list = country_data[column_list]\n",
        "  from sklearn.preprocessing import StandardScaler\n",
        "  sc = StandardScaler()\n",
        "  X_std = sc.fit_transform(column_list)\n",
        "  km = KMeans(n_clusters=3, random_state=99).fit(X_std)\n",
        "  km.labels_\n",
        "  country_data[col_name] = km.labels_\n",
        "  return country_data\n",
        "\n",
        "econ_factor = ['exports', 'imports', 'income', 'inflation', 'gdpp']\n",
        "non_econ_factor = ['child_mort', 'health', 'life_expec', 'total_fer']\n",
        "\n",
        "clustering(econ_factor, ['econ_factor'])\n",
        "clustering(non_econ_factor, ['non_econ_factor'])"
      ],
      "execution_count": 76,
      "outputs": [
        {
          "output_type": "execute_result",
          "data": {
            "text/html": [
              "<div>\n",
              "<style scoped>\n",
              "    .dataframe tbody tr th:only-of-type {\n",
              "        vertical-align: middle;\n",
              "    }\n",
              "\n",
              "    .dataframe tbody tr th {\n",
              "        vertical-align: top;\n",
              "    }\n",
              "\n",
              "    .dataframe thead th {\n",
              "        text-align: right;\n",
              "    }\n",
              "</style>\n",
              "<table border=\"1\" class=\"dataframe\">\n",
              "  <thead>\n",
              "    <tr style=\"text-align: right;\">\n",
              "      <th></th>\n",
              "      <th>country</th>\n",
              "      <th>child_mort</th>\n",
              "      <th>exports</th>\n",
              "      <th>health</th>\n",
              "      <th>imports</th>\n",
              "      <th>income</th>\n",
              "      <th>inflation</th>\n",
              "      <th>life_expec</th>\n",
              "      <th>total_fer</th>\n",
              "      <th>gdpp</th>\n",
              "      <th>Predicted Categories</th>\n",
              "      <th>non_econ_factor</th>\n",
              "      <th>econ_factor</th>\n",
              "    </tr>\n",
              "  </thead>\n",
              "  <tbody>\n",
              "    <tr>\n",
              "      <th>0</th>\n",
              "      <td>Afghanistan</td>\n",
              "      <td>90.2</td>\n",
              "      <td>10.0</td>\n",
              "      <td>7.58</td>\n",
              "      <td>44.9</td>\n",
              "      <td>1610</td>\n",
              "      <td>9.44</td>\n",
              "      <td>56.2</td>\n",
              "      <td>5.82</td>\n",
              "      <td>553</td>\n",
              "      <td>0</td>\n",
              "      <td>1</td>\n",
              "      <td>0</td>\n",
              "    </tr>\n",
              "    <tr>\n",
              "      <th>1</th>\n",
              "      <td>Albania</td>\n",
              "      <td>16.6</td>\n",
              "      <td>28.0</td>\n",
              "      <td>6.55</td>\n",
              "      <td>48.6</td>\n",
              "      <td>9930</td>\n",
              "      <td>4.49</td>\n",
              "      <td>76.3</td>\n",
              "      <td>1.65</td>\n",
              "      <td>4090</td>\n",
              "      <td>2</td>\n",
              "      <td>2</td>\n",
              "      <td>0</td>\n",
              "    </tr>\n",
              "    <tr>\n",
              "      <th>2</th>\n",
              "      <td>Algeria</td>\n",
              "      <td>27.3</td>\n",
              "      <td>38.4</td>\n",
              "      <td>4.17</td>\n",
              "      <td>31.4</td>\n",
              "      <td>12900</td>\n",
              "      <td>16.10</td>\n",
              "      <td>76.5</td>\n",
              "      <td>2.89</td>\n",
              "      <td>4460</td>\n",
              "      <td>2</td>\n",
              "      <td>2</td>\n",
              "      <td>0</td>\n",
              "    </tr>\n",
              "    <tr>\n",
              "      <th>3</th>\n",
              "      <td>Angola</td>\n",
              "      <td>119.0</td>\n",
              "      <td>62.3</td>\n",
              "      <td>2.85</td>\n",
              "      <td>42.9</td>\n",
              "      <td>5900</td>\n",
              "      <td>22.40</td>\n",
              "      <td>60.1</td>\n",
              "      <td>6.16</td>\n",
              "      <td>3530</td>\n",
              "      <td>0</td>\n",
              "      <td>1</td>\n",
              "      <td>0</td>\n",
              "    </tr>\n",
              "    <tr>\n",
              "      <th>4</th>\n",
              "      <td>Antigua and Barbuda</td>\n",
              "      <td>10.3</td>\n",
              "      <td>45.5</td>\n",
              "      <td>6.03</td>\n",
              "      <td>58.9</td>\n",
              "      <td>19100</td>\n",
              "      <td>1.44</td>\n",
              "      <td>76.8</td>\n",
              "      <td>2.13</td>\n",
              "      <td>12200</td>\n",
              "      <td>2</td>\n",
              "      <td>2</td>\n",
              "      <td>0</td>\n",
              "    </tr>\n",
              "    <tr>\n",
              "      <th>...</th>\n",
              "      <td>...</td>\n",
              "      <td>...</td>\n",
              "      <td>...</td>\n",
              "      <td>...</td>\n",
              "      <td>...</td>\n",
              "      <td>...</td>\n",
              "      <td>...</td>\n",
              "      <td>...</td>\n",
              "      <td>...</td>\n",
              "      <td>...</td>\n",
              "      <td>...</td>\n",
              "      <td>...</td>\n",
              "      <td>...</td>\n",
              "    </tr>\n",
              "    <tr>\n",
              "      <th>162</th>\n",
              "      <td>Vanuatu</td>\n",
              "      <td>29.2</td>\n",
              "      <td>46.6</td>\n",
              "      <td>5.25</td>\n",
              "      <td>52.7</td>\n",
              "      <td>2950</td>\n",
              "      <td>2.62</td>\n",
              "      <td>63.0</td>\n",
              "      <td>3.50</td>\n",
              "      <td>2970</td>\n",
              "      <td>2</td>\n",
              "      <td>2</td>\n",
              "      <td>0</td>\n",
              "    </tr>\n",
              "    <tr>\n",
              "      <th>163</th>\n",
              "      <td>Venezuela</td>\n",
              "      <td>17.1</td>\n",
              "      <td>28.5</td>\n",
              "      <td>4.91</td>\n",
              "      <td>17.6</td>\n",
              "      <td>16500</td>\n",
              "      <td>45.90</td>\n",
              "      <td>75.4</td>\n",
              "      <td>2.47</td>\n",
              "      <td>13500</td>\n",
              "      <td>2</td>\n",
              "      <td>2</td>\n",
              "      <td>0</td>\n",
              "    </tr>\n",
              "    <tr>\n",
              "      <th>164</th>\n",
              "      <td>Vietnam</td>\n",
              "      <td>23.3</td>\n",
              "      <td>72.0</td>\n",
              "      <td>6.84</td>\n",
              "      <td>80.2</td>\n",
              "      <td>4490</td>\n",
              "      <td>12.10</td>\n",
              "      <td>73.1</td>\n",
              "      <td>1.95</td>\n",
              "      <td>1310</td>\n",
              "      <td>2</td>\n",
              "      <td>2</td>\n",
              "      <td>0</td>\n",
              "    </tr>\n",
              "    <tr>\n",
              "      <th>165</th>\n",
              "      <td>Yemen</td>\n",
              "      <td>56.3</td>\n",
              "      <td>30.0</td>\n",
              "      <td>5.18</td>\n",
              "      <td>34.4</td>\n",
              "      <td>4480</td>\n",
              "      <td>23.60</td>\n",
              "      <td>67.5</td>\n",
              "      <td>4.67</td>\n",
              "      <td>1310</td>\n",
              "      <td>0</td>\n",
              "      <td>1</td>\n",
              "      <td>0</td>\n",
              "    </tr>\n",
              "    <tr>\n",
              "      <th>166</th>\n",
              "      <td>Zambia</td>\n",
              "      <td>83.1</td>\n",
              "      <td>37.0</td>\n",
              "      <td>5.89</td>\n",
              "      <td>30.9</td>\n",
              "      <td>3280</td>\n",
              "      <td>14.00</td>\n",
              "      <td>52.0</td>\n",
              "      <td>5.40</td>\n",
              "      <td>1460</td>\n",
              "      <td>0</td>\n",
              "      <td>1</td>\n",
              "      <td>0</td>\n",
              "    </tr>\n",
              "  </tbody>\n",
              "</table>\n",
              "<p>167 rows × 13 columns</p>\n",
              "</div>"
            ],
            "text/plain": [
              "                 country  child_mort  ...  non_econ_factor  econ_factor\n",
              "0            Afghanistan        90.2  ...                1            0\n",
              "1                Albania        16.6  ...                2            0\n",
              "2                Algeria        27.3  ...                2            0\n",
              "3                 Angola       119.0  ...                1            0\n",
              "4    Antigua and Barbuda        10.3  ...                2            0\n",
              "..                   ...         ...  ...              ...          ...\n",
              "162              Vanuatu        29.2  ...                2            0\n",
              "163            Venezuela        17.1  ...                2            0\n",
              "164              Vietnam        23.3  ...                2            0\n",
              "165                Yemen        56.3  ...                1            0\n",
              "166               Zambia        83.1  ...                1            0\n",
              "\n",
              "[167 rows x 13 columns]"
            ]
          },
          "metadata": {
            "tags": []
          },
          "execution_count": 76
        }
      ]
    },
    {
      "cell_type": "code",
      "metadata": {
        "colab": {
          "base_uri": "https://localhost:8080/"
        },
        "id": "A1ZXphgsw1Lm",
        "outputId": "980db6cb-4bfd-420a-b6c0-65712f22c8b1"
      },
      "source": [
        "country_data['Predicted Categories'].value_counts()"
      ],
      "execution_count": 83,
      "outputs": [
        {
          "output_type": "execute_result",
          "data": {
            "text/plain": [
              "2    84\n",
              "0    47\n",
              "1    36\n",
              "Name: Predicted Categories, dtype: int64"
            ]
          },
          "metadata": {
            "tags": []
          },
          "execution_count": 83
        }
      ]
    },
    {
      "cell_type": "code",
      "metadata": {
        "colab": {
          "base_uri": "https://localhost:8080/"
        },
        "id": "fwYURppKwyFw",
        "outputId": "d200b59f-72ba-4d94-dd5a-0f3244aae847"
      },
      "source": [
        "country_data['non_econ_factor'].value_counts()"
      ],
      "execution_count": 82,
      "outputs": [
        {
          "output_type": "execute_result",
          "data": {
            "text/plain": [
              "2    68\n",
              "0    51\n",
              "1    48\n",
              "Name: non_econ_factor, dtype: int64"
            ]
          },
          "metadata": {
            "tags": []
          },
          "execution_count": 82
        }
      ]
    },
    {
      "cell_type": "code",
      "metadata": {
        "colab": {
          "base_uri": "https://localhost:8080/"
        },
        "id": "naK59Xnmwf5N",
        "outputId": "acc760d7-e369-4226-feab-15b8f08612e9"
      },
      "source": [
        "country_data['econ_factor'].value_counts()"
      ],
      "execution_count": 80,
      "outputs": [
        {
          "output_type": "execute_result",
          "data": {
            "text/plain": [
              "0    124\n",
              "1     40\n",
              "2      3\n",
              "Name: econ_factor, dtype: int64"
            ]
          },
          "metadata": {
            "tags": []
          },
          "execution_count": 80
        }
      ]
    },
    {
      "cell_type": "code",
      "metadata": {
        "colab": {
          "base_uri": "https://localhost:8080/"
        },
        "id": "9TUhQtZfrjKZ",
        "outputId": "3b5f5891-3ef4-435e-ce31-01217ec4fc97"
      },
      "source": [
        "for i in range(3):\n",
        "    print(\"Cluster:\", i)\n",
        "    print(\"The Members:\", ' | '.join(list(country_data[country_data['Predicted Categories'] == i]['country'].values)))\n",
        "    print(\"Total Members:\", len(list(country_data[country_data['Predicted Categories'] == i]['country'].values)))\n",
        "    print()"
      ],
      "execution_count": 85,
      "outputs": [
        {
          "output_type": "stream",
          "text": [
            "Cluster: 0\n",
            "The Members: Afghanistan | Angola | Benin | Botswana | Burkina Faso | Burundi | Cameroon | Central African Republic | Chad | Comoros | Congo, Dem. Rep. | Congo, Rep. | Cote d'Ivoire | Equatorial Guinea | Eritrea | Gabon | Gambia | Ghana | Guinea | Guinea-Bissau | Haiti | Iraq | Kenya | Kiribati | Lao | Lesotho | Liberia | Madagascar | Malawi | Mali | Mauritania | Mozambique | Namibia | Niger | Nigeria | Pakistan | Rwanda | Senegal | Sierra Leone | South Africa | Sudan | Tanzania | Timor-Leste | Togo | Uganda | Yemen | Zambia\n",
            "Total Members: 47\n",
            "\n",
            "Cluster: 1\n",
            "The Members: Australia | Austria | Bahrain | Belgium | Brunei | Canada | Cyprus | Czech Republic | Denmark | Finland | France | Germany | Greece | Iceland | Ireland | Israel | Italy | Japan | Kuwait | Luxembourg | Malta | Netherlands | New Zealand | Norway | Portugal | Qatar | Singapore | Slovak Republic | Slovenia | South Korea | Spain | Sweden | Switzerland | United Arab Emirates | United Kingdom | United States\n",
            "Total Members: 36\n",
            "\n",
            "Cluster: 2\n",
            "The Members: Albania | Algeria | Antigua and Barbuda | Argentina | Armenia | Azerbaijan | Bahamas | Bangladesh | Barbados | Belarus | Belize | Bhutan | Bolivia | Bosnia and Herzegovina | Brazil | Bulgaria | Cambodia | Cape Verde | Chile | China | Colombia | Costa Rica | Croatia | Dominican Republic | Ecuador | Egypt | El Salvador | Estonia | Fiji | Georgia | Grenada | Guatemala | Guyana | Hungary | India | Indonesia | Iran | Jamaica | Jordan | Kazakhstan | Kyrgyz Republic | Latvia | Lebanon | Libya | Lithuania | Macedonia, FYR | Malaysia | Maldives | Mauritius | Micronesia, Fed. Sts. | Moldova | Mongolia | Montenegro | Morocco | Myanmar | Nepal | Oman | Panama | Paraguay | Peru | Philippines | Poland | Romania | Russia | Samoa | Saudi Arabia | Serbia | Seychelles | Solomon Islands | Sri Lanka | St. Vincent and the Grenadines | Suriname | Tajikistan | Thailand | Tonga | Tunisia | Turkey | Turkmenistan | Ukraine | Uruguay | Uzbekistan | Vanuatu | Venezuela | Vietnam\n",
            "Total Members: 84\n",
            "\n"
          ],
          "name": "stdout"
        }
      ]
    },
    {
      "cell_type": "markdown",
      "metadata": {
        "id": "CjfiJMzaxi0P"
      },
      "source": [
        "## Analysis\n",
        "Conclusion\n",
        "Cluster 0: developing country. Compared to data from Cluster 1 and Cluster 2, countries in Cluster 0 are relatively evenly distributed across all data.\n",
        "\n",
        "Cluster 1: developed country. Compared to data from Cluster 0 and Cluster 2, countries in Cluster 1 have relatively high average exports, health, income, life_expec and gdpp data, while average child_mort, inflation and total_fer are relatively low.\n",
        "\n",
        "Cluster 2: under-developing country. The situation is the opposite of Cluster 1."
      ]
    }
  ]
}