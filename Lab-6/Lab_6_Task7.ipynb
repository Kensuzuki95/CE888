{
  "nbformat": 4,
  "nbformat_minor": 0,
  "metadata": {
    "colab": {
      "name": "Lab_6_Task7.ipynb",
      "provenance": [],
      "collapsed_sections": [],
      "toc_visible": true,
      "mount_file_id": "1-h_lPV2HIRJB5aGNzHCNaS9ubMQ6PZcN",
      "authorship_tag": "ABX9TyNVn8pMjzrGlrsh6z8+LXXI",
      "include_colab_link": true
    },
    "kernelspec": {
      "name": "python3",
      "display_name": "Python 3"
    },
    "language_info": {
      "name": "python"
    }
  },
  "cells": [
    {
      "cell_type": "markdown",
      "metadata": {
        "id": "view-in-github",
        "colab_type": "text"
      },
      "source": [
        "<a href=\"https://colab.research.google.com/github/Kensuzuki95/CE888/blob/main/Lab-6/Lab_6_Task7.ipynb\" target=\"_parent\"><img src=\"https://colab.research.google.com/assets/colab-badge.svg\" alt=\"Open In Colab\"/></a>"
      ]
    },
    {
      "cell_type": "markdown",
      "metadata": {
        "id": "FHww_hXdsVb_"
      },
      "source": [
        "# Lab 6:\n",
        "\n",
        "## Task 7: To complete this task, please create a new notebook in Google Colab. \n",
        "\n",
        "Note: Please create a new notebook for this task.\n",
        "\n",
        "Your data is stored in Lab_6/Data folder. There are two .csv files: 1) Country-data.csv and 2) data-dictionary.csv. Please explore the data and use any clustering method to find the list of countries, which can categorised as follows:\n",
        "\n",
        "| S.No      | Categories |\n",
        "| ----------- | ----------- |\n",
        "| 1   | under-developing country |\n",
        "| 2   | developing country       |\n",
        "| 3   | developed country        |\n",
        "\n",
        "\n",
        "Note: please justify your reason, why and how you have concluded your answer. "
      ]
    },
    {
      "cell_type": "markdown",
      "metadata": {
        "id": "tJeSw_Cll8-P"
      },
      "source": [
        "## Laod Necesarry Libraries"
      ]
    },
    {
      "cell_type": "code",
      "metadata": {
        "id": "ow9KaLn7lpQA"
      },
      "source": [
        "import numpy as np\n",
        "import pandas as pd\n",
        "import seaborn as sns\n",
        "import matplotlib.pyplot as plt \n",
        "from sklearn import cluster, datasets, metrics\n",
        "from sklearn.preprocessing import StandardScaler"
      ],
      "execution_count": 1,
      "outputs": []
    },
    {
      "cell_type": "markdown",
      "metadata": {
        "id": "7X9t9oN4mM-6"
      },
      "source": [
        "## Load the Datasets"
      ]
    },
    {
      "cell_type": "code",
      "metadata": {
        "colab": {
          "base_uri": "https://localhost:8080/"
        },
        "id": "bDi8cCCAl722",
        "outputId": "309ccdee-b4b3-440a-c4bf-7d18060853be"
      },
      "source": [
        "# Datasets are uploaded to GoogleDrive and imported using GoogleDrive\n",
        "country_data = pd.read_csv(\"/content/drive/MyDrive/CE888 Data Science for Decision Making/Country-data.csv\")\n",
        "country_data.info()"
      ],
      "execution_count": 2,
      "outputs": [
        {
          "output_type": "stream",
          "text": [
            "<class 'pandas.core.frame.DataFrame'>\n",
            "RangeIndex: 167 entries, 0 to 166\n",
            "Data columns (total 10 columns):\n",
            " #   Column      Non-Null Count  Dtype  \n",
            "---  ------      --------------  -----  \n",
            " 0   country     167 non-null    object \n",
            " 1   child_mort  167 non-null    float64\n",
            " 2   exports     167 non-null    float64\n",
            " 3   health      167 non-null    float64\n",
            " 4   imports     167 non-null    float64\n",
            " 5   income      167 non-null    int64  \n",
            " 6   inflation   167 non-null    float64\n",
            " 7   life_expec  167 non-null    float64\n",
            " 8   total_fer   167 non-null    float64\n",
            " 9   gdpp        167 non-null    int64  \n",
            "dtypes: float64(7), int64(2), object(1)\n",
            "memory usage: 13.2+ KB\n"
          ],
          "name": "stdout"
        }
      ]
    },
    {
      "cell_type": "code",
      "metadata": {
        "colab": {
          "base_uri": "https://localhost:8080/",
          "height": 359
        },
        "id": "9TmPi8dRoZPy",
        "outputId": "a4b5aa90-59c4-44c1-dc36-064e5f110438"
      },
      "source": [
        "df_dict = pd.read_csv(\"/content/drive/MyDrive/CE888 Data Science for Decision Making/data-dictionary.csv\")\n",
        "df_dict"
      ],
      "execution_count": 3,
      "outputs": [
        {
          "output_type": "execute_result",
          "data": {
            "text/html": [
              "<div>\n",
              "<style scoped>\n",
              "    .dataframe tbody tr th:only-of-type {\n",
              "        vertical-align: middle;\n",
              "    }\n",
              "\n",
              "    .dataframe tbody tr th {\n",
              "        vertical-align: top;\n",
              "    }\n",
              "\n",
              "    .dataframe thead th {\n",
              "        text-align: right;\n",
              "    }\n",
              "</style>\n",
              "<table border=\"1\" class=\"dataframe\">\n",
              "  <thead>\n",
              "    <tr style=\"text-align: right;\">\n",
              "      <th></th>\n",
              "      <th>Column Name</th>\n",
              "      <th>Description</th>\n",
              "    </tr>\n",
              "  </thead>\n",
              "  <tbody>\n",
              "    <tr>\n",
              "      <th>0</th>\n",
              "      <td>country</td>\n",
              "      <td>Name of the country</td>\n",
              "    </tr>\n",
              "    <tr>\n",
              "      <th>1</th>\n",
              "      <td>child_mort</td>\n",
              "      <td>Death of children under 5 years of age per 100...</td>\n",
              "    </tr>\n",
              "    <tr>\n",
              "      <th>2</th>\n",
              "      <td>exports</td>\n",
              "      <td>Exports of goods and services per capita. Give...</td>\n",
              "    </tr>\n",
              "    <tr>\n",
              "      <th>3</th>\n",
              "      <td>health</td>\n",
              "      <td>Total health spending per capita. Given as %ag...</td>\n",
              "    </tr>\n",
              "    <tr>\n",
              "      <th>4</th>\n",
              "      <td>imports</td>\n",
              "      <td>Imports of goods and services per capita. Give...</td>\n",
              "    </tr>\n",
              "    <tr>\n",
              "      <th>5</th>\n",
              "      <td>Income</td>\n",
              "      <td>Net income per person</td>\n",
              "    </tr>\n",
              "    <tr>\n",
              "      <th>6</th>\n",
              "      <td>Inflation</td>\n",
              "      <td>The measurement of the annual growth rate of t...</td>\n",
              "    </tr>\n",
              "    <tr>\n",
              "      <th>7</th>\n",
              "      <td>life_expec</td>\n",
              "      <td>The average number of years a new born child w...</td>\n",
              "    </tr>\n",
              "    <tr>\n",
              "      <th>8</th>\n",
              "      <td>total_fer</td>\n",
              "      <td>The number of children that would be born to e...</td>\n",
              "    </tr>\n",
              "    <tr>\n",
              "      <th>9</th>\n",
              "      <td>gdpp</td>\n",
              "      <td>The GDP per capita. Calculated as the Total GD...</td>\n",
              "    </tr>\n",
              "  </tbody>\n",
              "</table>\n",
              "</div>"
            ],
            "text/plain": [
              "  Column Name                                        Description\n",
              "0     country                                Name of the country\n",
              "1  child_mort  Death of children under 5 years of age per 100...\n",
              "2     exports  Exports of goods and services per capita. Give...\n",
              "3      health  Total health spending per capita. Given as %ag...\n",
              "4     imports  Imports of goods and services per capita. Give...\n",
              "5      Income                              Net income per person\n",
              "6   Inflation  The measurement of the annual growth rate of t...\n",
              "7  life_expec  The average number of years a new born child w...\n",
              "8   total_fer  The number of children that would be born to e...\n",
              "9        gdpp  The GDP per capita. Calculated as the Total GD..."
            ]
          },
          "metadata": {
            "tags": []
          },
          "execution_count": 3
        }
      ]
    },
    {
      "cell_type": "markdown",
      "metadata": {
        "id": "l_JFwpyAqiAh"
      },
      "source": [
        "## Which variables to use to cateogorize into 3 countries\n",
        "\n",
        "| S.No      | Categories |\n",
        "| ----------- | ----------- |\n",
        "| 1   | under-developing country |\n",
        "| 2   | developing country       |\n",
        "| 3   | developed country        |"
      ]
    },
    {
      "cell_type": "code",
      "metadata": {
        "id": "-H00O15ypi9z"
      },
      "source": [
        "from sklearn.cluster import KMeans\n",
        "\n",
        "X = country_data[['child_mort', 'exports', 'health', 'imports', 'income',\n",
        "                   'inflation', 'life_expec', 'total_fer', 'gdpp']]         #Extracting the variables\n",
        "\n",
        "from sklearn.preprocessing import StandardScaler\n",
        "sc = StandardScaler()\n",
        "X_std = sc.fit_transform(X)"
      ],
      "execution_count": 4,
      "outputs": []
    },
    {
      "cell_type": "markdown",
      "metadata": {
        "id": "JtktoX2cpgle"
      },
      "source": [
        "## Conduct K-Means Clustering"
      ]
    },
    {
      "cell_type": "code",
      "metadata": {
        "colab": {
          "base_uri": "https://localhost:8080/"
        },
        "id": "AFLSRyypp8o2",
        "outputId": "3c592d74-3bd6-42d2-926f-8c405ff2aa5a"
      },
      "source": [
        "# Set number of clusters to 3 (Set Random state for reproducability)\n",
        "km = KMeans(n_clusters=3, random_state=99).fit(X_std)\n",
        "km.labels_"
      ],
      "execution_count": 5,
      "outputs": [
        {
          "output_type": "execute_result",
          "data": {
            "text/plain": [
              "array([0, 2, 2, 0, 2, 2, 2, 1, 1, 2, 2, 1, 2, 2, 2, 1, 2, 0, 2, 2, 2, 0,\n",
              "       2, 1, 2, 0, 0, 2, 0, 1, 2, 0, 0, 2, 2, 2, 0, 0, 0, 2, 0, 2, 1, 1,\n",
              "       1, 2, 2, 2, 2, 0, 0, 2, 2, 1, 1, 0, 0, 2, 1, 0, 1, 2, 2, 0, 0, 2,\n",
              "       0, 2, 1, 2, 2, 2, 0, 1, 1, 1, 2, 1, 2, 2, 0, 0, 1, 2, 0, 2, 2, 0,\n",
              "       0, 2, 2, 1, 2, 0, 0, 2, 2, 0, 1, 0, 2, 2, 2, 2, 2, 2, 0, 2, 0, 2,\n",
              "       1, 1, 0, 0, 1, 2, 0, 2, 2, 2, 2, 2, 1, 1, 2, 2, 0, 2, 2, 0, 2, 2,\n",
              "       0, 1, 1, 1, 2, 0, 1, 1, 2, 2, 0, 2, 1, 1, 2, 0, 2, 0, 0, 2, 2, 2,\n",
              "       2, 0, 2, 1, 1, 1, 2, 2, 2, 2, 2, 0, 0], dtype=int32)"
            ]
          },
          "metadata": {
            "tags": []
          },
          "execution_count": 5
        }
      ]
    },
    {
      "cell_type": "code",
      "metadata": {
        "colab": {
          "base_uri": "https://localhost:8080/",
          "height": 419
        },
        "id": "d7kX4ldOqxvH",
        "outputId": "411aeed0-d51b-4fb8-ee6b-b68c3ae6fc1f"
      },
      "source": [
        "# Add Predicted Catogires column to the main dataset|\n",
        "country_data['Predicted Categories'] = km.labels_\n",
        "country_data"
      ],
      "execution_count": 6,
      "outputs": [
        {
          "output_type": "execute_result",
          "data": {
            "text/html": [
              "<div>\n",
              "<style scoped>\n",
              "    .dataframe tbody tr th:only-of-type {\n",
              "        vertical-align: middle;\n",
              "    }\n",
              "\n",
              "    .dataframe tbody tr th {\n",
              "        vertical-align: top;\n",
              "    }\n",
              "\n",
              "    .dataframe thead th {\n",
              "        text-align: right;\n",
              "    }\n",
              "</style>\n",
              "<table border=\"1\" class=\"dataframe\">\n",
              "  <thead>\n",
              "    <tr style=\"text-align: right;\">\n",
              "      <th></th>\n",
              "      <th>country</th>\n",
              "      <th>child_mort</th>\n",
              "      <th>exports</th>\n",
              "      <th>health</th>\n",
              "      <th>imports</th>\n",
              "      <th>income</th>\n",
              "      <th>inflation</th>\n",
              "      <th>life_expec</th>\n",
              "      <th>total_fer</th>\n",
              "      <th>gdpp</th>\n",
              "      <th>Predicted Categories</th>\n",
              "    </tr>\n",
              "  </thead>\n",
              "  <tbody>\n",
              "    <tr>\n",
              "      <th>0</th>\n",
              "      <td>Afghanistan</td>\n",
              "      <td>90.2</td>\n",
              "      <td>10.0</td>\n",
              "      <td>7.58</td>\n",
              "      <td>44.9</td>\n",
              "      <td>1610</td>\n",
              "      <td>9.44</td>\n",
              "      <td>56.2</td>\n",
              "      <td>5.82</td>\n",
              "      <td>553</td>\n",
              "      <td>0</td>\n",
              "    </tr>\n",
              "    <tr>\n",
              "      <th>1</th>\n",
              "      <td>Albania</td>\n",
              "      <td>16.6</td>\n",
              "      <td>28.0</td>\n",
              "      <td>6.55</td>\n",
              "      <td>48.6</td>\n",
              "      <td>9930</td>\n",
              "      <td>4.49</td>\n",
              "      <td>76.3</td>\n",
              "      <td>1.65</td>\n",
              "      <td>4090</td>\n",
              "      <td>2</td>\n",
              "    </tr>\n",
              "    <tr>\n",
              "      <th>2</th>\n",
              "      <td>Algeria</td>\n",
              "      <td>27.3</td>\n",
              "      <td>38.4</td>\n",
              "      <td>4.17</td>\n",
              "      <td>31.4</td>\n",
              "      <td>12900</td>\n",
              "      <td>16.10</td>\n",
              "      <td>76.5</td>\n",
              "      <td>2.89</td>\n",
              "      <td>4460</td>\n",
              "      <td>2</td>\n",
              "    </tr>\n",
              "    <tr>\n",
              "      <th>3</th>\n",
              "      <td>Angola</td>\n",
              "      <td>119.0</td>\n",
              "      <td>62.3</td>\n",
              "      <td>2.85</td>\n",
              "      <td>42.9</td>\n",
              "      <td>5900</td>\n",
              "      <td>22.40</td>\n",
              "      <td>60.1</td>\n",
              "      <td>6.16</td>\n",
              "      <td>3530</td>\n",
              "      <td>0</td>\n",
              "    </tr>\n",
              "    <tr>\n",
              "      <th>4</th>\n",
              "      <td>Antigua and Barbuda</td>\n",
              "      <td>10.3</td>\n",
              "      <td>45.5</td>\n",
              "      <td>6.03</td>\n",
              "      <td>58.9</td>\n",
              "      <td>19100</td>\n",
              "      <td>1.44</td>\n",
              "      <td>76.8</td>\n",
              "      <td>2.13</td>\n",
              "      <td>12200</td>\n",
              "      <td>2</td>\n",
              "    </tr>\n",
              "    <tr>\n",
              "      <th>...</th>\n",
              "      <td>...</td>\n",
              "      <td>...</td>\n",
              "      <td>...</td>\n",
              "      <td>...</td>\n",
              "      <td>...</td>\n",
              "      <td>...</td>\n",
              "      <td>...</td>\n",
              "      <td>...</td>\n",
              "      <td>...</td>\n",
              "      <td>...</td>\n",
              "      <td>...</td>\n",
              "    </tr>\n",
              "    <tr>\n",
              "      <th>162</th>\n",
              "      <td>Vanuatu</td>\n",
              "      <td>29.2</td>\n",
              "      <td>46.6</td>\n",
              "      <td>5.25</td>\n",
              "      <td>52.7</td>\n",
              "      <td>2950</td>\n",
              "      <td>2.62</td>\n",
              "      <td>63.0</td>\n",
              "      <td>3.50</td>\n",
              "      <td>2970</td>\n",
              "      <td>2</td>\n",
              "    </tr>\n",
              "    <tr>\n",
              "      <th>163</th>\n",
              "      <td>Venezuela</td>\n",
              "      <td>17.1</td>\n",
              "      <td>28.5</td>\n",
              "      <td>4.91</td>\n",
              "      <td>17.6</td>\n",
              "      <td>16500</td>\n",
              "      <td>45.90</td>\n",
              "      <td>75.4</td>\n",
              "      <td>2.47</td>\n",
              "      <td>13500</td>\n",
              "      <td>2</td>\n",
              "    </tr>\n",
              "    <tr>\n",
              "      <th>164</th>\n",
              "      <td>Vietnam</td>\n",
              "      <td>23.3</td>\n",
              "      <td>72.0</td>\n",
              "      <td>6.84</td>\n",
              "      <td>80.2</td>\n",
              "      <td>4490</td>\n",
              "      <td>12.10</td>\n",
              "      <td>73.1</td>\n",
              "      <td>1.95</td>\n",
              "      <td>1310</td>\n",
              "      <td>2</td>\n",
              "    </tr>\n",
              "    <tr>\n",
              "      <th>165</th>\n",
              "      <td>Yemen</td>\n",
              "      <td>56.3</td>\n",
              "      <td>30.0</td>\n",
              "      <td>5.18</td>\n",
              "      <td>34.4</td>\n",
              "      <td>4480</td>\n",
              "      <td>23.60</td>\n",
              "      <td>67.5</td>\n",
              "      <td>4.67</td>\n",
              "      <td>1310</td>\n",
              "      <td>0</td>\n",
              "    </tr>\n",
              "    <tr>\n",
              "      <th>166</th>\n",
              "      <td>Zambia</td>\n",
              "      <td>83.1</td>\n",
              "      <td>37.0</td>\n",
              "      <td>5.89</td>\n",
              "      <td>30.9</td>\n",
              "      <td>3280</td>\n",
              "      <td>14.00</td>\n",
              "      <td>52.0</td>\n",
              "      <td>5.40</td>\n",
              "      <td>1460</td>\n",
              "      <td>0</td>\n",
              "    </tr>\n",
              "  </tbody>\n",
              "</table>\n",
              "<p>167 rows × 11 columns</p>\n",
              "</div>"
            ],
            "text/plain": [
              "                 country  child_mort  ...   gdpp  Predicted Categories\n",
              "0            Afghanistan        90.2  ...    553                     0\n",
              "1                Albania        16.6  ...   4090                     2\n",
              "2                Algeria        27.3  ...   4460                     2\n",
              "3                 Angola       119.0  ...   3530                     0\n",
              "4    Antigua and Barbuda        10.3  ...  12200                     2\n",
              "..                   ...         ...  ...    ...                   ...\n",
              "162              Vanuatu        29.2  ...   2970                     2\n",
              "163            Venezuela        17.1  ...  13500                     2\n",
              "164              Vietnam        23.3  ...   1310                     2\n",
              "165                Yemen        56.3  ...   1310                     0\n",
              "166               Zambia        83.1  ...   1460                     0\n",
              "\n",
              "[167 rows x 11 columns]"
            ]
          },
          "metadata": {
            "tags": []
          },
          "execution_count": 6
        }
      ]
    },
    {
      "cell_type": "code",
      "metadata": {
        "colab": {
          "base_uri": "https://localhost:8080/",
          "height": 419
        },
        "id": "mJbqcc0QshW4",
        "outputId": "8647135d-c8d8-4a36-e050-b9aab494a5a4"
      },
      "source": [
        "def clustering(column_list, col_name):\n",
        "  column_list = country_data[column_list]\n",
        "  from sklearn.preprocessing import StandardScaler\n",
        "  sc = StandardScaler()\n",
        "  X_std = sc.fit_transform(column_list)\n",
        "  km = KMeans(n_clusters=3, random_state=99).fit(X_std)\n",
        "  km.labels_\n",
        "  country_data[col_name] = km.labels_\n",
        "  return country_data\n",
        "\n",
        "econ_factor = ['exports', 'imports', 'income', 'inflation', 'gdpp']\n",
        "non_econ_factor = ['child_mort', 'health', 'life_expec', 'total_fer']\n",
        "\n",
        "clustering(econ_factor, ['econ_factor'])\n",
        "clustering(non_econ_factor, ['non_econ_factor'])"
      ],
      "execution_count": 7,
      "outputs": [
        {
          "output_type": "execute_result",
          "data": {
            "text/html": [
              "<div>\n",
              "<style scoped>\n",
              "    .dataframe tbody tr th:only-of-type {\n",
              "        vertical-align: middle;\n",
              "    }\n",
              "\n",
              "    .dataframe tbody tr th {\n",
              "        vertical-align: top;\n",
              "    }\n",
              "\n",
              "    .dataframe thead th {\n",
              "        text-align: right;\n",
              "    }\n",
              "</style>\n",
              "<table border=\"1\" class=\"dataframe\">\n",
              "  <thead>\n",
              "    <tr style=\"text-align: right;\">\n",
              "      <th></th>\n",
              "      <th>country</th>\n",
              "      <th>child_mort</th>\n",
              "      <th>exports</th>\n",
              "      <th>health</th>\n",
              "      <th>imports</th>\n",
              "      <th>income</th>\n",
              "      <th>inflation</th>\n",
              "      <th>life_expec</th>\n",
              "      <th>total_fer</th>\n",
              "      <th>gdpp</th>\n",
              "      <th>Predicted Categories</th>\n",
              "      <th>econ_factor</th>\n",
              "      <th>non_econ_factor</th>\n",
              "    </tr>\n",
              "  </thead>\n",
              "  <tbody>\n",
              "    <tr>\n",
              "      <th>0</th>\n",
              "      <td>Afghanistan</td>\n",
              "      <td>90.2</td>\n",
              "      <td>10.0</td>\n",
              "      <td>7.58</td>\n",
              "      <td>44.9</td>\n",
              "      <td>1610</td>\n",
              "      <td>9.44</td>\n",
              "      <td>56.2</td>\n",
              "      <td>5.82</td>\n",
              "      <td>553</td>\n",
              "      <td>0</td>\n",
              "      <td>0</td>\n",
              "      <td>1</td>\n",
              "    </tr>\n",
              "    <tr>\n",
              "      <th>1</th>\n",
              "      <td>Albania</td>\n",
              "      <td>16.6</td>\n",
              "      <td>28.0</td>\n",
              "      <td>6.55</td>\n",
              "      <td>48.6</td>\n",
              "      <td>9930</td>\n",
              "      <td>4.49</td>\n",
              "      <td>76.3</td>\n",
              "      <td>1.65</td>\n",
              "      <td>4090</td>\n",
              "      <td>2</td>\n",
              "      <td>0</td>\n",
              "      <td>2</td>\n",
              "    </tr>\n",
              "    <tr>\n",
              "      <th>2</th>\n",
              "      <td>Algeria</td>\n",
              "      <td>27.3</td>\n",
              "      <td>38.4</td>\n",
              "      <td>4.17</td>\n",
              "      <td>31.4</td>\n",
              "      <td>12900</td>\n",
              "      <td>16.10</td>\n",
              "      <td>76.5</td>\n",
              "      <td>2.89</td>\n",
              "      <td>4460</td>\n",
              "      <td>2</td>\n",
              "      <td>0</td>\n",
              "      <td>2</td>\n",
              "    </tr>\n",
              "    <tr>\n",
              "      <th>3</th>\n",
              "      <td>Angola</td>\n",
              "      <td>119.0</td>\n",
              "      <td>62.3</td>\n",
              "      <td>2.85</td>\n",
              "      <td>42.9</td>\n",
              "      <td>5900</td>\n",
              "      <td>22.40</td>\n",
              "      <td>60.1</td>\n",
              "      <td>6.16</td>\n",
              "      <td>3530</td>\n",
              "      <td>0</td>\n",
              "      <td>0</td>\n",
              "      <td>1</td>\n",
              "    </tr>\n",
              "    <tr>\n",
              "      <th>4</th>\n",
              "      <td>Antigua and Barbuda</td>\n",
              "      <td>10.3</td>\n",
              "      <td>45.5</td>\n",
              "      <td>6.03</td>\n",
              "      <td>58.9</td>\n",
              "      <td>19100</td>\n",
              "      <td>1.44</td>\n",
              "      <td>76.8</td>\n",
              "      <td>2.13</td>\n",
              "      <td>12200</td>\n",
              "      <td>2</td>\n",
              "      <td>0</td>\n",
              "      <td>2</td>\n",
              "    </tr>\n",
              "    <tr>\n",
              "      <th>...</th>\n",
              "      <td>...</td>\n",
              "      <td>...</td>\n",
              "      <td>...</td>\n",
              "      <td>...</td>\n",
              "      <td>...</td>\n",
              "      <td>...</td>\n",
              "      <td>...</td>\n",
              "      <td>...</td>\n",
              "      <td>...</td>\n",
              "      <td>...</td>\n",
              "      <td>...</td>\n",
              "      <td>...</td>\n",
              "      <td>...</td>\n",
              "    </tr>\n",
              "    <tr>\n",
              "      <th>162</th>\n",
              "      <td>Vanuatu</td>\n",
              "      <td>29.2</td>\n",
              "      <td>46.6</td>\n",
              "      <td>5.25</td>\n",
              "      <td>52.7</td>\n",
              "      <td>2950</td>\n",
              "      <td>2.62</td>\n",
              "      <td>63.0</td>\n",
              "      <td>3.50</td>\n",
              "      <td>2970</td>\n",
              "      <td>2</td>\n",
              "      <td>0</td>\n",
              "      <td>2</td>\n",
              "    </tr>\n",
              "    <tr>\n",
              "      <th>163</th>\n",
              "      <td>Venezuela</td>\n",
              "      <td>17.1</td>\n",
              "      <td>28.5</td>\n",
              "      <td>4.91</td>\n",
              "      <td>17.6</td>\n",
              "      <td>16500</td>\n",
              "      <td>45.90</td>\n",
              "      <td>75.4</td>\n",
              "      <td>2.47</td>\n",
              "      <td>13500</td>\n",
              "      <td>2</td>\n",
              "      <td>0</td>\n",
              "      <td>2</td>\n",
              "    </tr>\n",
              "    <tr>\n",
              "      <th>164</th>\n",
              "      <td>Vietnam</td>\n",
              "      <td>23.3</td>\n",
              "      <td>72.0</td>\n",
              "      <td>6.84</td>\n",
              "      <td>80.2</td>\n",
              "      <td>4490</td>\n",
              "      <td>12.10</td>\n",
              "      <td>73.1</td>\n",
              "      <td>1.95</td>\n",
              "      <td>1310</td>\n",
              "      <td>2</td>\n",
              "      <td>0</td>\n",
              "      <td>2</td>\n",
              "    </tr>\n",
              "    <tr>\n",
              "      <th>165</th>\n",
              "      <td>Yemen</td>\n",
              "      <td>56.3</td>\n",
              "      <td>30.0</td>\n",
              "      <td>5.18</td>\n",
              "      <td>34.4</td>\n",
              "      <td>4480</td>\n",
              "      <td>23.60</td>\n",
              "      <td>67.5</td>\n",
              "      <td>4.67</td>\n",
              "      <td>1310</td>\n",
              "      <td>0</td>\n",
              "      <td>0</td>\n",
              "      <td>1</td>\n",
              "    </tr>\n",
              "    <tr>\n",
              "      <th>166</th>\n",
              "      <td>Zambia</td>\n",
              "      <td>83.1</td>\n",
              "      <td>37.0</td>\n",
              "      <td>5.89</td>\n",
              "      <td>30.9</td>\n",
              "      <td>3280</td>\n",
              "      <td>14.00</td>\n",
              "      <td>52.0</td>\n",
              "      <td>5.40</td>\n",
              "      <td>1460</td>\n",
              "      <td>0</td>\n",
              "      <td>0</td>\n",
              "      <td>1</td>\n",
              "    </tr>\n",
              "  </tbody>\n",
              "</table>\n",
              "<p>167 rows × 13 columns</p>\n",
              "</div>"
            ],
            "text/plain": [
              "                 country  child_mort  ...  econ_factor  non_econ_factor\n",
              "0            Afghanistan        90.2  ...            0                1\n",
              "1                Albania        16.6  ...            0                2\n",
              "2                Algeria        27.3  ...            0                2\n",
              "3                 Angola       119.0  ...            0                1\n",
              "4    Antigua and Barbuda        10.3  ...            0                2\n",
              "..                   ...         ...  ...          ...              ...\n",
              "162              Vanuatu        29.2  ...            0                2\n",
              "163            Venezuela        17.1  ...            0                2\n",
              "164              Vietnam        23.3  ...            0                2\n",
              "165                Yemen        56.3  ...            0                1\n",
              "166               Zambia        83.1  ...            0                1\n",
              "\n",
              "[167 rows x 13 columns]"
            ]
          },
          "metadata": {
            "tags": []
          },
          "execution_count": 7
        }
      ]
    },
    {
      "cell_type": "markdown",
      "metadata": {
        "id": "RY-s2fj9RmYK"
      },
      "source": [
        "### Clustering results produced using all variables\n",
        "\n",
        "- The clustering results shows that `cluster 1` are mainly formed by African nations with some of the Middle-Eastern nations, while `cluster 2` covers majority of the North American countries, EU member states, and major economies. `Cluster 3` covers mid-size economies and geographically small and stable countries.\n",
        "\n",
        "- The results of the econ-factor based clustring\n",
        "\n",
        "      0. under-developing countries \n",
        "      1. developed countries\n",
        "      2. developing countries \n"
      ]
    },
    {
      "cell_type": "code",
      "metadata": {
        "colab": {
          "base_uri": "https://localhost:8080/"
        },
        "id": "A1ZXphgsw1Lm",
        "outputId": "ad5af793-7505-44e9-9ac4-d7ce04fedb53"
      },
      "source": [
        "|country_data['Predicted Categories'].value_counts()"
      ],
      "execution_count": 8,
      "outputs": [
        {
          "output_type": "execute_result",
          "data": {
            "text/plain": [
              "2    84\n",
              "0    47\n",
              "1    36\n",
              "Name: Predicted Categories, dtype: int64"
            ]
          },
          "metadata": {
            "tags": []
          },
          "execution_count": 8
        }
      ]
    },
    {
      "cell_type": "code",
      "metadata": {
        "colab": {
          "base_uri": "https://localhost:8080/"
        },
        "id": "9TUhQtZfrjKZ",
        "outputId": "e8ffcd89-d6aa-4a56-ae38-8955aac4a8a7"
      },
      "source": [
        "for i in range(3):\n",
        "    print(\"Cluster:\", i)\n",
        "    print(\"The Members:\", ' | '.join(list(country_data[country_data['Predicted Categories'] == i]['country'].values)))\n",
        "    print(\"Total Members:\", len(list(country_data[country_data['Predicted Categories'] == i]['country'].values)))\n",
        "    print()"
      ],
      "execution_count": 11,
      "outputs": [
        {
          "output_type": "stream",
          "text": [
            "Cluster: 0\n",
            "The Members: Afghanistan | Angola | Benin | Botswana | Burkina Faso | Burundi | Cameroon | Central African Republic | Chad | Comoros | Congo, Dem. Rep. | Congo, Rep. | Cote d'Ivoire | Equatorial Guinea | Eritrea | Gabon | Gambia | Ghana | Guinea | Guinea-Bissau | Haiti | Iraq | Kenya | Kiribati | Lao | Lesotho | Liberia | Madagascar | Malawi | Mali | Mauritania | Mozambique | Namibia | Niger | Nigeria | Pakistan | Rwanda | Senegal | Sierra Leone | South Africa | Sudan | Tanzania | Timor-Leste | Togo | Uganda | Yemen | Zambia\n",
            "Total Members: 47\n",
            "\n",
            "Cluster: 1\n",
            "The Members: Australia | Austria | Bahrain | Belgium | Brunei | Canada | Cyprus | Czech Republic | Denmark | Finland | France | Germany | Greece | Iceland | Ireland | Israel | Italy | Japan | Kuwait | Luxembourg | Malta | Netherlands | New Zealand | Norway | Portugal | Qatar | Singapore | Slovak Republic | Slovenia | South Korea | Spain | Sweden | Switzerland | United Arab Emirates | United Kingdom | United States\n",
            "Total Members: 36\n",
            "\n",
            "Cluster: 2\n",
            "The Members: Albania | Algeria | Antigua and Barbuda | Argentina | Armenia | Azerbaijan | Bahamas | Bangladesh | Barbados | Belarus | Belize | Bhutan | Bolivia | Bosnia and Herzegovina | Brazil | Bulgaria | Cambodia | Cape Verde | Chile | China | Colombia | Costa Rica | Croatia | Dominican Republic | Ecuador | Egypt | El Salvador | Estonia | Fiji | Georgia | Grenada | Guatemala | Guyana | Hungary | India | Indonesia | Iran | Jamaica | Jordan | Kazakhstan | Kyrgyz Republic | Latvia | Lebanon | Libya | Lithuania | Macedonia, FYR | Malaysia | Maldives | Mauritius | Micronesia, Fed. Sts. | Moldova | Mongolia | Montenegro | Morocco | Myanmar | Nepal | Oman | Panama | Paraguay | Peru | Philippines | Poland | Romania | Russia | Samoa | Saudi Arabia | Serbia | Seychelles | Solomon Islands | Sri Lanka | St. Vincent and the Grenadines | Suriname | Tajikistan | Thailand | Tonga | Tunisia | Turkey | Turkmenistan | Ukraine | Uruguay | Uzbekistan | Vanuatu | Venezuela | Vietnam\n",
            "Total Members: 84\n",
            "\n"
          ],
          "name": "stdout"
        }
      ]
    },
    {
      "cell_type": "markdown",
      "metadata": {
        "id": "mmCxDulpRuaI"
      },
      "source": [
        "### Clustering results using economic variables\n",
        "\n",
        "- The clustering results shows that the cetgorization is quite skewed that `cluster 0` has approx. 75% of the countries while `cluster 2` only contains small hyper-luxurious countries \n",
        "\n",
        "- The results of the econ-factor based clustring\n",
        "\n",
        "      0. under-developing countries \n",
        "      1. developing countries\n",
        "      2. developed countries \n",
        "\n"
      ]
    },
    {
      "cell_type": "code",
      "metadata": {
        "colab": {
          "base_uri": "https://localhost:8080/"
        },
        "id": "naK59Xnmwf5N",
        "outputId": "359581ca-5985-44c6-c65f-6e6ebb354aa4"
      },
      "source": [
        "country_data['econ_factor'].value_counts()"
      ],
      "execution_count": 10,
      "outputs": [
        {
          "output_type": "execute_result",
          "data": {
            "text/plain": [
              "0    124\n",
              "1     40\n",
              "2      3\n",
              "Name: econ_factor, dtype: int64"
            ]
          },
          "metadata": {
            "tags": []
          },
          "execution_count": 10
        }
      ]
    },
    {
      "cell_type": "code",
      "metadata": {
        "colab": {
          "base_uri": "https://localhost:8080/"
        },
        "id": "pMk1XwueSAnI",
        "outputId": "42b8a5a5-c683-46ad-a4b4-23471f333622"
      },
      "source": [
        "for i in range(3):\n",
        "    print(\"Cluster:\", i)\n",
        "    print(\"The Members:\", ' | '.join(list(country_data[country_data['econ_factor'] == i]['country'].values)))\n",
        "    print(\"Total Members:\", len(list(country_data[country_data['econ_factor'] == i]['country'].values)))\n",
        "    print()"
      ],
      "execution_count": 12,
      "outputs": [
        {
          "output_type": "stream",
          "text": [
            "Cluster: 0\n",
            "The Members: Afghanistan | Albania | Algeria | Angola | Antigua and Barbuda | Argentina | Armenia | Azerbaijan | Bangladesh | Barbados | Belarus | Belize | Benin | Bhutan | Bolivia | Bosnia and Herzegovina | Botswana | Brazil | Bulgaria | Burkina Faso | Burundi | Cambodia | Cameroon | Cape Verde | Central African Republic | Chad | Chile | China | Colombia | Comoros | Congo, Dem. Rep. | Congo, Rep. | Costa Rica | Cote d'Ivoire | Croatia | Dominican Republic | Ecuador | Egypt | El Salvador | Eritrea | Fiji | Gabon | Gambia | Georgia | Ghana | Grenada | Guatemala | Guinea | Guinea-Bissau | Guyana | Haiti | India | Indonesia | Iran | Iraq | Jamaica | Jordan | Kazakhstan | Kenya | Kiribati | Kyrgyz Republic | Lao | Latvia | Lebanon | Lesotho | Liberia | Libya | Lithuania | Macedonia, FYR | Madagascar | Malawi | Malaysia | Maldives | Mali | Mauritania | Mauritius | Micronesia, Fed. Sts. | Moldova | Mongolia | Montenegro | Morocco | Mozambique | Myanmar | Namibia | Nepal | Niger | Nigeria | Pakistan | Panama | Paraguay | Peru | Philippines | Poland | Romania | Russia | Rwanda | Samoa | Senegal | Serbia | Sierra Leone | Solomon Islands | South Africa | Sri Lanka | St. Vincent and the Grenadines | Sudan | Suriname | Tajikistan | Tanzania | Thailand | Timor-Leste | Togo | Tonga | Tunisia | Turkey | Turkmenistan | Uganda | Ukraine | Uruguay | Uzbekistan | Vanuatu | Venezuela | Vietnam | Yemen | Zambia\n",
            "Total Members: 124\n",
            "\n",
            "Cluster: 1\n",
            "The Members: Australia | Austria | Bahamas | Bahrain | Belgium | Brunei | Canada | Cyprus | Czech Republic | Denmark | Equatorial Guinea | Estonia | Finland | France | Germany | Greece | Hungary | Iceland | Ireland | Israel | Italy | Japan | Kuwait | Netherlands | New Zealand | Norway | Oman | Portugal | Qatar | Saudi Arabia | Seychelles | Slovak Republic | Slovenia | South Korea | Spain | Sweden | Switzerland | United Arab Emirates | United Kingdom | United States\n",
            "Total Members: 40\n",
            "\n",
            "Cluster: 2\n",
            "The Members: Luxembourg | Malta | Singapore\n",
            "Total Members: 3\n",
            "\n"
          ],
          "name": "stdout"
        }
      ]
    },
    {
      "cell_type": "markdown",
      "metadata": {
        "id": "iamomjPxR2m1"
      },
      "source": [
        "### Clustering results using non-economic variables\n",
        "\n",
        "- The clustering results shows that the cetgorization is fairly distributed, while some countries maybe misclassified considering their actual national economic status \n",
        "\n",
        "- The results of the econ-factor based clustring\n",
        "\n",
        "      0. developed countries \n",
        "      1. under-developing countries\n",
        "      2. developing countries "
      ]
    },
    {
      "cell_type": "code",
      "metadata": {
        "colab": {
          "base_uri": "https://localhost:8080/"
        },
        "id": "fwYURppKwyFw",
        "outputId": "fafdb2c2-85a7-499b-b4ee-6fe8b12879a5"
      },
      "source": [
        "country_data['non_econ_factor'].value_counts()"
      ],
      "execution_count": 9,
      "outputs": [
        {
          "output_type": "execute_result",
          "data": {
            "text/plain": [
              "2    68\n",
              "0    51\n",
              "1    48\n",
              "Name: non_econ_factor, dtype: int64"
            ]
          },
          "metadata": {
            "tags": []
          },
          "execution_count": 9
        }
      ]
    },
    {
      "cell_type": "code",
      "metadata": {
        "colab": {
          "base_uri": "https://localhost:8080/"
        },
        "id": "zQsDfMDXSKWL",
        "outputId": "807669ab-f9fe-4272-8c15-0e2befe8d74a"
      },
      "source": [
        "for i in range(3):\n",
        "    print(\"Cluster:\", i)\n",
        "    print(\"The Members:\", ' | '.join(list(country_data[country_data['non_econ_factor'] == i]['country'].values)))\n",
        "    print(\"Total Members:\", len(list(country_data[country_data['non_econ_factor'] == i]['country'].values)))\n",
        "    print()"
      ],
      "execution_count": 14,
      "outputs": [
        {
          "output_type": "stream",
          "text": [
            "Cluster: 0\n",
            "The Members: Argentina | Australia | Austria | Bahamas | Barbados | Belgium | Bosnia and Herzegovina | Brazil | Canada | Chile | Colombia | Costa Rica | Croatia | Czech Republic | Denmark | Ecuador | Finland | France | Georgia | Germany | Greece | Hungary | Iceland | Ireland | Israel | Italy | Japan | Jordan | Lebanon | Luxembourg | Malta | Micronesia, Fed. Sts. | Moldova | Montenegro | Netherlands | New Zealand | Norway | Panama | Poland | Portugal | Serbia | Slovak Republic | Slovenia | South Korea | Spain | Sweden | Switzerland | Ukraine | United Kingdom | United States | Uruguay\n",
            "Total Members: 51\n",
            "\n",
            "Cluster: 1\n",
            "The Members: Afghanistan | Angola | Benin | Botswana | Burkina Faso | Burundi | Cameroon | Central African Republic | Chad | Comoros | Congo, Dem. Rep. | Congo, Rep. | Cote d'Ivoire | Equatorial Guinea | Eritrea | Gabon | Gambia | Ghana | Guinea | Guinea-Bissau | Haiti | Iraq | Kenya | Kiribati | Lao | Lesotho | Liberia | Madagascar | Malawi | Mali | Mauritania | Mozambique | Namibia | Niger | Nigeria | Pakistan | Rwanda | Senegal | Sierra Leone | Solomon Islands | South Africa | Sudan | Tanzania | Timor-Leste | Togo | Uganda | Yemen | Zambia\n",
            "Total Members: 48\n",
            "\n",
            "Cluster: 2\n",
            "The Members: Albania | Algeria | Antigua and Barbuda | Armenia | Azerbaijan | Bahrain | Bangladesh | Belarus | Belize | Bhutan | Bolivia | Brunei | Bulgaria | Cambodia | Cape Verde | China | Cyprus | Dominican Republic | Egypt | El Salvador | Estonia | Fiji | Grenada | Guatemala | Guyana | India | Indonesia | Iran | Jamaica | Kazakhstan | Kuwait | Kyrgyz Republic | Latvia | Libya | Lithuania | Macedonia, FYR | Malaysia | Maldives | Mauritius | Mongolia | Morocco | Myanmar | Nepal | Oman | Paraguay | Peru | Philippines | Qatar | Romania | Russia | Samoa | Saudi Arabia | Seychelles | Singapore | Sri Lanka | St. Vincent and the Grenadines | Suriname | Tajikistan | Thailand | Tonga | Tunisia | Turkey | Turkmenistan | United Arab Emirates | Uzbekistan | Vanuatu | Venezuela | Vietnam\n",
            "Total Members: 68\n",
            "\n"
          ],
          "name": "stdout"
        }
      ]
    }
  ]
}